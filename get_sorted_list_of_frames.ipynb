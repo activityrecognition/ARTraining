{
 "cells": [
  {
   "cell_type": "code",
   "execution_count": 1,
   "metadata": {
    "collapsed": true
   },
   "outputs": [],
   "source": [
    "import os, sys, shutil\n",
    "from datetime import *\n",
    "from PIL import Image, ImageDraw, ImageFont\n",
    "from operator import itemgetter\n",
    "import numpy as np\n",
    "from os import environ"
   ]
  },
  {
   "cell_type": "code",
   "execution_count": 2,
   "metadata": {
    "collapsed": false
   },
   "outputs": [],
   "source": [
    "output_file= environ.get(\"output_file\",\"\")\n",
    "dataset_dir= environ.get(\"dataset_dir\",\"\")\n",
    "tim= environ.get(\"tim\",\"\")\n",
    "category = environ.get(\"category\",\"\")\n",
    "\n",
    "input_dir = os.path.join(dataset_dir, tim, category)\n",
    "videos = os.listdir(input_dir)"
   ]
  },
  {
   "cell_type": "code",
   "execution_count": 3,
   "metadata": {
    "collapsed": false
   },
   "outputs": [],
   "source": [
    "dates_of_video = []\n",
    "for video in videos:\n",
    "    name_of_video = os.path.basename(video)\n",
    "\n",
    "    # str_date_of_video = 2016-06-20T18%3A46%3A22\n",
    "    str_date_of_video = \"T\".join(os.path.splitext(name_of_video)[0].split(\"_\")[-2:])\n",
    "\n",
    "    # date_of_video = datetime(2016-06-20 18:46:22)\n",
    "    date_of_video = datetime.strptime(str_date_of_video,\"%Y-%m-%dT%H%%3A%M%%3A%S\")\n",
    "\n",
    "    #convert to argentinian date\n",
    "    date_of_video -= timedelta(hours=3)\n",
    "    \n",
    "    dates_of_video.append((date_of_video, video))\n",
    "    \n",
    "dates_of_video = sorted(dates_of_video, key=itemgetter(0))"
   ]
  },
  {
   "cell_type": "code",
   "execution_count": 4,
   "metadata": {
    "collapsed": false
   },
   "outputs": [
    {
     "data": {
      "text/plain": [
       "5324"
      ]
     },
     "execution_count": 4,
     "metadata": {},
     "output_type": "execute_result"
    }
   ],
   "source": [
    "sorted_frames = []\n",
    "for dat, video in dates_of_video:\n",
    "    video_dir = os.path.join(input_dir, video)\n",
    "    video_frames = os.listdir(video_dir)\n",
    "    \n",
    "    #[frame_id, frame_basename]\n",
    "    video_frames_with_ids = [(int(os.path.splitext(name)[0].replace(\"_\",\"\")), name) for name in video_frames if name.endswith(\".png\")]\n",
    "    video_frames_with_ids = sorted(video_frames_with_ids, key=itemgetter(0))\n",
    "    for _,frame_basename in video_frames_with_ids:\n",
    "        full_path = os.path.join(video_dir, frame_basename)\n",
    "        \n",
    "        img = Image.open(full_path)\n",
    "        extrema = img.convert(\"L\").getextrema()\n",
    "        if abs(extrema[1]-extrema[0]) < 20:\n",
    "            continue\n",
    "        \n",
    "        sorted_frames.append(full_path)\n",
    "        \n",
    "len(sorted_frames)"
   ]
  },
  {
   "cell_type": "code",
   "execution_count": 5,
   "metadata": {
    "collapsed": true
   },
   "outputs": [],
   "source": [
    "with open(output_file, \"w\") as f:\n",
    "    for frame_path in sorted_frames:\n",
    "        f.write(\"%s\\n\"%frame_path)"
   ]
  },
  {
   "cell_type": "code",
   "execution_count": null,
   "metadata": {
    "collapsed": true
   },
   "outputs": [],
   "source": []
  }
 ],
 "metadata": {
  "kernelspec": {
   "display_name": "Python 2",
   "language": "python",
   "name": "python2"
  },
  "language_info": {
   "codemirror_mode": {
    "name": "ipython",
    "version": 2
   },
   "file_extension": ".py",
   "mimetype": "text/x-python",
   "name": "python",
   "nbconvert_exporter": "python",
   "pygments_lexer": "ipython2",
   "version": "2.7.6"
  }
 },
 "nbformat": 4,
 "nbformat_minor": 0
}
