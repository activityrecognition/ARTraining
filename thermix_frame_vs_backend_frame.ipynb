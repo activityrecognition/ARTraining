{
 "cells": [
  {
   "cell_type": "code",
   "execution_count": 74,
   "metadata": {
    "collapsed": false
   },
   "outputs": [
    {
     "name": "stdout",
     "output_type": "stream",
     "text": [
      "Real Thermal Image\n"
     ]
    },
    {
     "data": {
      "image/png": "[encoded data removed]",
      "text/plain": [
       "<PIL.Image.Image image mode=L size=240x320 at 0x7FA2AF062AD0>"
      ]
     },
     "metadata": {},
     "output_type": "display_data"
    },
    {
     "name": "stdout",
     "output_type": "stream",
     "text": [
      "H.264 Lossy Thermal Image\n"
     ]
    },
    {
     "data": {
      "image/png": "[encoded data removed]",
      "text/plain": [
       "<PIL.Image.Image image mode=L size=240x320 at 0x7FA2AF062590>"
      ]
     },
     "metadata": {},
     "output_type": "display_data"
    },
    {
     "name": "stdout",
     "output_type": "stream",
     "text": [
      "Difference between real and lossy: 17775\n"
     ]
    },
    {
     "data": {
      "image/png": "[encoded data removed]",
      "text/plain": [
       "<PIL.Image.Image image mode=L size=240x320 at 0x7FA2D1FE8310>"
      ]
     },
     "metadata": {},
     "output_type": "display_data"
    }
   ],
   "source": [
    "from PIL import Image\n",
    "from IPython.display import display\n",
    "import numpy as np\n",
    "\n",
    "#real_url=\"/workspace/data/thermix_data/thermix_frame_example/2016-10-19 00:03:12 +0000_first.png\"\n",
    "#backend_url=\"/workspace/data/thermix_data/debug_no_resized/14_tim/3/Users_pablo.pusiol_unkown_2016-10-19_00%3A03%3A13.000000_1/0_2.png\"\n",
    "real_url=\"/workspace/data/thermix_data/fede_debug_from_thermix/2016-10-19 17:40:04 +0000_first.png\"\n",
    "backend_url=\"/workspace/data/thermix_data/fede_debug_no_resized/14_tim/3/Users_fede.polacov_unkown_2016-10-19_17%3A40%3A04.000000_1/0_2.png\"\n",
    "\n",
    "print \"Real Thermal Image\"\n",
    "real_img = Image.open(real_url)\n",
    "#real_img=real_img.convert(\"RGB\")\n",
    "real_img=real_img.split()[0]\n",
    "display(real_img)\n",
    "\n",
    "print \"H.264 Lossy Thermal Image\"\n",
    "backend_img = Image.open(backend_url)\n",
    "backend_img = backend_img.split()[0]\n",
    "display(backend_img)\n",
    "\n",
    "err = (np.asarray(real_img).astype(\"int8\") - np.asarray(backend_img).astype(\"int8\"))\n",
    "\n",
    "print \"Difference between real and lossy:\",np.sum(err)\n",
    "display(Image.fromarray(err, 'L'))"
   ]
  },
  {
   "cell_type": "code",
   "execution_count": 75,
   "metadata": {
    "collapsed": false
   },
   "outputs": [
    {
     "name": "stdout",
     "output_type": "stream",
     "text": [
      "Counter({0: 57638, 1: 17622, -1: 971, 2: 480, 3: 62, -2: 17, 4: 6, -3: 4})\n"
     ]
    }
   ],
   "source": [
    "import collections\n",
    "\n",
    "a=[]\n",
    "[a.extend(x) for x in err.tolist()]\n",
    "b = collections.Counter(a)\n",
    "#total: 29828 (38.84 %)\n",
    "print b"
   ]
  },
  {
   "cell_type": "code",
   "execution_count": null,
   "metadata": {
    "collapsed": true
   },
   "outputs": [],
   "source": [
    "# resizing and compering again\n",
    "url=\"/workspace/data/thermix_data/thermix_frame_example/2016-10-19 00:03:12 +0000_first.png\"\n",
    "url1=\"/workspace/data/thermix_data/thermix_frame_example/2016-10-19 00:03:12 +0000_cnn.png\"\n",
    "url2=\"/workspace/data/thermix_data/frames_no_movement/debug_frames_no_movement/14_tim/3/Users_pablo.pusiol_unkown_2016-10-19_00%3A03%3A13.000000_1/0_0.png\"\n",
    "\n",
    "print \"Local-Resized Real Thermal Image\"\n",
    "img = Image.open(url)\n",
    "img=img.convert(\"RGB\")\n",
    "img=img.resize((257,257))\n",
    "display(img)\n",
    "\n",
    "print \"Iphone-Resized Real Thermal Image\"\n",
    "img1 = Image.open(url1)\n",
    "img1=img1.convert(\"RGB\")\n",
    "display(img1)\n",
    "\n",
    "print \"Difference between local-resized and iphone-resized:\",np.sum((np.asarray(img).astype(\"int8\") - np.asarray(img1).astype(\"int8\")))\n",
    "\n",
    "print \"H.264 Lossy Thermal Image\"\n",
    "img2 = Image.open(url2)\n",
    "rimg2=img2.split()[0]\n",
    "display(img2)\n",
    "\n",
    "err = (np.asarray(img).astype(\"int8\") - np.asarray(img2).astype(\"int8\"))\n",
    "\n",
    "err1 = (np.asarray(img1).astype(\"int8\") - np.asarray(img2).astype(\"int8\"))\n",
    "\n",
    "print \"Difference between local-resized real and lossy:\",np.sum(err)\n",
    "display(Image.fromarray(err, 'RGB'))"
   ]
  },
  {
   "cell_type": "code",
   "execution_count": null,
   "metadata": {
    "collapsed": true
   },
   "outputs": [],
   "source": []
  }
 ],
 "metadata": {
  "kernelspec": {
   "display_name": "Python 2",
   "language": "python",
   "name": "python2"
  },
  "language_info": {
   "codemirror_mode": {
    "name": "ipython",
    "version": 2
   },
   "file_extension": ".py",
   "mimetype": "text/x-python",
   "name": "python",
   "nbconvert_exporter": "python",
   "pygments_lexer": "ipython2",
   "version": "2.7.6"
  }
 },
 "nbformat": 4,
 "nbformat_minor": 0
}
