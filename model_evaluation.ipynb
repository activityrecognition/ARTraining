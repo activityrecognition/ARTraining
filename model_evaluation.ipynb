{
 "cells": [
  {
   "cell_type": "code",
   "execution_count": 1,
   "metadata": {
    "collapsed": false
   },
   "outputs": [],
   "source": [
    "import os\n",
    "from os.path import *"
   ]
  },
  {
   "cell_type": "code",
   "execution_count": 2,
   "metadata": {
    "collapsed": true
   },
   "outputs": [],
   "source": [
    "validation='/media/Gui2/thermix/ARTraining/trained_models/thermix_38a/thermix_38a_testing.txt'\n",
    "'''\n",
    "if !predictions, run:\n",
    "    go\n",
    "    cd ccv/bin\n",
    "    ./cnnclassify /media/Gui2/thermix/ARTraining/trained_models/thermix_38a/thermix_38a_testing.txt \\\n",
    "                    /media/Gui2/thermix/ARTraining/trained_models/thermix_38a/thermix_38a.sqlite3 \\\n",
    "                    /media/Gui2/thermix/dataset_poses_people_background \\\n",
    "                    | tee /media/Gui2/thermix/ARTraining/trained_models/thermix_38a/thermix_38a_testing_predictions.txt\n",
    "'''\n",
    "predictions='/media/Gui2/thermix/ARTraining/trained_models/thermix_38a/thermix_38a_testing_predictions.txt'"
   ]
  },
  {
   "cell_type": "code",
   "execution_count": 3,
   "metadata": {
    "collapsed": true
   },
   "outputs": [],
   "source": [
    "def get_validation_vs_prediction():\n",
    "    \n",
    "    val_file = open(validation, 'r')\n",
    "    val_lines = val_file.readlines()\n",
    "    val_file.close()\n",
    "\n",
    "    pred_file = open(predictions, 'r')\n",
    "    pred_lines = pred_file.readlines()\n",
    "    pred_file.close()\n",
    "        \n",
    "    vals = []\n",
    "    for line in val_lines:\n",
    "        c, p = line.rstrip().split(' ')\n",
    "        vals.append([c, p])\n",
    "        \n",
    "    preds = []\n",
    "    for line in pred_lines:\n",
    "        p, c, s = line.rstrip().split(' ')\n",
    "        preds.append([c, p, s])\n",
    "        \n",
    "    assert len(vals) == len(preds)\n",
    "    \n",
    "    all_data = []\n",
    "    for v in vals:\n",
    "        for p in preds:\n",
    "            if v[1] in p:\n",
    "                all_data.append([v[1], v[0], p[0], p[2]])\n",
    "    \n",
    "    # all_data[i] = [<path_i>, <real_class_i>, <predicted_class_i>, <prediction_score_i>]\n",
    "    return all_data"
   ]
  },
  {
   "cell_type": "code",
   "execution_count": 56,
   "metadata": {
    "collapsed": false
   },
   "outputs": [],
   "source": [
    "def confusion_matrix(population):\n",
    "    print 'positive => lying, sitting, standing, people (interesting)'\n",
    "    print 'negative => background (not interesting)'\n",
    "    print '-----'\n",
    "    \n",
    "    tp = []\n",
    "    tn = []\n",
    "    fp = []\n",
    "    fn = []\n",
    "\n",
    "    condition_positive = [[y,h] for [y,h] in data if is_positive(y)]\n",
    "    condition_negative = [[y,h] for [y,h] in data if is_negative(y)]\n",
    "    \n",
    "    assert(len(population) == len(condition_negative)+len(condition_positive))\n",
    "    \n",
    "    for y,h in population:\n",
    "        # true positive => y == 1,2,3,4 and h == 1,2,3,4\n",
    "        if is_positive(y) and is_positive(h):\n",
    "            tp.append([y,h])\n",
    "        # get true negatives\n",
    "        elif is_negative(y) and is_negative(h):\n",
    "            tn.append([y,h])\n",
    "        # get false positives => y == 5 and h == 1,2,3,4\n",
    "        elif is_negative(y) and is_positive(h):\n",
    "            fp.append([y,h])\n",
    "        # get false negatives\n",
    "        elif is_positive(y) and is_negative(h):\n",
    "            fn.append([y,h])\n",
    "            \n",
    "    assert(len(tp)+len(tn)+len(fp)+len(fn) == len(population))\n",
    "    \n",
    "    sensitivity = count(tp)/count(condition_positive)\n",
    "    specificity = count(tn)/count(condition_negative)\n",
    "    precision = count(tp)/(count(tp)+count(fp))\n",
    "    negative_predictive_value = count(tn)/(count(tn)+count(fn))\n",
    "    accuracy = (count(tp)+count(tn))/(count(population))\n",
    "    \n",
    "    print 'accuracy: '+str(accuracy*100)+' %'\n",
    "    print 'sensitivity (recall, true positive rate): '+str(sensitivity*100)+' %'\n",
    "    print 'specificity (true negative rate): '+str(specificity*100)+' %'\n",
    "    print 'precision (positive predictive value) : '+str(precision*100)+' %'\n",
    "    print 'negative predictive value: '+str(negative_predictive_value*100)+' %'\n",
    "    print 'fall-out (false positive rate): '+str((1-specificity)*100)+' %'\n",
    "    print 'miss-rate (false negative rate): '+str((1-sensitivity)*100)+' %'\n",
    "    print 'false-discovery-rate: '+str((1-precision)*100)+' %'\n",
    "    \n",
    "    \n",
    "def is_positive(x):\n",
    "    return (x == 1 or x == 2 or x == 3 or x == 4)\n",
    "\n",
    "def is_negative(x):\n",
    "    return (x == 5)\n",
    "\n",
    "def count(arr):\n",
    "    return float(len(arr))"
   ]
  },
  {
   "cell_type": "code",
   "execution_count": 61,
   "metadata": {
    "collapsed": false
   },
   "outputs": [
    {
     "name": "stdout",
     "output_type": "stream",
     "text": [
      "validation: thermix_38a_testing.txt ,predictions: thermix_38a_testing_predictions.txt\n",
      "-----\n",
      "positive => lying, sitting, standing, people (interesting)\n",
      "negative => background (not interesting)\n",
      "-----\n",
      "accuracy: 96.1865569273 %\n",
      "sensitivity (recall, true positive rate): 96.5235173824 %\n",
      "specificity (true negative rate): 94.7960618847 %\n",
      "precision (positive predictive value) : 98.710352039 %\n",
      "negative predictive value: 86.8556701031 %\n",
      "fall-out (false positive rate): 5.20393811533 %\n",
      "miss-rate (false-negative-rate): 3.47648261759 %\n",
      "false-discovery-rate: 1.28964796096 %\n"
     ]
    }
   ],
   "source": [
    "print 'validation: '+os.path.basename(validation)+' ,predictions: '+os.path.basename(predictions)\n",
    "print '-----'\n",
    "data = [[int(y),int(h)] for _,y,h,_ in get_validation_vs_prediction()]\n",
    "confusion_matrix(data)"
   ]
  },
  {
   "cell_type": "code",
   "execution_count": null,
   "metadata": {
    "collapsed": true
   },
   "outputs": [],
   "source": []
  }
 ],
 "metadata": {
  "kernelspec": {
   "display_name": "Python 2",
   "language": "python",
   "name": "python2"
  },
  "language_info": {
   "codemirror_mode": {
    "name": "ipython",
    "version": 2
   },
   "file_extension": ".py",
   "mimetype": "text/x-python",
   "name": "python",
   "nbconvert_exporter": "python",
   "pygments_lexer": "ipython2",
   "version": "2.7.6"
  }
 },
 "nbformat": 4,
 "nbformat_minor": 0
}
