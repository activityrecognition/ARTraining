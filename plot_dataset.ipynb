{
 "cells": [
  {
   "cell_type": "code",
   "execution_count": 18,
   "metadata": {
    "collapsed": false
   },
   "outputs": [],
   "source": [
    "import plotly\n",
    "import plotly.plotly as py\n",
    "from plotly.graph_objs import *\n",
    "import os\n",
    "import requests\n",
    "from os import environ\n",
    "\n",
    "requests.packages.urllib3.disable_warnings()\n",
    "\n",
    "plotly.tools.set_credentials_file(username='pusiol', api_key='m6iurl7f89')"
   ]
  },
  {
   "cell_type": "code",
   "execution_count": 34,
   "metadata": {
    "collapsed": false
   },
   "outputs": [],
   "source": [
    "default_output_dir = '/media/Gui2/thermix/ARTraining/trained_models/thermix_19_07-06-2016'\n",
    "\n",
    "output_dir = environ.get(\"output_dir\",default_output_dir)\n",
    "\n",
    "files = os.listdir(output_dir)\n",
    "proportion_file = [item for item in files if item.startswith(\"output\") and item.endswith(\"txt\")][0]\n",
    "proportion_filepath = os.path.join(output_dir, proportion_file)\n",
    "\n",
    "categories_file = [item for item in files if item.endswith(\"_links.txt\")][0]\n",
    "categories_filepath = os.path.join(output_dir, categories_file)\n",
    "\n",
    "model_name = os.path.basename(output_dir)[:-11]"
   ]
  },
  {
   "cell_type": "code",
   "execution_count": 35,
   "metadata": {
    "collapsed": false
   },
   "outputs": [],
   "source": [
    "# file structure\n",
    "#* category 1:\n",
    "#** total_frames= 5929\n",
    "#** testing_frames= 1153 (20.19%)\n",
    "#** training_frames= 4568\n",
    "\n",
    "with open(proportion_filepath,'r') as f:\n",
    "    # get all lines in file\n",
    "    lines = f.readlines()\n",
    "\n",
    "    # proportion_info = [(\"1\", 1153, 4568),...]\n",
    "    proportion_info = []\n",
    "    for i,line in enumerate(lines):\n",
    "        if not line.startswith(\"* category \"):\n",
    "            continue\n",
    "        \n",
    "        cat = line.split(\" \")[2][:-1]\n",
    "        testing_frames = lines[i+2].split(\" \")[2]\n",
    "        training_frames = lines[i+3].split(\" \")[2][:-1]\n",
    "        \n",
    "        proportion_info.append((cat, testing_frames, training_frames))"
   ]
  },
  {
   "cell_type": "code",
   "execution_count": 40,
   "metadata": {
    "collapsed": false
   },
   "outputs": [
    {
     "name": "stdout",
     "output_type": "stream",
     "text": [
      "['1 lying \\n', '2 sitting \\n', '3 standing \\n', '4 indoor \\n', '5 close up \\n']\n"
     ]
    }
   ],
   "source": [
    "#file structure\n",
    "#1 lying\n",
    "#2 sitting\n",
    "#3 standing\n",
    "#4 indoor\n",
    "\n",
    "with open(categories_filepath, \"r\") as f:\n",
    "    # get all lines in file\n",
    "    lines = f.readlines()\n",
    "    print lines\n",
    "    # cat_info = {\"1\": \"lying\",...}\n",
    "    cat_info = {}\n",
    "    for line in lines:\n",
    "        cat_id, cat_name = line.split(\" \",1)\n",
    "        cat_info[cat_id] = cat_name[:-2]"
   ]
  },
  {
   "cell_type": "code",
   "execution_count": 41,
   "metadata": {
    "collapsed": false
   },
   "outputs": [
    {
     "data": {
      "text/html": [
       "<iframe id=\"igraph\" scrolling=\"no\" style=\"border:none;\" seamless=\"seamless\" src=\"https://plot.ly/~pusiol/127.embed\" height=\"525px\" width=\"100%\"></iframe>"
      ],
      "text/plain": [
       "<plotly.tools.PlotlyDisplay object>"
      ]
     },
     "execution_count": 41,
     "metadata": {},
     "output_type": "execute_result"
    }
   ],
   "source": [
    "xs = [cat_info[item] for item,_,_ in proportion_info] \n",
    "testing = [item for _,item,_ in proportion_info]\n",
    "training = [item for _,_,item in proportion_info]\n",
    "\n",
    "#plot daily active users\n",
    "data = [Bar(\n",
    "            x=xs,\n",
    "            y=testing,\n",
    "            name=\"testing\"),\n",
    "        Bar(\n",
    "            x=xs,\n",
    "            y=training,\n",
    "            name=\"training\"),\n",
    "       ]\n",
    "\n",
    "layout = Layout(title='%s dataset split'%model_name, barmode='group')\n",
    "\n",
    "# Plot and embed in ipython notebook!\n",
    "fig = dict(data=data, layout=layout)\n",
    "\n",
    "#upload to guido's account\n",
    "py.iplot(fig, filename=\"%s_dataset_split\"%model_name, sharing='private')\n",
    "py.iplot(fig, filename=\"lastest_dataset_split\", sharing='private')"
   ]
  },
  {
   "cell_type": "code",
   "execution_count": null,
   "metadata": {
    "collapsed": true
   },
   "outputs": [],
   "source": []
  }
 ],
 "metadata": {
  "kernelspec": {
   "display_name": "Python 2",
   "language": "python",
   "name": "python2"
  },
  "language_info": {
   "codemirror_mode": {
    "name": "ipython",
    "version": 2
   },
   "file_extension": ".py",
   "mimetype": "text/x-python",
   "name": "python",
   "nbconvert_exporter": "python",
   "pygments_lexer": "ipython2",
   "version": "2.7.6"
  }
 },
 "nbformat": 4,
 "nbformat_minor": 0
}
