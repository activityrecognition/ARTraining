{
 "cells": [
  {
   "cell_type": "code",
   "execution_count": 1,
   "metadata": {
    "collapsed": true
   },
   "outputs": [],
   "source": [
    "import os"
   ]
  },
  {
   "cell_type": "code",
   "execution_count": 2,
   "metadata": {
    "collapsed": false
   },
   "outputs": [
    {
     "name": "stdout",
     "output_type": "stream",
     "text": [
      "Henry_001\n",
      "Fiona_001\n",
      "Henry_004\n",
      "Victor_002\n"
     ]
    }
   ],
   "source": [
    "frames_no_movement_path = \"../ARThermal/frames_no_movement\"\n",
    "\n",
    "rotation_logs = {}\n",
    "for group in os.listdir(frames_no_movement_path):\n",
    "    group_path = os.path.join(frames_no_movement_path, group, \"14_tim\")\n",
    "    if not os.path.isdir(group_path):\n",
    "        continue\n",
    "        \n",
    "    if \"rotation_log.txt\" in os.listdir(group_path):\n",
    "        with open(os.path.join(group_path, \"rotation_log.txt\"),\"r\") as f:\n",
    "            rotation_logs[group[:-len(\"_frames_no_movement\")]] = f.readlines()\n",
    "            print group[:-len(\"_frames_no_movement\")]"
   ]
  },
  {
   "cell_type": "code",
   "execution_count": 3,
   "metadata": {
    "collapsed": false
   },
   "outputs": [
    {
     "name": "stdout",
     "output_type": "stream",
     "text": [
      "Fiona_001 2016-07-08T17:19:49 2016-07-10T04:40:00\n",
      "Henry_001 2016-07-16T12:18:23 2016-07-17T20:52:35\n",
      "Henry_001 2016-07-17T20:52:36 2016-07-19T01:28:22\n",
      "Victor_002 2016-07-25T18:28:22 2016-07-25T18:47:56\n",
      "Henry_004 2016-07-25T18:28:22 2016-07-25T18:52:21\n"
     ]
    }
   ],
   "source": [
    "rotation_ranges = {}\n",
    "for group in rotation_logs.keys():\n",
    "    rotation_log = rotation_logs[group]\n",
    "    rotation_ranges[group] = []\n",
    "    for i in range(len(rotation_log)/2):\n",
    "        from_date = rotation_log[i*2][len(\"rotation_performed_from_date \"):-1]\n",
    "        to_date = rotation_log[i*2+1][len(\"rotation_performed_until_date \"):-1]\n",
    "        rotation_ranges[group].append((from_date,to_date))\n",
    "        print group, from_date, to_date"
   ]
  },
  {
   "cell_type": "code",
   "execution_count": 4,
   "metadata": {
    "collapsed": false
   },
   "outputs": [
    {
     "name": "stdout",
     "output_type": "stream",
     "text": [
      "dataset_dir=../ARThermal/public_dataset/Fiona_001 from_date=2016-07-08T17:19:49 to_date=2016-07-10T04:40:00 runipy rotate_frames_among_dates.ipynb\n",
      "dataset_dir=../ARThermal/public_dataset/Henry_001 from_date=2016-07-16T12:18:23 to_date=2016-07-17T20:52:35 runipy rotate_frames_among_dates.ipynb\n",
      "dataset_dir=../ARThermal/public_dataset/Henry_001 from_date=2016-07-17T20:52:36 to_date=2016-07-19T01:28:22 runipy rotate_frames_among_dates.ipynb\n",
      "dataset_dir=../ARThermal/public_dataset/Victor_002 from_date=2016-07-25T18:28:22 to_date=2016-07-25T18:47:56 runipy rotate_frames_among_dates.ipynb\n",
      "dataset_dir=../ARThermal/public_dataset/Henry_004 from_date=2016-07-25T18:28:22 to_date=2016-07-25T18:52:21 runipy rotate_frames_among_dates.ipynb\n"
     ]
    }
   ],
   "source": [
    "for group in rotation_ranges.keys():\n",
    "    ranges = rotation_ranges[group]\n",
    "    for from_date,to_date in ranges:\n",
    "        print \"dataset_dir=../ARThermal/public_dataset/%s from_date=%s to_date=%s runipy rotate_frames_among_dates.ipynb\" % (group,from_date,to_date)"
   ]
  },
  {
   "cell_type": "code",
   "execution_count": null,
   "metadata": {
    "collapsed": true
   },
   "outputs": [],
   "source": []
  }
 ],
 "metadata": {
  "kernelspec": {
   "display_name": "Python 2",
   "language": "python",
   "name": "python2"
  },
  "language_info": {
   "codemirror_mode": {
    "name": "ipython",
    "version": 2
   },
   "file_extension": ".py",
   "mimetype": "text/x-python",
   "name": "python",
   "nbconvert_exporter": "python",
   "pygments_lexer": "ipython2",
   "version": "2.7.6"
  }
 },
 "nbformat": 4,
 "nbformat_minor": 0
}
