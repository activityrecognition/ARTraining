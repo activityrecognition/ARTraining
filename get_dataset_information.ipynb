{
 "cells": [
  {
   "cell_type": "code",
   "execution_count": 1,
   "metadata": {
    "collapsed": false
   },
   "outputs": [
    {
     "name": "stdout",
     "output_type": "stream",
     "text": [
      "category: 1 acted: 3099 thermset: 3741 total: 6840\n",
      "category: 2 acted: 5463 thermset: 1317 total: 6780\n",
      "category: 3 acted: 3021 thermset: 3144 total: 6165\n",
      "category: 4 acted: 4488 thermset: 2427 total: 6915\n",
      "category: 5 acted: 5547 thermset: 2097 total: 7644\n",
      "total_acted: 21618 total_thermset: 12726\n",
      "total: 34344\n"
     ]
    }
   ],
   "source": [
    "#select random images from dataset\n",
    "import os, random\n",
    "\n",
    "total_acted = 0\n",
    "total_thermset = 0\n",
    "path = \"/media/Gui2/thermix/dataset_merged/\"\n",
    "images_paths = []\n",
    "for i in range(1,6):\n",
    "    videos = [os.path.join(path,\"14_tim\",\"%d\"%i, d) for d in os.listdir(os.path.join(path, \"14_tim\",\"%d\"%i))]\n",
    "    videos_thermset = [v for v in videos if \"golden5s\" in v or \"black5\" in v or \"ipod5\" in v]\n",
    "    videos_acted = [v for v in videos if v not in videos_thermset]\n",
    "    \n",
    "    acted_len = sum([len(os.listdir(v)) for v in videos_acted])\n",
    "    thermset_len = sum([len(os.listdir(v)) for v in videos_thermset])\n",
    "    print \"category:\",i,\"acted:\",acted_len,\"thermset:\",thermset_len,\"total:\",acted_len+thermset_len\n",
    "    total_acted += acted_len\n",
    "    total_thermset += thermset_len\n",
    "print \"total_acted:\",total_acted,\"total_thermset:\",total_thermset\n",
    "print \"total:\",total_acted+total_thermset"
   ]
  },
  {
   "cell_type": "code",
   "execution_count": null,
   "metadata": {
    "collapsed": true
   },
   "outputs": [],
   "source": []
  }
 ],
 "metadata": {
  "kernelspec": {
   "display_name": "Python 2",
   "language": "python",
   "name": "python2"
  },
  "language_info": {
   "codemirror_mode": {
    "name": "ipython",
    "version": 2
   },
   "file_extension": ".py",
   "mimetype": "text/x-python",
   "name": "python",
   "nbconvert_exporter": "python",
   "pygments_lexer": "ipython2",
   "version": "2.7.6"
  }
 },
 "nbformat": 4,
 "nbformat_minor": 0
}
