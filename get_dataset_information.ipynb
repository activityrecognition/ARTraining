{
 "cells": [
  {
   "cell_type": "code",
   "execution_count": 3,
   "metadata": {
    "collapsed": false,
    "run_control": {
     "frozen": false,
     "read_only": false
    }
   },
   "outputs": [
    {
     "name": "stdout",
     "output_type": "stream",
     "text": [
      "category: 1 acted: 2246 thermset: 2809 total: 5055\n",
      "category: 2 acted: 3773 thermset: 1285 total: 5058\n",
      "category: 3 acted: 3021 thermset: 2034 total: 5055\n",
      "category: 4 acted: 3807 thermset: 1296 total: 5103\n",
      "category: 5 acted: 4117 thermset: 938 total: 5055\n",
      "total_acted: 16964 total_thermset: 8362\n",
      "total: 25326\n"
     ]
    }
   ],
   "source": [
    "#select random images from dataset\n",
    "import os, random\n",
    "\n",
    "total_acted = 0\n",
    "total_thermset = 0\n",
    "all_videos = {}\n",
    "path = \"/workspace/thermix/ARTraining/trained_models/thermix_42a/thermix_42a_training.txt\"\n",
    "with open(path) as f:\n",
    "    lines = f.readlines()\n",
    "    for i in range(1,6):\n",
    "        all_videos[i] = [line.split()[1] for line in lines if line.startswith(str(i))]\n",
    "\n",
    "path = \"/workspace/thermix/ARTraining/trained_models/thermix_42a/thermix_42a_testing.txt\"\n",
    "with open(path) as f:\n",
    "    lines = f.readlines()\n",
    "    for i in range(1,6):\n",
    "        all_videos[i].extend([line.split()[1] for line in lines if line.startswith(str(i))])\n",
    "        \n",
    "images_paths = []\n",
    "for i in range(1,6):\n",
    "    videos = all_videos[i]\n",
    "    videos_thermset = [v for v in videos if \"golden5s\" in v or \"black5\" in v or \"ipod5\" in v]\n",
    "    videos_acted = [v for v in videos if v not in videos_thermset]\n",
    "    \n",
    "    acted_len = len(videos_acted)\n",
    "    thermset_len = len(videos_thermset)\n",
    "    print \"category:\",i,\"acted:\",acted_len,\"thermset:\",thermset_len,\"total:\",acted_len+thermset_len\n",
    "    total_acted += acted_len\n",
    "    total_thermset += thermset_len\n",
    "print \"total_acted:\",total_acted,\"total_thermset:\",total_thermset\n",
    "print \"total:\",total_acted+total_thermset"
   ]
  },
  {
   "cell_type": "code",
   "execution_count": null,
   "metadata": {
    "collapsed": true,
    "run_control": {
     "frozen": false,
     "read_only": false
    }
   },
   "outputs": [],
   "source": [
    "category: 1 acted: 1817 thermset: 2227 total: 4044\n",
    "category: 2 acted: 3086 thermset: 958 total: 4044\n",
    "category: 3 acted: 2448 thermset: 1596 total: 4044\n",
    "category: 4 acted: 3096 thermset: 948 total: 4044\n",
    "category: 5 acted: 3235 thermset: 809 total: 4044\n",
    "total_acted: 13682 total_thermset: 6538\n",
    "total: 20220\n",
    "\n",
    "​"
   ]
  }
 ],
 "metadata": {
  "kernelspec": {
   "display_name": "Python 2",
   "language": "python",
   "name": "python2"
  },
  "language_info": {
   "codemirror_mode": {
    "name": "ipython",
    "version": 2
   },
   "file_extension": ".py",
   "mimetype": "text/x-python",
   "name": "python",
   "nbconvert_exporter": "python",
   "pygments_lexer": "ipython2",
   "version": "2.7.6"
  }
 },
 "nbformat": 4,
 "nbformat_minor": 0
}
