{
 "cells": [
  {
   "cell_type": "code",
   "execution_count": 1,
   "metadata": {
    "collapsed": true
   },
   "outputs": [],
   "source": [
    "import json, os\n",
    "\n",
    "#add false positive and false negative to list of avoided files\n",
    "tensorbox_input_filepath = \"../ARThermal/tensorbox_dataset/tensorbox_input.json\"\n",
    "images_to_avoid_filepath=\"../ARThermal/tensorbox_dataset/images_to_avoid.txt\""
   ]
  },
  {
   "cell_type": "code",
   "execution_count": 2,
   "metadata": {
    "collapsed": true
   },
   "outputs": [],
   "source": [
    "####################################################################\n",
    "##                                                                ##\n",
    "##  REMOVE IDS FROM 'ids' IMMEDIATELLY AFTER RUN THE BLOCK BELOW  ##\n",
    "##                                                                ##\n",
    "####################################################################\n",
    "ids = []"
   ]
  },
  {
   "cell_type": "code",
   "execution_count": 4,
   "metadata": {
    "collapsed": false
   },
   "outputs": [],
   "source": [
    "with open(tensorbox_input_filepath, \"r\") as tb_in:\n",
    "    tensorbox_input = json.load(tb_in)\n",
    "\n",
    "# add frames to image_to_avoid file for avoiding add them again to tensorbox dataset and \n",
    "# remove them from the tensorbox_input\n",
    "with open(images_to_avoid_filepath, \"a\") as f:\n",
    "    for i in sorted(ids, reverse=True):\n",
    "        #frame_path = /media/Gui2/thermix/ARThermal/Victor_006_frames_no_movement/14_tim/3/Users_ipod5_unkown_2016-08-03_00%3A01%3A09.000000_2/0_0.png\n",
    "        frame_path = tensorbox_input[i][\"image_path\"]\n",
    "        \n",
    "        #video_and_frame_name = Users_ipod5_unkown_2016-08-03_00%3A01%3A09.000000_2/0_0.png\n",
    "        video_and_frame_name = os.path.join(os.path.basename(os.path.dirname(frame_path)), \n",
    "                                            os.path.basename(frame_path))\n",
    "        \n",
    "        f.write(\"%s\\n\" % video_and_frame_name)\n",
    "        del tensorbox_input[i] \n",
    "\n",
    "with open(tensorbox_input_filepath, 'w') as outfile:\n",
    "    json.dump(tensorbox_input, outfile, indent=2)"
   ]
  },
  {
   "cell_type": "code",
   "execution_count": null,
   "metadata": {
    "collapsed": true
   },
   "outputs": [],
   "source": []
  }
 ],
 "metadata": {
  "kernelspec": {
   "display_name": "Python 2",
   "language": "python",
   "name": "python2"
  },
  "language_info": {
   "codemirror_mode": {
    "name": "ipython",
    "version": 2
   },
   "file_extension": ".py",
   "mimetype": "text/x-python",
   "name": "python",
   "nbconvert_exporter": "python",
   "pygments_lexer": "ipython2",
   "version": "2.7.6"
  }
 },
 "nbformat": 4,
 "nbformat_minor": 0
}
