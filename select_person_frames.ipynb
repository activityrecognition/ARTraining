{
 "cells": [
  {
   "cell_type": "code",
   "execution_count": 1,
   "metadata": {
    "collapsed": true
   },
   "outputs": [],
   "source": [
    "import os, sys, shutil\n",
    "from datetime import datetime, timedelta\n",
    "from PIL import Image, ImageDraw, ImageFont\n",
    "from operator import itemgetter\n",
    "import numpy as np\n",
    "from os import environ"
   ]
  },
  {
   "cell_type": "code",
   "execution_count": 2,
   "metadata": {
    "collapsed": false
   },
   "outputs": [
    {
     "name": "stdout",
     "output_type": "stream",
     "text": [
      "14_tim/3/Users_ipod5_unkown_2016-07-10_04%3A08%3A21.000000_1/4_0.png\n"
     ]
    }
   ],
   "source": [
    "output_filepath = environ.get(\"output_filepath\",\"/media/Gui2/thermix/full_day_pedro_frames_no_movement/14_tim/thermix_1_files_person.txt\")\n",
    "input_dir = environ.get(\"input_dir\",\"/media/Gui2/thermix/full_day_pedro_frames_no_movement\")\n",
    "words_dir = environ.get(\"words_dir\",\"/media/Gui2/thermix/ARTraining/trained_models/thermix_35a/thermix_35a._words\")\n",
    "results = environ.get(\"results\",\"/media/Gui2/thermix/ARTraining/trained_models/thermix_35a/full_day_pedro_classify.txt\")\n",
    "\n",
    "with open(results, \"r\") as rf:\n",
    "    results_lines = rf.readlines()\n",
    "\n",
    "# words_list = [\"class1\", \"class2\",..,\"classn\"]\n",
    "with open(words_dir, \"r\") as words:\n",
    "    words_list = words.readlines()\n",
    "    words_list = [item.split(' ')[0] for item in words_list]\n",
    "    \n",
    "with open(output_filepath, \"w\") as output:\n",
    "    for result in results_lines:\n",
    "        # name = 1 <path>\n",
    "        p = result.split(' ')[0]\n",
    "        \n",
    "        id_l = int(result.split(' ')[1])\n",
    "        l = words_list[id_l-1]\n",
    "\n",
    "        if l == \"person\":\n",
    "            output.write(\"%d %s\\n\"%(id_l, p))"
   ]
  },
  {
   "cell_type": "code",
   "execution_count": null,
   "metadata": {
    "collapsed": true
   },
   "outputs": [],
   "source": []
  }
 ],
 "metadata": {
  "kernelspec": {
   "display_name": "Python 2",
   "language": "python",
   "name": "python2"
  },
  "language_info": {
   "codemirror_mode": {
    "name": "ipython",
    "version": 2
   },
   "file_extension": ".py",
   "mimetype": "text/x-python",
   "name": "python",
   "nbconvert_exporter": "python",
   "pygments_lexer": "ipython2",
   "version": "2.7.6"
  }
 },
 "nbformat": 4,
 "nbformat_minor": 0
}
