{
 "cells": [
  {
   "cell_type": "code",
   "execution_count": 5,
   "metadata": {
    "collapsed": true
   },
   "outputs": [],
   "source": [
    "import plotly\n",
    "import plotly.plotly as py\n",
    "from plotly.graph_objs import *\n",
    "from matplotlib.pyplot import *\n",
    "import os\n",
    "\n",
    "plotly.tools.set_credentials_file(username='pusiol', api_key='m6iurl7f89')"
   ]
  },
  {
   "cell_type": "code",
   "execution_count": 6,
   "metadata": {
    "collapsed": true
   },
   "outputs": [],
   "source": [
    "filename = 'output_thermix_7.file'\n",
    "base_dir = '/media/Gui2/thermix/trained_models/thermix_7_26-05-2016'"
   ]
  },
  {
   "cell_type": "code",
   "execution_count": 9,
   "metadata": {
    "collapsed": true
   },
   "outputs": [],
   "source": [
    "with open(os.path.join(base_dir,filename),'r') as f:\n",
    "    # get all lines in file\n",
    "    lines = f.readlines()\n",
    "\n",
    "    # remove all those weird chars\n",
    "    newlines = []\n",
    "    for line in lines:\n",
    "        newline = line.replace('\\x08',' ')\n",
    "        newlines.append(filter(None, newline.split('  ')))\n",
    "\n",
    "    #now search for 75 / 75 (training) y 16 / 16 (validation)\n",
    "    training_error_text = '42 / 42'\n",
    "    validation_error_text = '8 / 8'\n",
    "\n",
    "    training_error_lines = []\n",
    "    validation_error_lines = []\n",
    "    for a in newlines:\n",
    "        for s in a:\n",
    "            if training_error_text in s:\n",
    "                training_error_lines.append(s)\n",
    "            if validation_error_text in s:\n",
    "                validation_error_lines.append(s)\n",
    "\n",
    "    # get matrix for validation loss\n",
    "    v_loss = []\n",
    "    for v_data in validation_error_lines:\n",
    "        index_rate = v_data.index('rate')\n",
    "        v_loss.append(float(v_data[index_rate+4:index_rate+10].replace('%','').replace(' ','')))\n",
    "\n",
    "    # get matrix for training loss\n",
    "    t_loss = []\n",
    "    for t_data in training_error_lines:\n",
    "        index_rate = t_data.index('rate')\n",
    "        t_loss.append(float(t_data[index_rate+4:index_rate+10].replace('%','').replace(' ','')))\n"
   ]
  },
  {
   "cell_type": "code",
   "execution_count": 10,
   "metadata": {
    "collapsed": false
   },
   "outputs": [
    {
     "data": {
      "text/html": [
       "<iframe id=\"igraph\" scrolling=\"no\" style=\"border:none;\" seamless=\"seamless\" src=\"https://plot.ly/~pusiol/95.embed\" height=\"525px\" width=\"100%\"></iframe>"
      ],
      "text/plain": [
       "<plotly.tools.PlotlyDisplay object>"
      ]
     },
     "execution_count": 10,
     "metadata": {},
     "output_type": "execute_result"
    }
   ],
   "source": [
    "#plot data\n",
    "data = []\n",
    "Ys = [('validation sparse softmax cross entropy loss', v_loss), ('training sparse softmax cross entropy loss', t_loss)]\n",
    "for title, _Y in Ys:\n",
    "    # t = 1 -> validation data\n",
    "    _X = range(1,len(_Y)+1) # _X = epoch number\n",
    "    mom = Scatter(x=_X,y=_Y, mode ='lines+markers', name =title ,line = dict(width = 4))\n",
    "    data.append(mom)\n",
    "\n",
    "layout = Layout(title='%s loss function'%filename.split(\".\")[0], xaxis = dict(title = 'Epoch'), yaxis = dict(title = 'miss rate'), )\n",
    "\n",
    "# Plot and embed in ipython notebook!\n",
    "fig = dict(data=data, layout=layout)\n",
    "\n",
    "#upload to guido's account\n",
    "py.iplot(fig, filename=filename)\n"
   ]
  },
  {
   "cell_type": "code",
   "execution_count": null,
   "metadata": {
    "collapsed": true
   },
   "outputs": [],
   "source": []
  }
 ],
 "metadata": {
  "kernelspec": {
   "display_name": "Python 2",
   "language": "python",
   "name": "python2"
  },
  "language_info": {
   "codemirror_mode": {
    "name": "ipython",
    "version": 2
   },
   "file_extension": ".py",
   "mimetype": "text/x-python",
   "name": "python",
   "nbconvert_exporter": "python",
   "pygments_lexer": "ipython2",
   "version": "2.7.6"
  }
 },
 "nbformat": 4,
 "nbformat_minor": 0
}
