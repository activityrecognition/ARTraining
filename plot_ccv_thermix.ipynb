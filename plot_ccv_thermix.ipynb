{
 "cells": [
  {
   "cell_type": "code",
   "execution_count": 33,
   "metadata": {
    "collapsed": false
   },
   "outputs": [],
   "source": [
    "import plotly\n",
    "import plotly.plotly as py\n",
    "import numpy as np\n",
    "from plotly.graph_objs import *\n",
    "import os\n",
    "import requests\n",
    "from os import environ\n",
    "\n",
    "requests.packages.urllib3.disable_warnings()\n",
    "\n",
    "plotly.tools.set_credentials_file(username='pusiol', api_key='m6iurl7f89')"
   ]
  },
  {
   "cell_type": "code",
   "execution_count": 34,
   "metadata": {
    "collapsed": true
   },
   "outputs": [],
   "source": [
    "default_filepath = '/media/Gui2/thermix/ARTraining/trained_models/thermix_28a/output_thermix_28a.file'\n",
    "filepath = environ.get(\"output_filepath\",default_filepath)\n",
    "\n",
    "model_output_dir = os.path.dirname(filepath)\n",
    "\n",
    "model_name = os.path.basename(filepath)[7:].split(\".\")[0]"
   ]
  },
  {
   "cell_type": "code",
   "execution_count": 35,
   "metadata": {
    "collapsed": false
   },
   "outputs": [
    {
     "name": "stdout",
     "output_type": "stream",
     "text": [
      "34 / 34\n",
      "9 / 9\n"
     ]
    }
   ],
   "source": [
    "with open(filepath,'r') as f:\n",
    "    # get all lines in file\n",
    "    lines = f.readlines()\n",
    "\n",
    "    # remove all those weird chars\n",
    "    newlines = []\n",
    "    for line in lines:\n",
    "        newline = line.replace('\\x08',' ')\n",
    "        newlines.append(filter(None, newline.split('  ')))\n",
    "\n",
    "    training_batch_count = None\n",
    "    testing_batch_count = None\n",
    "    for line in newlines:\n",
    "        if training_batch_count and testing_batch_count:\n",
    "            break;\n",
    "            \n",
    "        for s in line:\n",
    "            if training_batch_count and testing_batch_count:\n",
    "                break;\n",
    "\n",
    "            if not training_batch_count and \"stochastic gradient descent with miss rate\" in s:\n",
    "                # txt = \"% at 01 / 110 (\"\n",
    "                txt = s[s.index(\"% at \"):]\n",
    "                txt = txt[:txt.index(\"(\")]\n",
    "                \n",
    "                # training_batch_count = 110\n",
    "                training_batch_count = int(txt.split(\"/\")[1][1:-1])\n",
    "            \n",
    "            if not testing_batch_count and \"=> with miss rate\" in s:\n",
    "                # txt = \"at 01 / 24 (\"\n",
    "                txt = s[s.index(\"% at \"):]\n",
    "                txt = txt[:txt.index(\"(\")]\n",
    "                \n",
    "                # testing_batch_count = 110\n",
    "                testing_batch_count = int(txt.split(\"/\")[1][1:-1])\n",
    "            \n",
    "    if not training_batch_count or not testing_batch_count:\n",
    "        raise \"malformed file\"\n",
    "    #now search for 75 / 75 (training) y 16 / 16 (validation)\n",
    "    training_error_text = '%d / %d' % (training_batch_count, training_batch_count)\n",
    "    validation_error_text = '%d / %d' % (testing_batch_count, testing_batch_count)\n",
    "\n",
    "    print training_error_text\n",
    "    print validation_error_text\n",
    "    \n",
    "    training_error_lines = []\n",
    "    validation_error_lines = []\n",
    "    for a in newlines:\n",
    "        for s in a:\n",
    "            # Discard line when not contains 'rate' to avoid error like the following:\n",
    "            # validation_error_text = \"18 / 18\" and s = \"- compute mean activity 1818 / 18267\"\n",
    "            if 'rate' not in s:\n",
    "                continue\n",
    "                \n",
    "            if training_error_text in s:\n",
    "                training_error_lines.append(s)\n",
    "            if validation_error_text in s:\n",
    "                validation_error_lines.append(s)\n",
    "\n",
    "    # get matrix for validation loss\n",
    "    v_loss = []\n",
    "    for v_data in validation_error_lines:\n",
    "        index_rate = v_data.index('rate')\n",
    "        v_loss.append(float(v_data[index_rate+4:index_rate+10].replace('%','').replace(' ','')))\n",
    "\n",
    "    # get matrix for training loss\n",
    "    t_loss = []\n",
    "    for t_data in training_error_lines:\n",
    "        index_rate = t_data.index('rate')\n",
    "        t_loss.append(float(t_data[index_rate+4:index_rate+10].replace('%','').replace(' ','')))\n",
    "\n",
    "    # export loss values so later can be gathered from outside the notebook\n",
    "    np.savetxt(os.path.join(model_output_dir, model_name+\"_validationLoss.out\"), v_loss, fmt='%.2f')\n",
    "    np.savetxt(os.path.join(model_output_dir, model_name+\"_trainingLoss.out\"), t_loss, fmt='%.2f')"
   ]
  },
  {
   "cell_type": "code",
   "execution_count": 36,
   "metadata": {
    "collapsed": false
   },
   "outputs": [
    {
     "data": {
      "text/html": [
       "<iframe id=\"igraph\" scrolling=\"no\" style=\"border:none;\" seamless=\"seamless\" src=\"https://plot.ly/~pusiol/155.embed\" height=\"525px\" width=\"100%\"></iframe>"
      ],
      "text/plain": [
       "<plotly.tools.PlotlyDisplay object>"
      ]
     },
     "execution_count": 36,
     "metadata": {},
     "output_type": "execute_result"
    }
   ],
   "source": [
    "#plot data\n",
    "data = []\n",
    "Ys = [('validation sparse softmax cross entropy loss', v_loss), ('training sparse softmax cross entropy loss', t_loss)]\n",
    "for title, _Y in Ys:\n",
    "    # t = 1 -> validation data\n",
    "    _X = range(1,len(_Y)+1) # _X = epoch number\n",
    "    mom = Scatter(x=_X,y=_Y, mode ='lines+markers', name =title ,line = dict(width = 4))\n",
    "    data.append(mom)\n",
    "\n",
    "layout = Layout(title='%s loss function'%model_name, xaxis = dict(title = 'epoch'), yaxis = dict(title = 'miss rate'), )\n",
    "\n",
    "# Plot and embed in ipython notebook!\n",
    "fig = dict(data=data, layout=layout)\n",
    "\n",
    "#upload to guido's account\n",
    "py.iplot(fig, filename=\"lastest_trained_model_info\")\n",
    "py.iplot(fig, filename=\"%s_trained_model_info\"%model_name)"
   ]
  },
  {
   "cell_type": "code",
   "execution_count": null,
   "metadata": {
    "collapsed": true
   },
   "outputs": [],
   "source": []
  }
 ],
 "metadata": {
  "kernelspec": {
   "display_name": "Python 2",
   "language": "python",
   "name": "python2"
  },
  "language_info": {
   "codemirror_mode": {
    "name": "ipython",
    "version": 2
   },
   "file_extension": ".py",
   "mimetype": "text/x-python",
   "name": "python",
   "nbconvert_exporter": "python",
   "pygments_lexer": "ipython2",
   "version": "2.7.6"
  }
 },
 "nbformat": 4,
 "nbformat_minor": 0
}
