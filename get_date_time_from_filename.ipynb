{
 "cells": [
  {
   "cell_type": "code",
   "execution_count": 3,
   "metadata": {
    "collapsed": true
   },
   "outputs": [],
   "source": [
    "'''\n",
    "returns time for a filename the way videos where downloaded\n",
    "'''\n",
    "def getDateAndTime(filename):\n",
    "    # split and remove .000*_+.mov\n",
    "    split1 = filename.split(\".\")\n",
    "    f1 = split1[0]\n",
    "    \n",
    "    # hardcode to split\n",
    "    split2 = f1.split(\"unkown_\")\n",
    "    f2 = split2[1]\n",
    "    \n",
    "    # get date\n",
    "    split3 = f2.split(\"_\")\n",
    "    date = split3[0]\n",
    "\n",
    "    # get time\n",
    "    time = split3[1]\n",
    "    split4 = time.split(\"%3A\")\n",
    "    h = split4[0]\n",
    "    m = split4[1]\n",
    "    s = split4[2]\n",
    "    \n",
    "    # since time is in backend's timezone, hardcode it to fit Argentina's timezone\n",
    "    # there's a problem when h > 01:00 h < 03:59 day will not change.\n",
    "    h_real = (int(h) - 3) % 24\n",
    "    \n",
    "    return {\"date\":date, \"time\":str(h_real)+\":\"+m+\":\"+s, \"h\":str(h_real), \"m\":m, \"s\":s}"
   ]
  },
  {
   "cell_type": "code",
   "execution_count": 4,
   "metadata": {
    "collapsed": false
   },
   "outputs": [
    {
     "data": {
      "text/plain": [
       "{'date': '2016-06-20', 'h': '3', 'm': '52', 's': '10', 'time': '3:52:10'}"
      ]
     },
     "execution_count": 4,
     "metadata": {},
     "output_type": "execute_result"
    }
   ],
   "source": [
    "s = getDateAndTime(\"Users_golden5s_unkown_2016-06-20_06%3A52%3A10.000000_2.mov\")\n",
    "s"
   ]
  },
  {
   "cell_type": "code",
   "execution_count": null,
   "metadata": {
    "collapsed": true
   },
   "outputs": [],
   "source": []
  }
 ],
 "metadata": {
  "kernelspec": {
   "display_name": "Python 2",
   "language": "python",
   "name": "python2"
  },
  "language_info": {
   "codemirror_mode": {
    "name": "ipython",
    "version": 2
   },
   "file_extension": ".py",
   "mimetype": "text/x-python",
   "name": "python",
   "nbconvert_exporter": "python",
   "pygments_lexer": "ipython2",
   "version": "2.7.10"
  }
 },
 "nbformat": 4,
 "nbformat_minor": 0
}
