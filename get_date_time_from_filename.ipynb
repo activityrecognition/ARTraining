{
 "cells": [
  {
   "cell_type": "code",
   "execution_count": 1,
   "metadata": {
    "collapsed": true
   },
   "outputs": [],
   "source": [
    "'''\n",
    "returns time for a filename the way videos where downloaded\n",
    "'''\n",
    "def getDateAndTime(filename):\n",
    "    # split and remove .000*_+.mov\n",
    "    split1 = filename.split(\".\")\n",
    "    f1 = split1[0]\n",
    "    \n",
    "    # hardcode to split\n",
    "    split2 = f1.split(\"unkown_\")\n",
    "    f2 = split2[1]\n",
    "    \n",
    "    # get date\n",
    "    split3 = f2.split(\"_\")\n",
    "    date = split3[0]\n",
    "\n",
    "    # get time\n",
    "    time = split3[1]\n",
    "    split4 = time.split(\"%3A\")\n",
    "    h = split4[0]\n",
    "    m = split4[1]\n",
    "    s = split4[2]\n",
    "    \n",
    "    # since time is in backend's timezone, hardcode it to fit Argentina's timezone\n",
    "    # there's a problem when h > 01:00 h < 03:59 day will not change.\n",
    "    h_real = (int(h) - 3) % 24\n",
    "    \n",
    "    return {\"date\":date, \"time\":str(h_real)+\":\"+m+\":\"+s, \"h\":str(h_real), \"m\":m, \"s\":s}"
   ]
  },
  {
   "cell_type": "code",
   "execution_count": 2,
   "metadata": {
    "collapsed": false
   },
   "outputs": [
    {
     "ename": "NameError",
     "evalue": "global name 'datetime' is not defined",
     "output_type": "error",
     "traceback": [
      "\u001b[1;31m---------------------------------------------------------------------------\u001b[0m",
      "\u001b[1;31mNameError\u001b[0m                                 Traceback (most recent call last)",
      "\u001b[1;32m<ipython-input-2-a830e89d9477>\u001b[0m in \u001b[0;36m<module>\u001b[1;34m()\u001b[0m\n\u001b[1;32m----> 1\u001b[1;33m \u001b[0ms\u001b[0m \u001b[1;33m=\u001b[0m \u001b[0mgetDateAndTime\u001b[0m\u001b[1;33m(\u001b[0m\u001b[1;34m\"Users_golden5s_unkown_2016-06-20_06%3A52%3A10.000000_2.mov\"\u001b[0m\u001b[1;33m)\u001b[0m\u001b[1;33m\u001b[0m\u001b[0m\n\u001b[0m\u001b[0;32m      2\u001b[0m \u001b[0ms\u001b[0m\u001b[1;33m\u001b[0m\u001b[0m\n",
      "\u001b[1;32m<ipython-input-1-759a17700ac7>\u001b[0m in \u001b[0;36mgetDateAndTime\u001b[1;34m(filename)\u001b[0m\n\u001b[0;32m     27\u001b[0m \u001b[1;33m\u001b[0m\u001b[0m\n\u001b[0;32m     28\u001b[0m     \u001b[0mdate\u001b[0m \u001b[1;33m=\u001b[0m \u001b[0mdate\u001b[0m\u001b[1;33m+\u001b[0m\u001b[1;34m' '\u001b[0m\u001b[1;33m+\u001b[0m\u001b[0mstr\u001b[0m\u001b[1;33m(\u001b[0m\u001b[0mh_real\u001b[0m\u001b[1;33m)\u001b[0m\u001b[1;33m+\u001b[0m\u001b[1;34m\":\"\u001b[0m\u001b[1;33m+\u001b[0m\u001b[0mm\u001b[0m\u001b[1;33m+\u001b[0m\u001b[1;34m\":\"\u001b[0m\u001b[1;33m+\u001b[0m\u001b[0ms\u001b[0m\u001b[1;33m\u001b[0m\u001b[0m\n\u001b[1;32m---> 29\u001b[1;33m     \u001b[0md\u001b[0m \u001b[1;33m=\u001b[0m \u001b[0mdatetime\u001b[0m\u001b[1;33m.\u001b[0m\u001b[0mdatetime\u001b[0m\u001b[1;33m.\u001b[0m\u001b[0mstrptime\u001b[0m\u001b[1;33m(\u001b[0m\u001b[0mstring_date\u001b[0m\u001b[1;33m,\u001b[0m \u001b[1;34m\"%Y-%m-%d %H:%M:%S\"\u001b[0m\u001b[1;33m)\u001b[0m\u001b[1;33m\u001b[0m\u001b[0m\n\u001b[0m\u001b[0;32m     30\u001b[0m \u001b[1;33m\u001b[0m\u001b[0m\n\u001b[0;32m     31\u001b[0m     \u001b[1;32mreturn\u001b[0m \u001b[1;33m[\u001b[0m\u001b[0mfilename\u001b[0m\u001b[1;33m,\u001b[0m \u001b[0md\u001b[0m\u001b[1;33m]\u001b[0m\u001b[1;33m\u001b[0m\u001b[0m\n",
      "\u001b[1;31mNameError\u001b[0m: global name 'datetime' is not defined"
     ]
    }
   ],
   "source": [
    "s = getDateAndTime(\"Users_golden5s_unkown_2016-06-20_06%3A52%3A10.000000_2.mov\")\n",
    "s"
   ]
  },
  {
   "cell_type": "code",
   "execution_count": null,
   "metadata": {
    "collapsed": true
   },
   "outputs": [],
   "source": []
  }
 ],
 "metadata": {
  "kernelspec": {
   "display_name": "Python 2",
   "language": "python",
   "name": "python2"
  },
  "language_info": {
   "codemirror_mode": {
    "name": "ipython",
    "version": 2
   },
   "file_extension": ".py",
   "mimetype": "text/x-python",
   "name": "python",
   "nbconvert_exporter": "python",
   "pygments_lexer": "ipython2",
   "version": "2.7.6"
  }
 },
 "nbformat": 4,
 "nbformat_minor": 0
}
