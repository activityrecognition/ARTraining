{
 "cells": [
  {
   "cell_type": "code",
   "execution_count": 4,
   "metadata": {
    "collapsed": true
   },
   "outputs": [],
   "source": [
    "import os, sys\n",
    "from PIL import Image, ImageDraw, ImageFont"
   ]
  },
  {
   "cell_type": "code",
   "execution_count": 5,
   "metadata": {
    "collapsed": false
   },
   "outputs": [],
   "source": [
    "'''\n",
    "image_path: path of the image to draw on\n",
    "score: value from 0 to 1 with the prediction result\n",
    "label: prediction's name to print on image\n",
    "'''\n",
    "def draw_classification_on_image(path, output_path, score, label):\n",
    "    image = Image.open(path)\n",
    "    s = score*100\n",
    "    width = 1.5*s\n",
    "    max_width = 1.5*100\n",
    "\n",
    "    draw = ImageDraw.Draw(image)\n",
    "\n",
    "    #draw label name\n",
    "    fontPath = \"./SF-UI-Text-Medium.otf\"\n",
    "    fontSize = 12\n",
    "    font  =  ImageFont.truetype ( fontPath, fontSize )\n",
    "    draw.text((20,10), text=label, fill=\"rgb(255,255,255)\", font=font)\n",
    "\n",
    "    #draw score label\n",
    "    #color_fill = (\"rgb(0,200,0)\" if score > 50 else \"rgb(200,0,0)\")\n",
    "    color_fill = \"rgb(0,200,0)\"\n",
    "    draw.rectangle([(20,30),(max_width,45)], fill=None, outline=color_fill)\n",
    "    draw.rectangle([(20,30),(width,45)], fill=color_fill, outline=color_fill)\n",
    "    del draw\n",
    "\n",
    "    image.save(output_path)"
   ]
  },
  {
   "cell_type": "code",
   "execution_count": 6,
   "metadata": {
    "collapsed": false
   },
   "outputs": [
    {
     "name": "stdout",
     "output_type": "stream",
     "text": [
      "/\n",
      "/\n"
     ]
    },
    {
     "ename": "ValueError",
     "evalue": "invalid literal for int() with base 10: ''",
     "output_type": "error",
     "traceback": [
      "\u001b[1;31m---------------------------------------------------------------------------\u001b[0m",
      "\u001b[1;31mValueError\u001b[0m                                Traceback (most recent call last)",
      "\u001b[1;32m<ipython-input-6-94539b5e30d2>\u001b[0m in \u001b[0;36m<module>\u001b[1;34m()\u001b[0m\n\u001b[0;32m     19\u001b[0m     \u001b[0mvideo_name\u001b[0m \u001b[1;33m=\u001b[0m \u001b[0mp\u001b[0m\u001b[1;33m.\u001b[0m\u001b[0msplit\u001b[0m\u001b[1;33m(\u001b[0m\u001b[1;34m'/'\u001b[0m\u001b[1;33m)\u001b[0m\u001b[1;33m[\u001b[0m\u001b[1;33m-\u001b[0m\u001b[1;36m2\u001b[0m\u001b[1;33m]\u001b[0m\u001b[1;33m[\u001b[0m\u001b[1;33m:\u001b[0m\u001b[1;33m-\u001b[0m\u001b[1;36m2\u001b[0m\u001b[1;33m]\u001b[0m\u001b[1;33m\u001b[0m\u001b[0m\n\u001b[0;32m     20\u001b[0m     \u001b[0mframe_name\u001b[0m \u001b[1;33m=\u001b[0m \u001b[0mp\u001b[0m\u001b[1;33m.\u001b[0m\u001b[0msplit\u001b[0m\u001b[1;33m(\u001b[0m\u001b[1;34m'/'\u001b[0m\u001b[1;33m)\u001b[0m\u001b[1;33m[\u001b[0m\u001b[1;33m-\u001b[0m\u001b[1;36m1\u001b[0m\u001b[1;33m]\u001b[0m\u001b[1;33m[\u001b[0m\u001b[1;33m:\u001b[0m\u001b[1;33m-\u001b[0m\u001b[1;36m4\u001b[0m\u001b[1;33m]\u001b[0m\u001b[1;33m\u001b[0m\u001b[0m\n\u001b[1;32m---> 21\u001b[1;33m     \u001b[0mframe_number\u001b[0m \u001b[1;33m=\u001b[0m \u001b[0mint\u001b[0m\u001b[1;33m(\u001b[0m\u001b[0mframe_name\u001b[0m\u001b[1;33m.\u001b[0m\u001b[0msplit\u001b[0m\u001b[1;33m(\u001b[0m\u001b[1;34m'_'\u001b[0m\u001b[1;33m)\u001b[0m\u001b[1;33m[\u001b[0m\u001b[1;36m0\u001b[0m\u001b[1;33m]\u001b[0m\u001b[1;33m)\u001b[0m\u001b[1;33m*\u001b[0m\u001b[1;36m3\u001b[0m \u001b[1;33m+\u001b[0m \u001b[0mint\u001b[0m\u001b[1;33m(\u001b[0m\u001b[0mframe_name\u001b[0m\u001b[1;33m.\u001b[0m\u001b[0msplit\u001b[0m\u001b[1;33m(\u001b[0m\u001b[1;34m'_'\u001b[0m\u001b[1;33m)\u001b[0m\u001b[1;33m[\u001b[0m\u001b[1;36m1\u001b[0m\u001b[1;33m]\u001b[0m\u001b[1;33m)\u001b[0m\u001b[1;33m\u001b[0m\u001b[0m\n\u001b[0m\u001b[0;32m     22\u001b[0m     \u001b[0mp\u001b[0m \u001b[1;33m=\u001b[0m \u001b[0mos\u001b[0m\u001b[1;33m.\u001b[0m\u001b[0mpath\u001b[0m\u001b[1;33m.\u001b[0m\u001b[0mdirname\u001b[0m\u001b[1;33m(\u001b[0m\u001b[0mos\u001b[0m\u001b[1;33m.\u001b[0m\u001b[0mpath\u001b[0m\u001b[1;33m.\u001b[0m\u001b[0mdirname\u001b[0m\u001b[1;33m(\u001b[0m\u001b[0mp\u001b[0m\u001b[1;33m)\u001b[0m\u001b[1;33m)\u001b[0m\u001b[1;33m\u001b[0m\u001b[0m\n\u001b[0;32m     23\u001b[0m     \u001b[0mp\u001b[0m \u001b[1;33m=\u001b[0m \u001b[0mos\u001b[0m\u001b[1;33m.\u001b[0m\u001b[0mpath\u001b[0m\u001b[1;33m.\u001b[0m\u001b[0mjoin\u001b[0m\u001b[1;33m(\u001b[0m\u001b[0mp\u001b[0m\u001b[1;33m,\u001b[0m \u001b[0mvideo_name\u001b[0m\u001b[1;33m,\u001b[0m \u001b[0mstr\u001b[0m\u001b[1;33m(\u001b[0m\u001b[0mframe_number\u001b[0m\u001b[1;33m)\u001b[0m \u001b[1;33m+\u001b[0m \u001b[1;34m\".png\"\u001b[0m\u001b[1;33m)\u001b[0m\u001b[1;33m\u001b[0m\u001b[0m\n",
      "\u001b[1;31mValueError\u001b[0m: invalid literal for int() with base 10: ''"
     ]
    }
   ],
   "source": [
    "output_dir = \"/media/Gui2/thermix/ARTraining/trained_models/thermix_30a/classification_output\"\n",
    "input_dir = \"/media/Gui2/thermix/suenos_dorados_day\"\n",
    "words_dir = \"/media/Gui2/thermix/ARTraining/trained_models/thermix_30a/thermix_30a._words\"\n",
    "results = \"/media/Gui2/thermix/ARTraining/trained_models/thermix_30a/suenos_dorados_3_classify.txt\"\n",
    "\n",
    "with open(results, \"r\") as rf:\n",
    "    results_lines = rf.readlines()\n",
    "\n",
    "# words_list = [\"class1\", \"class2\",..,\"classn\"]\n",
    "with open(words_dir, \"r\") as words:\n",
    "    words_list = words.readlines()\n",
    "    words_list = [item.split(' ')[0] for item in words_list]\n",
    "    \n",
    "for result in results_lines:\n",
    "    # name = 1 <path>\n",
    "    p = result.split(' ')[0].replace(\"14_tim\",\"4_tim\")\n",
    "    video_name = p.split('/')[-2][:-2]\n",
    "    frame_name = p.split('/')[-1][:-4]\n",
    "    frame_number = int(frame_name.split('_')[0])*3 + int(frame_name.split('_')[1])\n",
    "    p = os.path.dirname(os.path.dirname(p))\n",
    "    p = os.path.join(p, video_name, str(frame_number) + \".png\")\n",
    "\n",
    "    o = os.path.join(output_dir, p)\n",
    "    p = os.path.join(input_dir, p)\n",
    "    \n",
    "    s = float(result.split(' ')[2])\n",
    "    l = words_list[int(result.split(' ')[1])-1]\n",
    "\n",
    "    if l != \"background\":\n",
    "        if not os.path.exists(os.path.dirname(o)):\n",
    "            os.makedirs(os.path.dirname(o))\n",
    "        draw_classification_on_image(p, o, s, l)\n",
    "        print \"✓ %s\" %o\n",
    "    else:\n",
    "        print\"background %s\" %o\n",
    "\n",
    "print('finished printing on images')"
   ]
  }
 ],
 "metadata": {
  "kernelspec": {
   "display_name": "Python 2",
   "language": "python",
   "name": "python2"
  },
  "language_info": {
   "codemirror_mode": {
    "name": "ipython",
    "version": 2
   },
   "file_extension": ".py",
   "mimetype": "text/x-python",
   "name": "python",
   "nbconvert_exporter": "python",
   "pygments_lexer": "ipython2",
   "version": "2.7.6"
  }
 },
 "nbformat": 4,
 "nbformat_minor": 0
}
