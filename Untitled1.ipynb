{
 "cells": [
  {
   "cell_type": "code",
   "execution_count": 10,
   "metadata": {
    "collapsed": false,
    "run_control": {
     "frozen": false,
     "read_only": false
    }
   },
   "outputs": [
    {
     "name": "stdout",
     "output_type": "stream",
     "text": [
      "./Marge_010_frames_no_movement/14_tim/3/Users_golden5s_unkown_2016-09-23_01%3A54%3A58.000000_2\n",
      "\n",
      "906\n"
     ]
    }
   ],
   "source": [
    "with open(\"../ARThermal/empty_dirs_frames_no_movement.txt\") as f:\n",
    "    lines = f.readlines()\n",
    "print lines[0]\n",
    "print len(lines[:-1])"
   ]
  },
  {
   "cell_type": "code",
   "execution_count": 16,
   "metadata": {
    "collapsed": false
   },
   "outputs": [
    {
     "name": "stdout",
     "output_type": "stream",
     "text": [
      "870\n",
      "Marge_010_frames_no_movement/14_tim/3/Users_golden5s_unkown_2016-09-23_01%3A54%3A58.000000_2\n"
     ]
    }
   ],
   "source": [
    "i = 0\n",
    "for l in lines:\n",
    "    if \"April_001\" in l:\n",
    "        continue\n",
    "    if \"Erika_002\" in l:\n",
    "        continue\n",
    "    i+=1\n",
    "    \n",
    "print i\n",
    "print lines[0][2:-1]"
   ]
  },
  {
   "cell_type": "code",
   "execution_count": 18,
   "metadata": {
    "collapsed": false
   },
   "outputs": [
    {
     "name": "stdout",
     "output_type": "stream",
     "text": [
      "906\n"
     ]
    }
   ],
   "source": [
    "import shutil, os\n",
    "removed = []\n",
    "for l in lines:\n",
    "    path = os.path.join(\"../ARThermal/frames_no_movement\",l[2:-1])\n",
    "    \n",
    "    if os.path.isdir(path):\n",
    "        #print path\n",
    "        removed.append(path)\n",
    "        #shutil.rmtree(path)\n",
    "print len(removed)"
   ]
  },
  {
   "cell_type": "code",
   "execution_count": null,
   "metadata": {
    "collapsed": true
   },
   "outputs": [],
   "source": []
  }
 ],
 "metadata": {
  "kernelspec": {
   "display_name": "Python 2",
   "language": "python",
   "name": "python2"
  },
  "language_info": {
   "codemirror_mode": {
    "name": "ipython",
    "version": 2
   },
   "file_extension": ".py",
   "mimetype": "text/x-python",
   "name": "python",
   "nbconvert_exporter": "python",
   "pygments_lexer": "ipython2",
   "version": "2.7.6"
  }
 },
 "nbformat": 4,
 "nbformat_minor": 0
}
