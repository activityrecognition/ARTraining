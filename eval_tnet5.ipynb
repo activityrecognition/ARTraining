{
 "cells": [
  {
   "cell_type": "code",
   "execution_count": 1,
   "metadata": {
    "collapsed": false
   },
   "outputs": [
    {
     "name": "stdout",
     "output_type": "stream",
     "text": [
      "[ 1.  1.  1.  1.  1.]\n"
     ]
    }
   ],
   "source": [
    "import os\n",
    "import random\n",
    "from sklearn.utils import compute_class_weight\n",
    "import numpy as np\n",
    "\n",
    "dataset_root = \"./dataset\"\n",
    "generate_on_the_fly=True\n",
    "\n",
    "training_file,val_file = os.path.join(dataset_root,\"training_list.txt\"), os.path.join(dataset_root,\"validation_list.txt\")\n",
    "\n",
    "with open(training_file) as f:\n",
    "    lines = f.readlines()\n",
    "\n",
    "cat_count = []    \n",
    "for l in lines:\n",
    "    path,c = l.split()\n",
    "    cat_count.append(int(c))\n",
    "    \n",
    "category_weights = compute_class_weight('balanced', range(1,6), np.array(cat_count))\n",
    "print category_weights"
   ]
  },
  {
   "cell_type": "code",
   "execution_count": 2,
   "metadata": {
    "collapsed": false,
    "run_control": {
     "frozen": false,
     "read_only": false
    }
   },
   "outputs": [
    {
     "name": "stderr",
     "output_type": "stream",
     "text": [
      "WARNING:tensorflow:tf.variable_op_scope(values, name, default_name) is deprecated, use tf.variable_scope(name, default_name, values)\n",
      "WARNING:tensorflow:tf.variable_op_scope(values, name, default_name) is deprecated, use tf.variable_scope(name, default_name, values)\n",
      "WARNING:tensorflow:tf.variable_op_scope(values, name, default_name) is deprecated, use tf.variable_scope(name, default_name, values)\n",
      "WARNING:tensorflow:tf.variable_op_scope(values, name, default_name) is deprecated, use tf.variable_scope(name, default_name, values)\n",
      "WARNING:tensorflow:tf.variable_op_scope(values, name, default_name) is deprecated, use tf.variable_scope(name, default_name, values)\n",
      "WARNING:tensorflow:tf.variable_op_scope(values, name, default_name) is deprecated, use tf.variable_scope(name, default_name, values)\n"
     ]
    },
    {
     "name": "stdout",
     "output_type": "stream",
     "text": [
      "BatchNormalization/is_training:0\n",
      "[[962 136 213  81 162]\n",
      " [ 18 465   6  21   0]\n",
      " [121 527 582 184  65]\n",
      " [ 16 113  23 317   8]\n",
      " [ 65  39  51  15 631]]\n",
      "[[ 0.61904762  0.08751609  0.13706564  0.05212355  0.1042471 ]\n",
      " [ 0.03529412  0.91176471  0.01176471  0.04117647  0.        ]\n",
      " [ 0.08181204  0.35632184  0.39350913  0.12440838  0.04394861]\n",
      " [ 0.03354298  0.23689727  0.04821803  0.66457023  0.01677149]\n",
      " [ 0.08114856  0.04868914  0.06367041  0.01872659  0.78776529]]\n"
     ]
    },
    {
     "name": "stderr",
     "output_type": "stream",
     "text": [
      "/usr/local/lib/python2.7/dist-packages/numpy/core/fromnumeric.py:2699: VisibleDeprecationWarning: `rank` is deprecated; use the `ndim` attribute or function instead. To find the rank of a matrix see `numpy.linalg.matrix_rank`.\n",
      "  VisibleDeprecationWarning)\n"
     ]
    }
   ],
   "source": [
    "import tflearn, tensorflow as tf\n",
    "from tflearn.layers.core import input_data, dropout, fully_connected,reshape\n",
    "from tflearn.layers.conv import conv_2d, max_pool_2d\n",
    "from tflearn.layers.normalization import batch_normalization#local_response_normalization\n",
    "from tflearn.layers.estimator import regression\n",
    "from training_utils import ThermalImageAugmentation, thermal_image_preloader\n",
    "\n",
    "def model(input_placeholder=None):\n",
    "    tf_data = input_placeholder or tf.placeholder(tf.float32, shape=(None, 224, 224))\n",
    "    network = input_data(placeholder=tf_data)\n",
    "    \n",
    "    network = reshape(network, [-1,224,224,1])\n",
    "    \n",
    "    network = batch_normalization(network)\n",
    "    \n",
    "    network = conv_2d(network, 96, 7, strides=2, activation='relu')\n",
    "    network = max_pool_2d(network, 3, strides=2)\n",
    "    network = batch_normalization(network)\n",
    "    \n",
    "    #network = local_response_normalization(network)\n",
    "    network = conv_2d(network, 256, 5, strides=2, activation='relu')\n",
    "    network = max_pool_2d(network, 3, strides=2)\n",
    "    network = batch_normalization(network)\n",
    "    \n",
    "    #network = local_response_normalization(network)\n",
    "    network = conv_2d(network, 384, 3, activation='relu')\n",
    "    network = batch_normalization(network)\n",
    "    \n",
    "    network = conv_2d(network, 384, 3, activation='relu')\n",
    "    network = batch_normalization(network)\n",
    "    \n",
    "    network = conv_2d(network, 256, 3, activation='relu')\n",
    "    network = max_pool_2d(network, 3, strides=2)\n",
    "    network = batch_normalization(network)\n",
    "    \n",
    "    #network = local_response_normalization(network)\n",
    "    network = fully_connected(network, 5, activation='softmax')\n",
    "    \n",
    "    return network, tf_data\n",
    "\n",
    "name = \"checkpoint-6747\"\n",
    "model_dir = \"./checkpoints/2016-12-04_201600/\"\n",
    "\n",
    "graph = tf.Graph()\n",
    "with graph.as_default():\n",
    "    # Model variables\n",
    "    #The network to be used\n",
    "    with tf.device('/gpu:1'):\n",
    "        net, X_ph = model()\n",
    "\n",
    "        init = tf.initialize_all_variables()\n",
    "        vars_to_restore = []\n",
    "        for v in tf.all_variables():\n",
    "            if \"is_training\" in v.name:\n",
    "                print v.name\n",
    "                continue\n",
    "            vars_to_restore.append(v)\n",
    "        saver = tf.train.Saver(vars_to_restore)\n",
    "\n",
    "if generate_on_the_fly:\n",
    "    X, Y = thermal_image_preloader(training_file, (224,224), \n",
    "                             mode='file', categorical_labels=True,\n",
    "                             normalize=False, grayscale=True,root_path=dataset_root)\n",
    "    v_X,v_Y = thermal_image_preloader(val_file, (224,224), \n",
    "                             mode='file', categorical_labels=True,\n",
    "                             normalize=False, grayscale=True,root_path=dataset_root)\n",
    "else:\n",
    "    import h5py\n",
    "    h5f = h5py.File(training_h5py_path)\n",
    "    X = h5f['X']\n",
    "    Y = h5f['Y']\n",
    "\n",
    "    v_h5f = h5py.File(val_h5py_path)\n",
    "    v_X = v_h5f['X']\n",
    "    v_Y = v_h5f['Y']\n",
    "\n",
    "\n",
    "# Launch the graph\n",
    "with tf.Session(graph=graph, config=tf.ConfigProto(\n",
    "      allow_soft_placement=True, log_device_placement=True)) as sess:\n",
    "    tflearn.config.is_training(False,sess)\n",
    "    sess.run(init)\n",
    "    saver.restore(sess,os.path.join(model_dir,name))\n",
    "    \n",
    "    prediction = []\n",
    "    ground_truth = []\n",
    "    i=0\n",
    "    step = 200\n",
    "    while len(prediction) <len(v_X):\n",
    "        res = net.eval({X_ph:v_X[i:i+step]})\n",
    "        for r in res:\n",
    "            sorted_indexes = sorted(range(5), key=lambda x:r[x], reverse=True)\n",
    "            prediction.append(sorted_indexes[0])\n",
    "        i+=step\n",
    "    \n",
    "    for r in v_Y:\n",
    "        sorted_indexes = sorted(range(5), key=lambda x:r[x], reverse=True)\n",
    "        ground_truth.append(sorted_indexes[0])\n",
    "\n",
    "        \n",
    "from sklearn.metrics import confusion_matrix\n",
    "cm = confusion_matrix(ground_truth, prediction)\n",
    "\n",
    "import numpy as np\n",
    "cm_norm = cm.astype('float') / cm.sum(axis=1)[:, np.newaxis]\n",
    "print cm\n",
    "print cm_norm"
   ]
  },
  {
   "cell_type": "code",
   "execution_count": 3,
   "metadata": {
    "collapsed": false
   },
   "outputs": [
    {
     "name": "stdout",
     "output_type": "stream",
     "text": [
      "0.324905660377\n"
     ]
    }
   ],
   "source": [
    "import collections, copy\n",
    "\n",
    "g_err = 0\n",
    "for jj in range(100):\n",
    "    a = collections.Counter(ground_truth)\n",
    "    gt = copy.copy(ground_truth)\n",
    "    pred = copy.copy(prediction)\n",
    "    min_class = min(a.values())\n",
    "    \n",
    "    while min_class != max(a.values()):\n",
    "        i = random.choice(range(len(gt)))\n",
    "        if a[gt[i]] > min_class:\n",
    "            a[gt[i]] -= 1\n",
    "            gt.pop(i)\n",
    "            pred.pop(i)\n",
    "    err = 0\n",
    "    for x in range(len(gt)):\n",
    "        err += 1 if gt[x] != pred[x] else 0\n",
    "    #print float(err)/len(gt)\n",
    "    g_err += float(err)/len(gt)\n",
    "print g_err/100"
   ]
  },
  {
   "cell_type": "code",
   "execution_count": 19,
   "metadata": {
    "collapsed": false,
    "run_control": {
     "frozen": false,
     "read_only": false
    }
   },
   "outputs": [
    {
     "name": "stderr",
     "output_type": "stream",
     "text": [
      "/usr/local/lib/python2.7/dist-packages/requests/packages/urllib3/util/ssl_.py:122: InsecurePlatformWarning:\n",
      "\n",
      "A true SSLContext object is not available. This prevents urllib3 from configuring SSL appropriately and may cause certain SSL connections to fail. You can upgrade to a newer version of Python to solve this. For more information, see https://urllib3.readthedocs.io/en/latest/security.html#insecureplatformwarning.\n",
      "\n"
     ]
    },
    {
     "data": {
      "text/html": [
       "<iframe id=\"igraph\" scrolling=\"no\" style=\"border:none;\" seamless=\"seamless\" src=\"https://plot.ly/~pusiol/673.embed\" height=\"525px\" width=\"100%\"></iframe>"
      ],
      "text/plain": [
       "<plotly.tools.PlotlyDisplay object>"
      ]
     },
     "execution_count": 19,
     "metadata": {},
     "output_type": "execute_result"
    }
   ],
   "source": [
    "import plotly\n",
    "import plotly.plotly as py\n",
    "import plotly.graph_objs as go\n",
    "\n",
    "#plotly.tools.set_credentials_file()\n",
    "\n",
    "def truncate(f, n):\n",
    "    '''Truncates/pads a float f to n decimal places without rounding'''\n",
    "    s = '{}'.format(f)\n",
    "    if 'e' in s or 'E' in s:\n",
    "        return '{0:.{1}f}'.format(f, n)\n",
    "    i, p, d = s.partition('.')\n",
    "    return '.'.join([i, (d+'0'*n)[:n]])\n",
    "\n",
    "def plotly_confusion_matrix(cm, title, norm=False):\n",
    "    classes=[\"sleeping\", \"sitting\",\"standing\", \"people\", \"background\"]\n",
    "    annotations = []\n",
    "    for n, row in enumerate(cm):\n",
    "        for m, val in enumerate(row):\n",
    "            text = str(\"%.2f\"%val) if norm else str(val)\n",
    "            var = cm[n][m]\n",
    "            annotations.append(\n",
    "                dict(\n",
    "                    text=text,\n",
    "                    x=classes[m], y=classes[n],\n",
    "                    xref='x1', yref='y1',\n",
    "                    font=dict(color='white'),\n",
    "                    showarrow=False)\n",
    "                )\n",
    "    data = [\n",
    "        go.Heatmap(\n",
    "            x=classes,\n",
    "            y=classes,\n",
    "            z=cm,\n",
    "#            colorscale='Viridis'\n",
    "        )\n",
    "    ]\n",
    "    \n",
    "    layout = go.Layout(\n",
    "            title='Confusion Matrix',\n",
    "            annotations=annotations,\n",
    "            xaxis=dict(title='Predicted value',),\n",
    "            yaxis=dict(title='Real value',)\n",
    "    )\n",
    "    \n",
    "    fig = go.Figure(data=data, layout=layout)\n",
    "    return py.iplot(fig, filename=title)\n",
    "    \n",
    "plotly_confusion_matrix(cm, title=\"confusion_matrix (tf)\")"
   ]
  },
  {
   "cell_type": "code",
   "execution_count": 21,
   "metadata": {
    "collapsed": false
   },
   "outputs": [
    {
     "name": "stderr",
     "output_type": "stream",
     "text": [
      "/usr/local/lib/python2.7/dist-packages/requests/packages/urllib3/util/ssl_.py:122: InsecurePlatformWarning:\n",
      "\n",
      "A true SSLContext object is not available. This prevents urllib3 from configuring SSL appropriately and may cause certain SSL connections to fail. You can upgrade to a newer version of Python to solve this. For more information, see https://urllib3.readthedocs.io/en/latest/security.html#insecureplatformwarning.\n",
      "\n"
     ]
    },
    {
     "data": {
      "text/html": [
       "<iframe id=\"igraph\" scrolling=\"no\" style=\"border:none;\" seamless=\"seamless\" src=\"https://plot.ly/~pusiol/675.embed\" height=\"525px\" width=\"100%\"></iframe>"
      ],
      "text/plain": [
       "<plotly.tools.PlotlyDisplay object>"
      ]
     },
     "execution_count": 21,
     "metadata": {},
     "output_type": "execute_result"
    }
   ],
   "source": [
    "plotly_confusion_matrix(cm_norm, title=\"confusion_matrix_normalized (tf)\", norm=True)"
   ]
  },
  {
   "cell_type": "code",
   "execution_count": null,
   "metadata": {
    "collapsed": true
   },
   "outputs": [],
   "source": []
  }
 ],
 "metadata": {
  "kernelspec": {
   "display_name": "Python 2",
   "language": "python",
   "name": "python2"
  },
  "language_info": {
   "codemirror_mode": {
    "name": "ipython",
    "version": 2
   },
   "file_extension": ".py",
   "mimetype": "text/x-python",
   "name": "python",
   "nbconvert_exporter": "python",
   "pygments_lexer": "ipython2",
   "version": "2.7.6"
  }
 },
 "nbformat": 4,
 "nbformat_minor": 0
}
