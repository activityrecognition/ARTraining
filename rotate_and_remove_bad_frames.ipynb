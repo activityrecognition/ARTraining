{
 "cells": [
  {
   "cell_type": "code",
   "execution_count": 7,
   "metadata": {
    "collapsed": true
   },
   "outputs": [],
   "source": [
    "import os\n",
    "from datetime import datetime, timedelta\n",
    "from operator import itemgetter"
   ]
  },
  {
   "cell_type": "code",
   "execution_count": 8,
   "metadata": {
    "collapsed": false
   },
   "outputs": [],
   "source": [
    "tim_14_path=\"/media/Gui2/thermix/suenos_dorados_day/14_tim/3\"\n",
    "tim_4_path=\"/media/Gui2/thermix/suenos_dorados_day/4_tim/3\"\n",
    "\n",
    "tim_14_videos = os.listdir(tim_14_path)\n",
    "tim_4_videos = os.listdir(tim_4_path)"
   ]
  },
  {
   "cell_type": "code",
   "execution_count": 9,
   "metadata": {
    "collapsed": false
   },
   "outputs": [],
   "source": [
    "dates_of_video = []\n",
    "for video in tim_14_videos:\n",
    "    name_of_video = os.path.basename(video)\n",
    "\n",
    "    # str_date_of_video = 2016-06-20T18%3A46%3A22\n",
    "    str_date_of_video = \"T\".join(os.path.splitext(name_of_video)[0].split(\"_\")[-2:])\n",
    "\n",
    "    # date_of_video = datetime(2016-06-20 18:46:22)\n",
    "    date_of_video = datetime.strptime(str_date_of_video,\"%Y-%m-%dT%H%%3A%M%%3A%S\")\n",
    "\n",
    "    #convert to argentinian date\n",
    "    date_of_video -= timedelta(hours=3)\n",
    "    \n",
    "    dates_of_video.append((date_of_video, video))\n",
    "    \n",
    "dates_of_video = sorted(dates_of_video, key=itemgetter(0))"
   ]
  },
  {
   "cell_type": "code",
   "execution_count": 54,
   "metadata": {
    "collapsed": false
   },
   "outputs": [],
   "source": [
    "dates_to_remove = []\n",
    "dates_to_rotate = []\n",
    "\n",
    "dates_to_remove.append((datetime(2016, 6, 22, 20, 0, 0), datetime(2016, 6, 22, 20, 11, 10)))\n",
    "dates_to_remove.append((datetime(2016, 6, 23, 0, 41, 0), datetime(2016, 6, 23, 2, 13, 0)))\n",
    "dates_to_remove.append((datetime(2016, 6, 23, 3, 36, 0), datetime(2016, 6, 23, 8, 11, 0)))\n",
    "dates_to_remove.append((datetime(2016, 6, 23, 8, 26, 0), datetime(2016, 6, 23, 8, 27, 0)))\n",
    "\n",
    "dates_to_rotate.append((datetime(2016, 6, 23, 8, 28, 0), datetime(2016, 6, 23, 10, 27, 0)))\n",
    "dates_to_rotate.append((datetime(2016, 6, 23, 13, 24, 0), datetime(2016, 6, 25, 17, 34, 0)))\n",
    "\n",
    "dates_to_remove.append((datetime(2016, 6, 25, 17, 35, 0), datetime(2016, 6, 25, 20, 48, 0)))\n",
    "dates_to_remove.append((datetime(2016, 6, 26, 6, 49, 0), datetime(2016, 6, 26, 16, 26, 0)))\n",
    "dates_to_remove.append((datetime(2016, 6, 26, 17, 25, 0), datetime(2016, 6, 27, 0, 0, 0)))\n",
    "\n",
    "for_removing = []\n",
    "for dat,video in dates_of_video:\n",
    "    for dat_range in dates_to_remove:\n",
    "        if dat > dat_range[0] and dat < dat_range[1]:\n",
    "            for_removing.append((dat,video))\n",
    "            break\n",
    "            \n",
    "for_rotating = []\n",
    "for dat,video in dates_of_video:\n",
    "    for dat_range in dates_to_rotate:\n",
    "        if dat > dat_range[0] and dat < dat_range[1]:\n",
    "            for_rotating.append((dat,video))\n",
    "            break"
   ]
  },
  {
   "cell_type": "code",
   "execution_count": 57,
   "metadata": {
    "collapsed": false
   },
   "outputs": [],
   "source": [
    "import shutil\n",
    "\n",
    "for dat,video in for_removing:\n",
    "    shutil.rmtree(os.path.join(tim_14_path, video))\n",
    "    shutil.rmtree(os.path.join(tim_4_path, video[:-2]))"
   ]
  },
  {
   "cell_type": "code",
   "execution_count": null,
   "metadata": {
    "collapsed": false
   },
   "outputs": [],
   "source": [
    "from PIL import Image\n",
    "\n",
    "for dat,video in for_rotating:\n",
    "    video_path = os.path.join(tim_14_path, video)\n",
    "    frames = os.listdir(video_path)\n",
    "    for frame in frames:\n",
    "        frame_path = os.path.join(video_path,frame)\n",
    "        im = Image.open(frame_path) \n",
    "        im2=im.rotate(90)\n",
    "        im2.save(frame_path)\n",
    "        \n",
    "    video_path = os.path.join(tim_4_path, video[:-2])\n",
    "    frames = os.listdir(video_path)\n",
    "    for frame in frames:\n",
    "        frame_path = os.path.join(video_path,frame)\n",
    "        im = Image.open(frame_path) \n",
    "        im2=im.rotate(-90)\n",
    "        im2.save(frame_path)"
   ]
  },
  {
   "cell_type": "markdown",
   "metadata": {},
   "source": [
    " "
   ]
  }
 ],
 "metadata": {
  "kernelspec": {
   "display_name": "Python 2",
   "language": "python",
   "name": "python2"
  },
  "language_info": {
   "codemirror_mode": {
    "name": "ipython",
    "version": 2
   },
   "file_extension": ".py",
   "mimetype": "text/x-python",
   "name": "python",
   "nbconvert_exporter": "python",
   "pygments_lexer": "ipython2",
   "version": "2.7.6"
  }
 },
 "nbformat": 4,
 "nbformat_minor": 0
}
