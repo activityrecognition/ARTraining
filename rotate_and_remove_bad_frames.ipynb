{
 "cells": [
  {
   "cell_type": "code",
   "execution_count": 1,
   "metadata": {
    "collapsed": true
   },
   "outputs": [],
   "source": [
    "import os\n",
    "from datetime import datetime, timedelta\n",
    "from operator import itemgetter"
   ]
  },
  {
   "cell_type": "code",
   "execution_count": 2,
   "metadata": {
    "collapsed": false
   },
   "outputs": [],
   "source": [
    "tim_14_path=\"/media/Gui2/thermix/ARTraining/trained_models/thermix_33a/classification_pedro/14_tim/3\"\n",
    "\n",
    "tim_14_videos = os.listdir(tim_14_path)"
   ]
  },
  {
   "cell_type": "code",
   "execution_count": 3,
   "metadata": {
    "collapsed": false
   },
   "outputs": [],
   "source": [
    "dates_of_video = []\n",
    "for video in tim_14_videos:\n",
    "    name_of_video = os.path.basename(video)\n",
    "\n",
    "    # str_date_of_video = 2016-06-20T18%3A46%3A22\n",
    "    str_date_of_video = \"T\".join(os.path.splitext(name_of_video)[0].split(\"_\")[-2:])\n",
    "\n",
    "    # date_of_video = datetime(2016-06-20 18:46:22)\n",
    "    date_of_video = datetime.strptime(str_date_of_video,\"%Y-%m-%dT%H%%3A%M%%3A%S\")\n",
    "\n",
    "    #convert to argentinian date\n",
    "    date_of_video -= timedelta(hours=3)\n",
    "    \n",
    "    dates_of_video.append((date_of_video, video))\n",
    "    \n",
    "dates_of_video = sorted(dates_of_video, key=itemgetter(0))"
   ]
  },
  {
   "cell_type": "code",
   "execution_count": 54,
   "metadata": {
    "collapsed": false
   },
   "outputs": [],
   "source": [
    "dates_to_remove = []\n",
    "dates_to_rotate = []\n",
    "\n",
    "dates_to_remove.append((datetime(2016, 6, 22, 20, 0, 0), datetime(2016, 6, 22, 20, 11, 10)))\n",
    "dates_to_remove.append((datetime(2016, 6, 23, 0, 41, 0), datetime(2016, 6, 23, 2, 13, 0)))\n",
    "dates_to_remove.append((datetime(2016, 6, 23, 3, 36, 0), datetime(2016, 6, 23, 8, 11, 0)))\n",
    "dates_to_remove.append((datetime(2016, 6, 23, 8, 26, 0), datetime(2016, 6, 23, 8, 27, 0)))\n",
    "\n",
    "dates_to_rotate.append((datetime(2016, 6, 23, 8, 28, 0), datetime(2016, 6, 23, 10, 27, 0)))\n",
    "dates_to_rotate.append((datetime(2016, 6, 23, 13, 24, 0), datetime(2016, 6, 25, 17, 34, 0)))\n",
    "\n",
    "dates_to_remove.append((datetime(2016, 6, 25, 17, 35, 0), datetime(2016, 6, 25, 20, 48, 0)))\n",
    "dates_to_remove.append((datetime(2016, 6, 26, 6, 49, 0), datetime(2016, 6, 26, 16, 26, 0)))\n",
    "dates_to_remove.append((datetime(2016, 6, 26, 17, 25, 0), datetime(2016, 6, 27, 0, 0, 0)))\n",
    "\n",
    "for_removing = []\n",
    "for dat,video in dates_of_video:\n",
    "    for dat_range in dates_to_remove:\n",
    "        if dat > dat_range[0] and dat < dat_range[1]:\n",
    "            for_removing.append((dat,video))\n",
    "            break\n",
    "            \n",
    "for_rotating = []\n",
    "for dat,video in dates_of_video:\n",
    "    for dat_range in dates_to_rotate:\n",
    "        if dat > dat_range[0] and dat < dat_range[1]:\n",
    "            for_rotating.append((dat,video))\n",
    "            break"
   ]
  },
  {
   "cell_type": "code",
   "execution_count": 5,
   "metadata": {
    "collapsed": false
   },
   "outputs": [
    {
     "name": "stdout",
     "output_type": "stream",
     "text": [
      "[(datetime.datetime(2016, 7, 9, 11, 0, 15), 'Users_ipod5_unkown_2016-07-09_14%3A00%3A15.000000_1'), (datetime.datetime(2016, 7, 9, 11, 4, 51), 'Users_ipod5_unkown_2016-07-09_14%3A04%3A51.000000_1'), (datetime.datetime(2016, 7, 9, 11, 18, 30), 'Users_ipod5_unkown_2016-07-09_14%3A18%3A30.000000_1'), (datetime.datetime(2016, 7, 9, 11, 27, 36), 'Users_ipod5_unkown_2016-07-09_14%3A27%3A36.000000_1'), (datetime.datetime(2016, 7, 9, 11, 32, 10), 'Users_ipod5_unkown_2016-07-09_14%3A32%3A10.000000_1'), (datetime.datetime(2016, 7, 9, 11, 36, 40), 'Users_ipod5_unkown_2016-07-09_14%3A36%3A40.000000_1'), (datetime.datetime(2016, 7, 9, 11, 48, 1), 'Users_ipod5_unkown_2016-07-09_14%3A48%3A01.000000_1'), (datetime.datetime(2016, 7, 9, 11, 52, 36), 'Users_ipod5_unkown_2016-07-09_14%3A52%3A36.000000_1'), (datetime.datetime(2016, 7, 9, 11, 54, 42), 'Users_ipod5_unkown_2016-07-09_14%3A54%3A42.000000_1'), (datetime.datetime(2016, 7, 9, 11, 57, 8), 'Users_ipod5_unkown_2016-07-09_14%3A57%3A08.000000_1'), (datetime.datetime(2016, 7, 9, 12, 3, 48), 'Users_ipod5_unkown_2016-07-09_15%3A03%3A48.000000_1'), (datetime.datetime(2016, 7, 9, 12, 8, 22), 'Users_ipod5_unkown_2016-07-09_15%3A08%3A22.000000_1'), (datetime.datetime(2016, 7, 9, 12, 12, 53), 'Users_ipod5_unkown_2016-07-09_15%3A12%3A53.000000_1'), (datetime.datetime(2016, 7, 9, 12, 17, 28), 'Users_ipod5_unkown_2016-07-09_15%3A17%3A28.000000_1'), (datetime.datetime(2016, 7, 9, 12, 24, 11), 'Users_ipod5_unkown_2016-07-09_15%3A24%3A11.000000_1'), (datetime.datetime(2016, 7, 9, 12, 33, 19), 'Users_ipod5_unkown_2016-07-09_15%3A33%3A19.000000_1'), (datetime.datetime(2016, 7, 9, 12, 37, 50), 'Users_ipod5_unkown_2016-07-09_15%3A37%3A50.000000_1'), (datetime.datetime(2016, 7, 9, 12, 42, 25), 'Users_ipod5_unkown_2016-07-09_15%3A42%3A25.000000_1'), (datetime.datetime(2016, 7, 9, 12, 46, 58), 'Users_ipod5_unkown_2016-07-09_15%3A46%3A58.000000_1'), (datetime.datetime(2016, 7, 9, 12, 56, 5), 'Users_ipod5_unkown_2016-07-09_15%3A56%3A05.000000_1'), (datetime.datetime(2016, 7, 9, 13, 0, 37), 'Users_ipod5_unkown_2016-07-09_16%3A00%3A37.000000_1'), (datetime.datetime(2016, 7, 9, 13, 7, 22), 'Users_ipod5_unkown_2016-07-09_16%3A07%3A22.000000_1'), (datetime.datetime(2016, 7, 9, 13, 11, 57), 'Users_ipod5_unkown_2016-07-09_16%3A11%3A57.000000_1'), (datetime.datetime(2016, 7, 9, 13, 32, 20), 'Users_ipod5_unkown_2016-07-09_16%3A32%3A20.000000_1'), (datetime.datetime(2016, 7, 9, 13, 36, 54), 'Users_ipod5_unkown_2016-07-09_16%3A36%3A54.000000_1'), (datetime.datetime(2016, 7, 9, 13, 48, 12), 'Users_ipod5_unkown_2016-07-09_16%3A48%3A12.000000_1'), (datetime.datetime(2016, 7, 9, 13, 52, 43), 'Users_ipod5_unkown_2016-07-09_16%3A52%3A43.000000_1'), (datetime.datetime(2016, 7, 9, 13, 57, 16), 'Users_ipod5_unkown_2016-07-09_16%3A57%3A16.000000_1'), (datetime.datetime(2016, 7, 9, 14, 1, 49), 'Users_ipod5_unkown_2016-07-09_17%3A01%3A49.000000_1'), (datetime.datetime(2016, 7, 9, 14, 10, 56), 'Users_ipod5_unkown_2016-07-09_17%3A10%3A56.000000_1'), (datetime.datetime(2016, 7, 9, 14, 24, 34), 'Users_ipod5_unkown_2016-07-09_17%3A24%3A34.000000_1'), (datetime.datetime(2016, 7, 9, 14, 26, 43), 'Users_ipod5_unkown_2016-07-09_17%3A26%3A43.000000_1'), (datetime.datetime(2016, 7, 9, 14, 31, 15), 'Users_ipod5_unkown_2016-07-09_17%3A31%3A15.000000_1'), (datetime.datetime(2016, 7, 9, 14, 40, 21), 'Users_ipod5_unkown_2016-07-09_17%3A40%3A21.000000_1'), (datetime.datetime(2016, 7, 9, 14, 47, 7), 'Users_ipod5_unkown_2016-07-09_17%3A47%3A07.000000_1'), (datetime.datetime(2016, 7, 9, 14, 47, 44), 'Users_ipod5_unkown_2016-07-09_17%3A47%3A44.000000_1'), (datetime.datetime(2016, 7, 9, 14, 48, 2), 'Users_ipod5_unkown_2016-07-09_17%3A48%3A02.000000_1'), (datetime.datetime(2016, 7, 9, 14, 51, 43), 'Users_ipod5_unkown_2016-07-09_17%3A51%3A43.000000_1'), (datetime.datetime(2016, 7, 9, 15, 0, 49), 'Users_ipod5_unkown_2016-07-09_18%3A00%3A49.000000_1'), (datetime.datetime(2016, 7, 9, 15, 9, 56), 'Users_ipod5_unkown_2016-07-09_18%3A09%3A56.000000_1'), (datetime.datetime(2016, 7, 9, 15, 14, 28), 'Users_ipod5_unkown_2016-07-09_18%3A14%3A28.000000_1'), (datetime.datetime(2016, 7, 9, 15, 16, 38), 'Users_ipod5_unkown_2016-07-09_18%3A16%3A38.000000_1'), (datetime.datetime(2016, 7, 9, 15, 21, 12), 'Users_ipod5_unkown_2016-07-09_18%3A21%3A12.000000_1'), (datetime.datetime(2016, 7, 9, 15, 25, 48), 'Users_ipod5_unkown_2016-07-09_18%3A25%3A48.000000_1'), (datetime.datetime(2016, 7, 9, 15, 59, 25), 'Users_ipod5_unkown_2016-07-09_18%3A59%3A25.000000_1'), (datetime.datetime(2016, 7, 9, 16, 4, 17), 'Users_ipod5_unkown_2016-07-09_19%3A04%3A17.000000_1'), (datetime.datetime(2016, 7, 9, 16, 8, 47), 'Users_ipod5_unkown_2016-07-09_19%3A08%3A47.000000_1'), (datetime.datetime(2016, 7, 9, 16, 17, 55), 'Users_ipod5_unkown_2016-07-09_19%3A17%3A55.000000_1'), (datetime.datetime(2016, 7, 9, 16, 24, 45), 'Users_ipod5_unkown_2016-07-09_19%3A24%3A45.000000_1'), (datetime.datetime(2016, 7, 9, 16, 36, 8), 'Users_ipod5_unkown_2016-07-09_19%3A36%3A08.000000_1'), (datetime.datetime(2016, 7, 9, 16, 47, 26), 'Users_ipod5_unkown_2016-07-09_19%3A47%3A26.000000_1'), (datetime.datetime(2016, 7, 9, 16, 54, 9), 'Users_ipod5_unkown_2016-07-09_19%3A54%3A09.000000_1'), (datetime.datetime(2016, 7, 9, 16, 58, 43), 'Users_ipod5_unkown_2016-07-09_19%3A58%3A43.000000_1'), (datetime.datetime(2016, 7, 9, 17, 3, 16), 'Users_ipod5_unkown_2016-07-09_20%3A03%3A16.000000_1'), (datetime.datetime(2016, 7, 9, 17, 7, 51), 'Users_ipod5_unkown_2016-07-09_20%3A07%3A51.000000_1'), (datetime.datetime(2016, 7, 9, 17, 14, 41), 'Users_ipod5_unkown_2016-07-09_20%3A14%3A41.000000_1'), (datetime.datetime(2016, 7, 9, 17, 29, 23), 'Users_ipod5_unkown_2016-07-09_20%3A29%3A23.000000_1'), (datetime.datetime(2016, 7, 9, 17, 32, 43), 'Users_ipod5_unkown_2016-07-09_20%3A32%3A43.000000_1'), (datetime.datetime(2016, 7, 9, 17, 37, 16), 'Users_ipod5_unkown_2016-07-09_20%3A37%3A16.000000_1'), (datetime.datetime(2016, 7, 9, 17, 46, 25), 'Users_ipod5_unkown_2016-07-09_20%3A46%3A25.000000_1'), (datetime.datetime(2016, 7, 9, 17, 53, 9), 'Users_ipod5_unkown_2016-07-09_20%3A53%3A09.000000_1'), (datetime.datetime(2016, 7, 9, 17, 57, 44), 'Users_ipod5_unkown_2016-07-09_20%3A57%3A44.000000_1'), (datetime.datetime(2016, 7, 9, 18, 2, 17), 'Users_ipod5_unkown_2016-07-09_21%3A02%3A17.000000_1'), (datetime.datetime(2016, 7, 9, 18, 4, 28), 'Users_ipod5_unkown_2016-07-09_21%3A04%3A28.000000_1'), (datetime.datetime(2016, 7, 9, 18, 6, 54), 'Users_ipod5_unkown_2016-07-09_21%3A06%3A54.000000_1'), (datetime.datetime(2016, 7, 9, 18, 15, 50), 'Users_ipod5_unkown_2016-07-09_21%3A15%3A50.000000_1'), (datetime.datetime(2016, 7, 9, 18, 20, 27), 'Users_ipod5_unkown_2016-07-09_21%3A20%3A27.000000_1'), (datetime.datetime(2016, 7, 9, 18, 25, 4), 'Users_ipod5_unkown_2016-07-09_21%3A25%3A04.000000_1'), (datetime.datetime(2016, 7, 9, 18, 27, 16), 'Users_ipod5_unkown_2016-07-09_21%3A27%3A16.000000_1'), (datetime.datetime(2016, 7, 9, 18, 36, 14), 'Users_ipod5_unkown_2016-07-09_21%3A36%3A14.000000_1'), (datetime.datetime(2016, 7, 9, 18, 45, 22), 'Users_ipod5_unkown_2016-07-09_21%3A45%3A22.000000_1'), (datetime.datetime(2016, 7, 9, 18, 49, 53), 'Users_ipod5_unkown_2016-07-09_21%3A49%3A53.000000_1'), (datetime.datetime(2016, 7, 9, 18, 54, 31), 'Users_ipod5_unkown_2016-07-09_21%3A54%3A31.000000_1'), (datetime.datetime(2016, 7, 9, 18, 56, 40), 'Users_ipod5_unkown_2016-07-09_21%3A56%3A40.000000_1'), (datetime.datetime(2016, 7, 9, 19, 3, 35), 'Users_ipod5_unkown_2016-07-09_22%3A03%3A35.000000_1'), (datetime.datetime(2016, 7, 9, 19, 19, 22), 'Users_ipod5_unkown_2016-07-09_22%3A19%3A22.000000_1'), (datetime.datetime(2016, 7, 9, 19, 21, 32), 'Users_ipod5_unkown_2016-07-09_22%3A21%3A32.000000_1'), (datetime.datetime(2016, 7, 9, 19, 23, 57), 'Users_ipod5_unkown_2016-07-09_22%3A23%3A57.000000_1'), (datetime.datetime(2016, 7, 9, 19, 39, 46), 'Users_ipod5_unkown_2016-07-09_22%3A39%3A46.000000_1'), (datetime.datetime(2016, 7, 9, 19, 41, 55), 'Users_ipod5_unkown_2016-07-09_22%3A41%3A55.000000_1'), (datetime.datetime(2016, 7, 9, 19, 46, 33), 'Users_ipod5_unkown_2016-07-09_22%3A46%3A33.000000_1'), (datetime.datetime(2016, 7, 9, 19, 48, 42), 'Users_ipod5_unkown_2016-07-09_22%3A48%3A42.000000_1'), (datetime.datetime(2016, 7, 9, 19, 53, 19), 'Users_ipod5_unkown_2016-07-09_22%3A53%3A19.000000_1'), (datetime.datetime(2016, 7, 9, 19, 55, 29), 'Users_ipod5_unkown_2016-07-09_22%3A55%3A29.000000_1'), (datetime.datetime(2016, 7, 9, 20, 2, 26), 'Users_ipod5_unkown_2016-07-09_23%3A02%3A26.000000_1'), (datetime.datetime(2016, 7, 9, 20, 4, 34), 'Users_ipod5_unkown_2016-07-09_23%3A04%3A34.000000_1'), (datetime.datetime(2016, 7, 9, 20, 9, 15), 'Users_ipod5_unkown_2016-07-09_23%3A09%3A15.000000_1'), (datetime.datetime(2016, 7, 9, 20, 11, 27), 'Users_ipod5_unkown_2016-07-09_23%3A11%3A27.000000_1'), (datetime.datetime(2016, 7, 9, 20, 22, 48), 'Users_ipod5_unkown_2016-07-09_23%3A22%3A48.000000_1'), (datetime.datetime(2016, 7, 9, 20, 24, 57), 'Users_ipod5_unkown_2016-07-09_23%3A24%3A57.000000_1'), (datetime.datetime(2016, 7, 9, 20, 29, 34), 'Users_ipod5_unkown_2016-07-09_23%3A29%3A34.000000_1'), (datetime.datetime(2016, 7, 9, 20, 31, 45), 'Users_ipod5_unkown_2016-07-09_23%3A31%3A45.000000_1'), (datetime.datetime(2016, 7, 9, 20, 38, 36), 'Users_ipod5_unkown_2016-07-09_23%3A38%3A36.000000_1'), (datetime.datetime(2016, 7, 9, 20, 40, 47), 'Users_ipod5_unkown_2016-07-09_23%3A40%3A47.000000_1'), (datetime.datetime(2016, 7, 9, 20, 54, 32), 'Users_ipod5_unkown_2016-07-09_23%3A54%3A32.000000_1'), (datetime.datetime(2016, 7, 9, 20, 56, 41), 'Users_ipod5_unkown_2016-07-09_23%3A56%3A41.000000_1'), (datetime.datetime(2016, 7, 9, 21, 3, 29), 'Users_ipod5_unkown_2016-07-10_00%3A03%3A29.000000_1'), (datetime.datetime(2016, 7, 9, 21, 14, 55), 'Users_ipod5_unkown_2016-07-10_00%3A14%3A55.000000_1'), (datetime.datetime(2016, 7, 9, 21, 17, 5), 'Users_ipod5_unkown_2016-07-10_00%3A17%3A05.000000_1'), (datetime.datetime(2016, 7, 9, 21, 21, 41), 'Users_ipod5_unkown_2016-07-10_00%3A21%3A41.000000_1'), (datetime.datetime(2016, 7, 9, 21, 23, 52), 'Users_ipod5_unkown_2016-07-10_00%3A23%3A52.000000_1'), (datetime.datetime(2016, 7, 9, 21, 30, 45), 'Users_ipod5_unkown_2016-07-10_00%3A30%3A45.000000_1'), (datetime.datetime(2016, 7, 9, 21, 37, 30), 'Users_ipod5_unkown_2016-07-10_00%3A37%3A30.000000_1'), (datetime.datetime(2016, 7, 9, 21, 44, 17), 'Users_ipod5_unkown_2016-07-10_00%3A44%3A17.000000_1'), (datetime.datetime(2016, 7, 9, 21, 53, 26), 'Users_ipod5_unkown_2016-07-10_00%3A53%3A26.000000_1'), (datetime.datetime(2016, 7, 9, 22, 4, 42), 'Users_ipod5_unkown_2016-07-10_01%3A04%3A42.000000_1'), (datetime.datetime(2016, 7, 9, 22, 6, 52), 'Users_ipod5_unkown_2016-07-10_01%3A06%3A52.000000_1'), (datetime.datetime(2016, 7, 9, 22, 11, 32), 'Users_ipod5_unkown_2016-07-10_01%3A11%3A32.000000_1'), (datetime.datetime(2016, 7, 9, 22, 13, 41), 'Users_ipod5_unkown_2016-07-10_01%3A13%3A41.000000_1'), (datetime.datetime(2016, 7, 9, 22, 18, 20), 'Users_ipod5_unkown_2016-07-10_01%3A18%3A20.000000_1'), (datetime.datetime(2016, 7, 9, 22, 25, 8), 'Users_ipod5_unkown_2016-07-10_01%3A25%3A08.000000_1'), (datetime.datetime(2016, 7, 9, 22, 34, 10), 'Users_ipod5_unkown_2016-07-10_01%3A34%3A10.000000_1'), (datetime.datetime(2016, 7, 9, 22, 40, 57), 'Users_ipod5_unkown_2016-07-10_01%3A40%3A57.000000_1'), (datetime.datetime(2016, 7, 9, 22, 47, 48), 'Users_ipod5_unkown_2016-07-10_01%3A47%3A48.000000_1'), (datetime.datetime(2016, 7, 9, 22, 49, 58), 'Users_ipod5_unkown_2016-07-10_01%3A49%3A58.000000_1'), (datetime.datetime(2016, 7, 9, 22, 54, 37), 'Users_ipod5_unkown_2016-07-10_01%3A54%3A37.000000_1'), (datetime.datetime(2016, 7, 9, 22, 56, 45), 'Users_ipod5_unkown_2016-07-10_01%3A56%3A45.000000_1'), (datetime.datetime(2016, 7, 9, 23, 21, 38), 'Users_ipod5_unkown_2016-07-10_02%3A21%3A38.000000_1'), (datetime.datetime(2016, 7, 9, 23, 26, 17), 'Users_ipod5_unkown_2016-07-10_02%3A26%3A17.000000_1'), (datetime.datetime(2016, 7, 9, 23, 28, 27), 'Users_ipod5_unkown_2016-07-10_02%3A28%3A27.000000_1'), (datetime.datetime(2016, 7, 9, 23, 37, 40), 'Users_ipod5_unkown_2016-07-10_02%3A37%3A40.000000_1'), (datetime.datetime(2016, 7, 9, 23, 39, 53), 'Users_ipod5_unkown_2016-07-10_02%3A39%3A53.000000_1'), (datetime.datetime(2016, 7, 9, 23, 46, 39), 'Users_ipod5_unkown_2016-07-10_02%3A46%3A39.000000_1'), (datetime.datetime(2016, 7, 9, 23, 53, 31), 'Users_ipod5_unkown_2016-07-10_02%3A53%3A31.000000_1'), (datetime.datetime(2016, 7, 9, 23, 55, 44), 'Users_ipod5_unkown_2016-07-10_02%3A55%3A44.000000_1'), (datetime.datetime(2016, 7, 9, 23, 57, 54), 'Users_ipod5_unkown_2016-07-10_02%3A57%3A54.000000_1'), (datetime.datetime(2016, 7, 10, 0, 22, 52), 'Users_ipod5_unkown_2016-07-10_03%3A22%3A52.000000_1'), (datetime.datetime(2016, 7, 10, 0, 34, 10), 'Users_ipod5_unkown_2016-07-10_03%3A34%3A10.000000_1'), (datetime.datetime(2016, 7, 10, 0, 43, 19), 'Users_ipod5_unkown_2016-07-10_03%3A43%3A19.000000_1'), (datetime.datetime(2016, 7, 10, 0, 43, 38), 'Users_ipod5_unkown_2016-07-10_03%3A43%3A38.000000_1'), (datetime.datetime(2016, 7, 10, 0, 43, 57), 'Users_ipod5_unkown_2016-07-10_03%3A43%3A57.000000_1'), (datetime.datetime(2016, 7, 10, 0, 44, 34), 'Users_ipod5_unkown_2016-07-10_03%3A44%3A34.000000_1'), (datetime.datetime(2016, 7, 10, 0, 44, 53), 'Users_ipod5_unkown_2016-07-10_03%3A44%3A53.000000_1'), (datetime.datetime(2016, 7, 10, 0, 45, 12), 'Users_ipod5_unkown_2016-07-10_03%3A45%3A12.000000_1'), (datetime.datetime(2016, 7, 10, 0, 45, 30), 'Users_ipod5_unkown_2016-07-10_03%3A45%3A30.000000_1'), (datetime.datetime(2016, 7, 10, 0, 45, 49), 'Users_ipod5_unkown_2016-07-10_03%3A45%3A49.000000_1'), (datetime.datetime(2016, 7, 10, 0, 46, 9), 'Users_ipod5_unkown_2016-07-10_03%3A46%3A09.000000_1'), (datetime.datetime(2016, 7, 10, 0, 46, 27), 'Users_ipod5_unkown_2016-07-10_03%3A46%3A27.000000_1'), (datetime.datetime(2016, 7, 10, 0, 46, 46), 'Users_ipod5_unkown_2016-07-10_03%3A46%3A46.000000_1'), (datetime.datetime(2016, 7, 10, 0, 47, 3), 'Users_ipod5_unkown_2016-07-10_03%3A47%3A03.000000_1'), (datetime.datetime(2016, 7, 10, 0, 47, 22), 'Users_ipod5_unkown_2016-07-10_03%3A47%3A22.000000_1'), (datetime.datetime(2016, 7, 10, 0, 47, 40), 'Users_ipod5_unkown_2016-07-10_03%3A47%3A40.000000_1'), (datetime.datetime(2016, 7, 10, 0, 47, 59), 'Users_ipod5_unkown_2016-07-10_03%3A47%3A59.000000_1'), (datetime.datetime(2016, 7, 10, 0, 48, 17), 'Users_ipod5_unkown_2016-07-10_03%3A48%3A17.000000_1'), (datetime.datetime(2016, 7, 10, 0, 48, 35), 'Users_ipod5_unkown_2016-07-10_03%3A48%3A35.000000_1'), (datetime.datetime(2016, 7, 10, 0, 48, 53), 'Users_ipod5_unkown_2016-07-10_03%3A48%3A53.000000_1'), (datetime.datetime(2016, 7, 10, 0, 49, 12), 'Users_ipod5_unkown_2016-07-10_03%3A49%3A12.000000_1'), (datetime.datetime(2016, 7, 10, 0, 49, 30), 'Users_ipod5_unkown_2016-07-10_03%3A49%3A30.000000_1'), (datetime.datetime(2016, 7, 10, 0, 49, 48), 'Users_ipod5_unkown_2016-07-10_03%3A49%3A48.000000_1'), (datetime.datetime(2016, 7, 10, 0, 59, 14), 'Users_ipod5_unkown_2016-07-10_03%3A59%3A14.000000_1'), (datetime.datetime(2016, 7, 10, 1, 3, 48), 'Users_ipod5_unkown_2016-07-10_04%3A03%3A48.000000_1'), (datetime.datetime(2016, 7, 10, 1, 5, 56), 'Users_ipod5_unkown_2016-07-10_04%3A05%3A56.000000_1'), (datetime.datetime(2016, 7, 10, 1, 8, 21), 'Users_ipod5_unkown_2016-07-10_04%3A08%3A21.000000_1'), (datetime.datetime(2016, 7, 10, 1, 10, 30), 'Users_ipod5_unkown_2016-07-10_04%3A10%3A30.000000_1'), (datetime.datetime(2016, 7, 10, 1, 15, 2), 'Users_ipod5_unkown_2016-07-10_04%3A15%3A02.000000_1'), (datetime.datetime(2016, 7, 10, 1, 37, 42), 'Users_ipod5_unkown_2016-07-10_04%3A37%3A42.000000_1'), (datetime.datetime(2016, 7, 10, 1, 42, 17), 'Users_ipod5_unkown_2016-07-10_04%3A42%3A17.000000_1'), (datetime.datetime(2016, 7, 10, 1, 44, 26), 'Users_ipod5_unkown_2016-07-10_04%3A44%3A26.000000_1'), (datetime.datetime(2016, 7, 10, 1, 49, 1), 'Users_ipod5_unkown_2016-07-10_04%3A49%3A01.000000_1'), (datetime.datetime(2016, 7, 10, 1, 55, 53), 'Users_ipod5_unkown_2016-07-10_04%3A55%3A53.000000_1'), (datetime.datetime(2016, 7, 10, 2, 0, 26), 'Users_ipod5_unkown_2016-07-10_05%3A00%3A26.000000_1'), (datetime.datetime(2016, 7, 10, 2, 2, 35), 'Users_ipod5_unkown_2016-07-10_05%3A02%3A35.000000_1'), (datetime.datetime(2016, 7, 10, 2, 7, 9), 'Users_ipod5_unkown_2016-07-10_05%3A07%3A09.000000_1'), (datetime.datetime(2016, 7, 10, 2, 20, 49), 'Users_ipod5_unkown_2016-07-10_05%3A20%3A49.000000_1'), (datetime.datetime(2016, 7, 10, 2, 22, 56), 'Users_ipod5_unkown_2016-07-10_05%3A22%3A56.000000_1'), (datetime.datetime(2016, 7, 10, 2, 32, 6), 'Users_ipod5_unkown_2016-07-10_05%3A32%3A06.000000_1'), (datetime.datetime(2016, 7, 10, 2, 52, 20), 'Users_ipod5_unkown_2016-07-10_05%3A52%3A20.000000_1'), (datetime.datetime(2016, 7, 10, 3, 3, 46), 'Users_ipod5_unkown_2016-07-10_06%3A03%3A46.000000_1'), (datetime.datetime(2016, 7, 10, 3, 5, 56), 'Users_ipod5_unkown_2016-07-10_06%3A05%3A56.000000_1'), (datetime.datetime(2016, 7, 10, 3, 8, 22), 'Users_ipod5_unkown_2016-07-10_06%3A08%3A22.000000_1'), (datetime.datetime(2016, 7, 10, 3, 10, 30), 'Users_ipod5_unkown_2016-07-10_06%3A10%3A30.000000_1'), (datetime.datetime(2016, 7, 10, 3, 15, 6), 'Users_ipod5_unkown_2016-07-10_06%3A15%3A06.000000_1'), (datetime.datetime(2016, 7, 10, 3, 19, 41), 'Users_ipod5_unkown_2016-07-10_06%3A19%3A41.000000_1'), (datetime.datetime(2016, 7, 10, 3, 21, 50), 'Users_ipod5_unkown_2016-07-10_06%3A21%3A50.000000_1'), (datetime.datetime(2016, 7, 10, 3, 26, 24), 'Users_ipod5_unkown_2016-07-10_06%3A26%3A24.000000_1'), (datetime.datetime(2016, 7, 10, 3, 28, 35), 'Users_ipod5_unkown_2016-07-10_06%3A28%3A35.000000_1'), (datetime.datetime(2016, 7, 10, 3, 39, 57), 'Users_ipod5_unkown_2016-07-10_06%3A39%3A57.000000_1'), (datetime.datetime(2016, 7, 10, 3, 58, 7), 'Users_ipod5_unkown_2016-07-10_06%3A58%3A07.000000_1'), (datetime.datetime(2016, 7, 10, 4, 0, 17), 'Users_ipod5_unkown_2016-07-10_07%3A00%3A17.000000_1'), (datetime.datetime(2016, 7, 10, 4, 4, 52), 'Users_ipod5_unkown_2016-07-10_07%3A04%3A52.000000_1'), (datetime.datetime(2016, 7, 10, 4, 11, 38), 'Users_ipod5_unkown_2016-07-10_07%3A11%3A38.000000_1'), (datetime.datetime(2016, 7, 10, 4, 18, 31), 'Users_ipod5_unkown_2016-07-10_07%3A18%3A31.000000_1'), (datetime.datetime(2016, 7, 10, 4, 20, 42), 'Users_ipod5_unkown_2016-07-10_07%3A20%3A42.000000_1'), (datetime.datetime(2016, 7, 10, 4, 29, 49), 'Users_ipod5_unkown_2016-07-10_07%3A29%3A49.000000_1'), (datetime.datetime(2016, 7, 10, 4, 36, 33), 'Users_ipod5_unkown_2016-07-10_07%3A36%3A33.000000_1'), (datetime.datetime(2016, 7, 10, 4, 42, 4), 'Users_ipod5_unkown_2016-07-10_07%3A42%3A04.000000_1'), (datetime.datetime(2016, 7, 10, 4, 43, 17), 'Users_ipod5_unkown_2016-07-10_07%3A43%3A17.000000_1'), (datetime.datetime(2016, 7, 10, 4, 47, 54), 'Users_ipod5_unkown_2016-07-10_07%3A47%3A54.000000_1'), (datetime.datetime(2016, 7, 10, 4, 54, 44), 'Users_ipod5_unkown_2016-07-10_07%3A54%3A44.000000_1'), (datetime.datetime(2016, 7, 10, 5, 15, 11), 'Users_ipod5_unkown_2016-07-10_08%3A15%3A11.000000_1'), (datetime.datetime(2016, 7, 10, 5, 17, 19), 'Users_ipod5_unkown_2016-07-10_08%3A17%3A19.000000_1'), (datetime.datetime(2016, 7, 10, 5, 21, 53), 'Users_ipod5_unkown_2016-07-10_08%3A21%3A53.000000_1'), (datetime.datetime(2016, 7, 10, 5, 28, 44), 'Users_ipod5_unkown_2016-07-10_08%3A28%3A44.000000_1'), (datetime.datetime(2016, 7, 10, 5, 39, 57), 'Users_ipod5_unkown_2016-07-10_08%3A39%3A57.000000_1'), (datetime.datetime(2016, 7, 10, 5, 49, 8), 'Users_ipod5_unkown_2016-07-10_08%3A49%3A08.000000_1'), (datetime.datetime(2016, 7, 10, 5, 55, 55), 'Users_ipod5_unkown_2016-07-10_08%3A55%3A55.000000_1'), (datetime.datetime(2016, 7, 10, 6, 11, 45), 'Users_ipod5_unkown_2016-07-10_09%3A11%3A45.000000_1'), (datetime.datetime(2016, 7, 10, 6, 18, 30), 'Users_ipod5_unkown_2016-07-10_09%3A18%3A30.000000_1'), (datetime.datetime(2016, 7, 10, 6, 27, 37), 'Users_ipod5_unkown_2016-07-10_09%3A27%3A37.000000_1'), (datetime.datetime(2016, 7, 10, 6, 34, 24), 'Users_ipod5_unkown_2016-07-10_09%3A34%3A24.000000_1'), (datetime.datetime(2016, 7, 10, 6, 38, 57), 'Users_ipod5_unkown_2016-07-10_09%3A38%3A57.000000_1'), (datetime.datetime(2016, 7, 10, 6, 45, 45), 'Users_ipod5_unkown_2016-07-10_09%3A45%3A45.000000_1'), (datetime.datetime(2016, 7, 10, 7, 12, 54), 'Users_ipod5_unkown_2016-07-10_10%3A12%3A54.000000_1'), (datetime.datetime(2016, 7, 10, 7, 26, 32), 'Users_ipod5_unkown_2016-07-10_10%3A26%3A32.000000_1'), (datetime.datetime(2016, 7, 10, 7, 28, 40), 'Users_ipod5_unkown_2016-07-10_10%3A28%3A40.000000_1'), (datetime.datetime(2016, 7, 10, 7, 37, 51), 'Users_ipod5_unkown_2016-07-10_10%3A37%3A51.000000_1'), (datetime.datetime(2016, 7, 10, 7, 44, 36), 'Users_ipod5_unkown_2016-07-10_10%3A44%3A36.000000_1'), (datetime.datetime(2016, 7, 10, 7, 53, 35), 'Users_ipod5_unkown_2016-07-10_10%3A53%3A35.000000_1'), (datetime.datetime(2016, 7, 10, 8, 9, 30), 'Users_ipod5_unkown_2016-07-10_11%3A09%3A30.000000_1'), (datetime.datetime(2016, 7, 10, 8, 16, 20), 'Users_ipod5_unkown_2016-07-10_11%3A16%3A20.000000_1'), (datetime.datetime(2016, 7, 10, 8, 18, 29), 'Users_ipod5_unkown_2016-07-10_11%3A18%3A29.000000_1'), (datetime.datetime(2016, 7, 10, 8, 23, 8), 'Users_ipod5_unkown_2016-07-10_11%3A23%3A08.000000_1'), (datetime.datetime(2016, 7, 10, 8, 29, 52), 'Users_ipod5_unkown_2016-07-10_11%3A29%3A52.000000_1'), (datetime.datetime(2016, 7, 10, 8, 38, 52), 'Users_ipod5_unkown_2016-07-10_11%3A38%3A52.000000_1'), (datetime.datetime(2016, 7, 10, 8, 45, 40), 'Users_ipod5_unkown_2016-07-10_11%3A45%3A40.000000_1'), (datetime.datetime(2016, 7, 10, 8, 50, 16), 'Users_ipod5_unkown_2016-07-10_11%3A50%3A16.000000_1'), (datetime.datetime(2016, 7, 10, 8, 54, 53), 'Users_ipod5_unkown_2016-07-10_11%3A54%3A53.000000_1'), (datetime.datetime(2016, 7, 10, 8, 57, 2), 'Users_ipod5_unkown_2016-07-10_11%3A57%3A02.000000_1'), (datetime.datetime(2016, 7, 10, 9, 1, 39), 'Users_ipod5_unkown_2016-07-10_12%3A01%3A39.000000_1'), (datetime.datetime(2016, 7, 10, 9, 16, 48), 'Users_ipod5_unkown_2016-07-10_12%3A16%3A48.000000_1'), (datetime.datetime(2016, 7, 10, 9, 17, 24), 'Users_ipod5_unkown_2016-07-10_12%3A17%3A24.000000_1'), (datetime.datetime(2016, 7, 10, 9, 17, 42), 'Users_ipod5_unkown_2016-07-10_12%3A17%3A42.000000_1'), (datetime.datetime(2016, 7, 10, 9, 31, 7), 'Users_ipod5_unkown_2016-07-10_12%3A31%3A07.000000_1'), (datetime.datetime(2016, 7, 10, 9, 33, 17), 'Users_ipod5_unkown_2016-07-10_12%3A33%3A17.000000_1'), (datetime.datetime(2016, 7, 10, 9, 37, 52), 'Users_ipod5_unkown_2016-07-10_12%3A37%3A52.000000_1'), (datetime.datetime(2016, 7, 10, 9, 42, 28), 'Users_ipod5_unkown_2016-07-10_12%3A42%3A28.000000_1'), (datetime.datetime(2016, 7, 10, 10, 2, 47), 'Users_ipod5_unkown_2016-07-10_13%3A02%3A47.000000_1'), (datetime.datetime(2016, 7, 10, 10, 7, 21), 'Users_ipod5_unkown_2016-07-10_13%3A07%3A21.000000_1'), (datetime.datetime(2016, 7, 10, 10, 16, 32), 'Users_ipod5_unkown_2016-07-10_13%3A16%3A32.000000_1'), (datetime.datetime(2016, 7, 10, 10, 23, 16), 'Users_ipod5_unkown_2016-07-10_13%3A23%3A16.000000_1'), (datetime.datetime(2016, 7, 10, 10, 25, 27), 'Users_ipod5_unkown_2016-07-10_13%3A25%3A27.000000_1'), (datetime.datetime(2016, 7, 10, 10, 30, 4), 'Users_ipod5_unkown_2016-07-10_13%3A30%3A04.000000_1'), (datetime.datetime(2016, 7, 10, 10, 41, 26), 'Users_ipod5_unkown_2016-07-10_13%3A41%3A26.000000_1'), (datetime.datetime(2016, 7, 10, 10, 43, 36), 'Users_ipod5_unkown_2016-07-10_13%3A43%3A36.000000_1'), (datetime.datetime(2016, 7, 10, 10, 48, 13), 'Users_ipod5_unkown_2016-07-10_13%3A48%3A13.000000_1'), (datetime.datetime(2016, 7, 10, 10, 57, 13), 'Users_ipod5_unkown_2016-07-10_13%3A57%3A13.000000_1'), (datetime.datetime(2016, 7, 10, 11, 1, 47), 'Users_ipod5_unkown_2016-07-10_14%3A01%3A47.000000_1'), (datetime.datetime(2016, 7, 10, 11, 13, 14), 'Users_ipod5_unkown_2016-07-10_14%3A13%3A14.000000_1'), (datetime.datetime(2016, 7, 10, 11, 15, 21), 'Users_ipod5_unkown_2016-07-10_14%3A15%3A21.000000_1')]\n"
     ]
    }
   ],
   "source": [
    "import shutil\n",
    "\n",
    "rrr = []\n",
    "rrr.append((datetime(2016, 7, 9, 10, 56, 0), datetime(2016, 7, 9, 14, 15, 0)))\n",
    "rrr.append((datetime(2016, 7, 9, 14, 17, 0), datetime(2016, 7, 9, 14, 44, 0)))\n",
    "rrr.append((datetime(2016, 7, 9, 14, 47, 0), datetime(2016, 7, 9, 15, 29, 0)))\n",
    "rrr.append((datetime(2016, 7, 9, 15, 59, 0), datetime(2016, 7, 9, 17, 25, 0)))\n",
    "rrr.append((datetime(2016, 7, 9, 17, 29, 10), datetime(2016, 7, 10, 0, 41, 0)))\n",
    "rrr.append((datetime(2016, 7, 10, 0, 42, 0), datetime(2016, 7, 10, 9, 13, 0)))\n",
    "rrr.append((datetime(2016, 7, 10, 9, 15, 0), datetime(2016, 7, 10, 9, 47, 0)))\n",
    "rrr.append((datetime(2016, 7, 10, 9, 59, 0), datetime(2016, 7, 10, 12, 0, 0)))\n",
    "           \n",
    "for_removing = []\n",
    "for dat,video in dates_of_video:\n",
    "    for dat_range in rrr:\n",
    "        if dat > dat_range[0] and dat < dat_range[1]:\n",
    "            for_removing.append((dat,video))\n",
    "            \n",
    "print(for_removing)"
   ]
  },
  {
   "cell_type": "code",
   "execution_count": 6,
   "metadata": {
    "collapsed": true
   },
   "outputs": [],
   "source": [
    "for dat,video in for_removing:\n",
    "    shutil.rmtree(os.path.join(tim_14_path, video))\n",
    "    #shutil.rmtree(os.path.join(tim_4_path, video[:-2]))"
   ]
  },
  {
   "cell_type": "code",
   "execution_count": null,
   "metadata": {
    "collapsed": false
   },
   "outputs": [],
   "source": [
    "from PIL import Image\n",
    "\n",
    "for dat,video in for_rotating:\n",
    "    video_path = os.path.join(tim_14_path, video)\n",
    "    frames = os.listdir(video_path)\n",
    "    for frame in frames:\n",
    "        frame_path = os.path.join(video_path,frame)\n",
    "        im = Image.open(frame_path) \n",
    "        im2=im.rotate(90)\n",
    "        im2.save(frame_path)\n",
    "        \n",
    "    video_path = os.path.join(tim_4_path, video[:-2])\n",
    "    frames = os.listdir(video_path)\n",
    "    for frame in frames:\n",
    "        frame_path = os.path.join(video_path,frame)\n",
    "        im = Image.open(frame_path) \n",
    "        im2=im.rotate(-90)\n",
    "        im2.save(frame_path)"
   ]
  },
  {
   "cell_type": "markdown",
   "metadata": {},
   "source": [
    " "
   ]
  }
 ],
 "metadata": {
  "kernelspec": {
   "display_name": "Python 2",
   "language": "python",
   "name": "python2"
  },
  "language_info": {
   "codemirror_mode": {
    "name": "ipython",
    "version": 2
   },
   "file_extension": ".py",
   "mimetype": "text/x-python",
   "name": "python",
   "nbconvert_exporter": "python",
   "pygments_lexer": "ipython2",
   "version": "2.7.6"
  }
 },
 "nbformat": 4,
 "nbformat_minor": 0
}
