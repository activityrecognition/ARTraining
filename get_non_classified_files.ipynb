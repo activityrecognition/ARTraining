{
 "cells": [
  {
   "cell_type": "code",
   "execution_count": null,
   "metadata": {
    "collapsed": true
   },
   "outputs": [],
   "source": [
    "import os\n",
    "from os import environ"
   ]
  },
  {
   "cell_type": "code",
   "execution_count": null,
   "metadata": {
    "collapsed": true
   },
   "outputs": [],
   "source": [
    "#file where cnn results are saved\n",
    "results_filepath = environ.get(\"results_filepath\", \"/media/Gui2/thermix/ARTraining/trained_models/thermix_35a/full_day_fanny_classify.txt\")\n",
    "\n",
    "#file where all files that are contained in the dataset are listed\n",
    "dataset_filepath = environ.get(\"dataset_filepath\", \"/media/Gui2/thermix/full_day_fanny/14_tim/thermix_1_files.txt\")\n",
    "\n",
    "#output file where files that do not have results will be listed\n",
    "output_filepath = environ.get(\"output_filepath\", \"/media/Gui2/thermix/ARTraining/trained_models/thermix_35a/full_day_fanny_classify.txt.temp\")"
   ]
  },
  {
   "cell_type": "code",
   "execution_count": null,
   "metadata": {
    "collapsed": false
   },
   "outputs": [],
   "source": [
    "with open(dataset_filepath, \"r\") as f:\n",
    "    lines = f.readlines()\n",
    "    dataset_files = [(p.split()[1],p) for p in lines if len(p.split()) == 2]\n",
    "    \n",
    "with open(results_filepath, \"r\") as f:\n",
    "    lines = f.readlines()\n",
    "    files_with_results = {}\n",
    "    for line in lines:\n",
    "        split = line.split()\n",
    "        files_with_results[split[0]] = split[1]"
   ]
  },
  {
   "cell_type": "code",
   "execution_count": null,
   "metadata": {
    "collapsed": false
   },
   "outputs": [],
   "source": [
    "with open(output_filepath, \"w\") as f:\n",
    "    for fil, line in dataset_files:\n",
    "        if not files_with_results.get(fil):\n",
    "            f.write(\"%s\\n\"%line)"
   ]
  }
 ],
 "metadata": {
  "kernelspec": {
   "display_name": "Python 2",
   "language": "python",
   "name": "python2"
  },
  "language_info": {
   "codemirror_mode": {
    "name": "ipython",
    "version": 2
   },
   "file_extension": ".py",
   "mimetype": "text/x-python",
   "name": "python",
   "nbconvert_exporter": "python",
   "pygments_lexer": "ipython2",
   "version": "2.7.6"
  }
 },
 "nbformat": 4,
 "nbformat_minor": 0
}
