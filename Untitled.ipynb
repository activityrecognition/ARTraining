{
 "cells": [
  {
   "cell_type": "code",
   "execution_count": 19,
   "metadata": {
    "collapsed": true
   },
   "outputs": [],
   "source": [
    "import os, av, PIL\n",
    "from PIL import Image\n",
    "import numpy as np\n",
    "from fractions import Fraction\n",
    "from math import ceil\n",
    "from math import floor"
   ]
  },
  {
   "cell_type": "code",
   "execution_count": 28,
   "metadata": {
    "collapsed": true
   },
   "outputs": [],
   "source": [
    "def hist_stretching(im_asarray):\n",
    "    mi = im_asarray.min()\n",
    "    ma = im_asarray.max()\n",
    "    gap = 255 / (ma - mi)\n",
    "    \n",
    "    Y = np.zeros_like(im_asarray)\n",
    "    s1, s2 = im_asarray.shape\n",
    "\n",
    "    for i in range(0, s1):\n",
    "        for j in range(0, s2):\n",
    "            Y[i, j] = (im_asarray[i, j] - mi) * gap\n",
    "    \n",
    "    return Y"
   ]
  },
  {
   "cell_type": "code",
   "execution_count": 33,
   "metadata": {
    "collapsed": false
   },
   "outputs": [],
   "source": [
    "def get_frame_count(video_file_path):\n",
    "    container = av.open(video_file_path)\n",
    "    video = next(s for s in container.streams if s.type == b'video')\n",
    "    fc = 0\n",
    "    for packet in container.demux(video):\n",
    "        for frame in packet.decode():\n",
    "            fc = fc + 1\n",
    "    return fc\n",
    "    \n",
    "def decode_video(video_file_path, video_name, frame_count):\n",
    "    container = av.open(video_file_path)\n",
    "    video = next(s for s in container.streams if s.type == b'video')\n",
    "\n",
    "    temp_stretched_video_path = os.path.join(\".\", video_name + \".mov\")\n",
    "    temp_stretched_snapshot_path = os.path.join(\".\", video_name + \".png\")\n",
    "    output = av.open(temp_stretched_video_path, 'w')\n",
    "\n",
    "#    stream = output.add_stream(\"mpeg4\", \"%d\"%video.average_rate)\n",
    "\n",
    "#    s = ceil(frame_count*3.0/7.0)\n",
    "#    print s\n",
    "#    fps = frame_count*3.0/s\n",
    "#    fps = ceil(frame_count*3/2)\n",
    "    fps = int(max(1,floor(frame_count*3/2)))\n",
    "\n",
    "    stream = output.add_stream(\"mpeg4\", \"%d\"%fps)\n",
    "    stream.bit_rate = 900000\n",
    "    \n",
    "    is_snapshot_set = False\n",
    "    is_size_set=False\n",
    "    for packet in container.demux(video):\n",
    "        for frame in packet.decode():\n",
    "            print frame\n",
    "            img = frame.to_image()\n",
    "\n",
    "            if img.mode != \"RGB\":\n",
    "                img=img.convert(\"RGB\")\n",
    "\n",
    "            if not is_size_set:\n",
    "                is_size_set = True\n",
    "                stream.width = img.size[0]\n",
    "                stream.height = img.size[1]\n",
    "\n",
    "            rgb = img.split()\n",
    "            for i,channel in enumerate(rgb):\n",
    "                print channel\n",
    "                channel_matrix = np.asarray(channel)\n",
    "                print channel_matrix.shape\n",
    "                eq_1 = hist_stretching(channel_matrix)\n",
    "                img2 = Image.fromarray(eq_1, 'L')\n",
    "\n",
    "                if img2.mode != \"RGB\":\n",
    "                    img2=img2.convert(\"RGB\")\n",
    "\n",
    "                if not is_snapshot_set:\n",
    "                    is_snapshot_set= True\n",
    "                    img2.save(temp_stretched_snapshot_path)\n",
    "\n",
    "                img2_matrix = np.asarray(img2)\n",
    "                frame2 = av.VideoFrame.from_ndarray(img2_matrix)\n",
    "                packet2 = stream.encode(frame2)\n",
    "                print packet2\n",
    "                output.mux(packet2)\n",
    "    output.close()\n",
    "\n",
    "    return temp_stretched_video_path, temp_stretched_snapshot_path"
   ]
  },
  {
   "cell_type": "code",
   "execution_count": 34,
   "metadata": {
    "collapsed": false
   },
   "outputs": [
    {
     "name": "stdout",
     "output_type": "stream",
     "text": [
      "<av.VideoFrame #0, yuv420p 240x320 at 0x7fb244046d70>\n",
      "<PIL.Image.Image image mode=L size=240x320 at 0x7FB244A96890>\n",
      "(320, 240)\n",
      "<av.Packet of #0, dts=0, pts=0 at 0x7fb244089d70>\n",
      "<PIL.Image.Image image mode=L size=240x320 at 0x7FB244A96D10>\n",
      "(320, 240)\n",
      "<av.Packet of #0, dts=2048, pts=2048 at 0x7fb244089230>\n",
      "<PIL.Image.Image image mode=L size=240x320 at 0x7FB2440812D0>\n",
      "(320, 240)\n",
      "<av.Packet of #0, dts=4096, pts=4096 at 0x7fb244089d70>\n",
      "<av.VideoFrame #1, yuv420p 240x320 at 0x7fb244046bb0>\n",
      "<PIL.Image.Image image mode=L size=240x320 at 0x7FB244A96B90>\n",
      "(320, 240)\n",
      "<av.Packet of #0, dts=6144, pts=6144 at 0x7fb244089230>\n",
      "<PIL.Image.Image image mode=L size=240x320 at 0x7FB244081510>\n",
      "(320, 240)\n",
      "<av.Packet of #0, dts=8192, pts=8192 at 0x7fb244089d70>\n",
      "<PIL.Image.Image image mode=L size=240x320 at 0x7FB244081750>\n",
      "(320, 240)\n",
      "<av.Packet of #0, dts=10240, pts=10240 at 0x7fb244089230>\n",
      "<av.VideoFrame #2, yuv420p 240x320 at 0x7fb244046e50>\n",
      "<PIL.Image.Image image mode=L size=240x320 at 0x7FB244A96890>\n",
      "(320, 240)\n",
      "<av.Packet of #0, dts=12288, pts=12288 at 0x7fb244089d70>\n",
      "<PIL.Image.Image image mode=L size=240x320 at 0x7FB244081790>\n",
      "(320, 240)\n",
      "<av.Packet of #0, dts=14336, pts=14336 at 0x7fb244089230>\n",
      "<PIL.Image.Image image mode=L size=240x320 at 0x7FB2440812D0>\n",
      "(320, 240)\n",
      "<av.Packet of #0, dts=16384, pts=16384 at 0x7fb244089d70>\n",
      "<av.VideoFrame #3, yuv420p 240x320 at 0x7fb244046f30>\n",
      "<PIL.Image.Image image mode=L size=240x320 at 0x7FB244A96B90>\n",
      "(320, 240)\n",
      "<av.Packet of #0, dts=18432, pts=18432 at 0x7fb244089230>\n",
      "<PIL.Image.Image image mode=L size=240x320 at 0x7FB244081750>\n",
      "(320, 240)\n",
      "<av.Packet of #0, dts=20480, pts=20480 at 0x7fb244089d70>\n",
      "<PIL.Image.Image image mode=L size=240x320 at 0x7FB244081510>\n",
      "(320, 240)\n",
      "<av.Packet of #0, dts=22528, pts=22528 at 0x7fb244089230>\n"
     ]
    },
    {
     "data": {
      "text/plain": [
       "('./estrecheddd.mov', './estrecheddd.png')"
      ]
     },
     "execution_count": 34,
     "metadata": {},
     "output_type": "execute_result"
    }
   ],
   "source": [
    "video_file_path=\"./video.mov\"\n",
    "video_name=\"estrecheddd\"\n",
    "fc = get_frame_count(video_file_path)\n",
    "decode_video(video_file_path, video_name, fc)"
   ]
  },
  {
   "cell_type": "code",
   "execution_count": null,
   "metadata": {
    "collapsed": false
   },
   "outputs": [],
   "source": []
  },
  {
   "cell_type": "code",
   "execution_count": null,
   "metadata": {
    "collapsed": true
   },
   "outputs": [],
   "source": []
  }
 ],
 "metadata": {
  "kernelspec": {
   "display_name": "Python 2",
   "language": "python",
   "name": "python2"
  },
  "language_info": {
   "codemirror_mode": {
    "name": "ipython",
    "version": 2
   },
   "file_extension": ".py",
   "mimetype": "text/x-python",
   "name": "python",
   "nbconvert_exporter": "python",
   "pygments_lexer": "ipython2",
   "version": "2.7.6"
  }
 },
 "nbformat": 4,
 "nbformat_minor": 0
}
