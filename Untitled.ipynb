{
 "cells": [
  {
   "cell_type": "code",
   "execution_count": 2,
   "metadata": {
    "collapsed": false
   },
   "outputs": [
    {
     "name": "stdout",
     "output_type": "stream",
     "text": [
      "../ARThermal/frames_no_movement/Henry_001_frames_no_movement\n",
      "../ARThermal/frames_no_movement/Marge_002_frames_no_movement\n",
      "../ARThermal/frames_no_movement/Anne_001_frames_no_movement\n",
      "../ARThermal/frames_no_movement/Anne_002_frames_no_movement\n",
      "../ARThermal/frames_no_movement/Anne_003_frames_no_movement\n",
      "../ARThermal/frames_no_movement/Anne_004_frames_no_movement\n",
      "../ARThermal/frames_no_movement/Anne_005_frames_no_movement\n",
      "../ARThermal/frames_no_movement/Anne_006_frames_no_movement\n",
      "../ARThermal/frames_no_movement/Anne_007_frames_no_movement\n",
      "../ARThermal/frames_no_movement/Anne_008_frames_no_movement\n",
      "../ARThermal/frames_no_movement/Anne_009_frames_no_movement\n",
      "../ARThermal/frames_no_movement/April_001_frames_no_movement\n",
      "../ARThermal/frames_no_movement/Charles_001_frames_no_movement\n",
      "../ARThermal/frames_no_movement/Charles_002_frames_no_movement\n",
      "../ARThermal/frames_no_movement/Charles_003_frames_no_movement\n",
      "../ARThermal/frames_no_movement/Charles_004_frames_no_movement\n",
      "../ARThermal/frames_no_movement/Charles_005_frames_no_movement\n",
      "../ARThermal/frames_no_movement/Erika_001_frames_no_movement\n",
      "../ARThermal/frames_no_movement/Erika_002_frames_no_movement\n",
      "../ARThermal/frames_no_movement/Fiona_001_frames_no_movement\n",
      "../ARThermal/frames_no_movement/Henry_002_frames_no_movement\n",
      "../ARThermal/frames_no_movement/Henry_003_frames_no_movement\n",
      "../ARThermal/frames_no_movement/Henry_004_frames_no_movement\n",
      "../ARThermal/frames_no_movement/Henry_005_frames_no_movement\n",
      "../ARThermal/frames_no_movement/Henry_006_frames_no_movement\n",
      "../ARThermal/frames_no_movement/Henry_007_frames_no_movement\n",
      "../ARThermal/frames_no_movement/Irene_001_frames_no_movement\n",
      "../ARThermal/frames_no_movement/Irene_002_frames_no_movement\n",
      "../ARThermal/frames_no_movement/Irene_003_frames_no_movement\n",
      "../ARThermal/frames_no_movement/Julien_001_frames_no_movement\n",
      "../ARThermal/frames_no_movement/Julien_002_frames_no_movement\n",
      "../ARThermal/frames_no_movement/Julien_003_frames_no_movement\n",
      "../ARThermal/frames_no_movement/Luke_001_frames_no_movement\n",
      "../ARThermal/frames_no_movement/Luke_002_frames_no_movement\n",
      "../ARThermal/frames_no_movement/Marge_001_frames_no_movement\n",
      "../ARThermal/frames_no_movement/Marge_003_frames_no_movement\n",
      "../ARThermal/frames_no_movement/Marge_004_frames_no_movement\n",
      "../ARThermal/frames_no_movement/Marge_005_frames_no_movement\n",
      "../ARThermal/frames_no_movement/Marge_006_frames_no_movement\n",
      "../ARThermal/frames_no_movement/Marge_007_frames_no_movement\n",
      "../ARThermal/frames_no_movement/Marge_008_frames_no_movement\n",
      "../ARThermal/frames_no_movement/Peter_001_frames_no_movement\n",
      "../ARThermal/frames_no_movement/rgb_mapping_frames_no_movement\n",
      "../ARThermal/frames_no_movement/Rick_001_frames_no_movement\n",
      "../ARThermal/frames_no_movement/Rick_002_frames_no_movement\n",
      "../ARThermal/frames_no_movement/Victor_001_frames_no_movement\n",
      "../ARThermal/frames_no_movement/Victor_002_frames_no_movement\n",
      "../ARThermal/frames_no_movement/Victor_003_frames_no_movement\n",
      "../ARThermal/frames_no_movement/Victor_004_frames_no_movement\n",
      "../ARThermal/frames_no_movement/Victor_005_frames_no_movement\n",
      "../ARThermal/frames_no_movement/Victor_006_frames_no_movement\n",
      "[10914, 10041, 6141] [600, 390, 510]\n"
     ]
    }
   ],
   "source": [
    "import os\n",
    "\n",
    "path = \"../ARThermal/frames_no_movement\"\n",
    "frames = [0,0,0]\n",
    "videos = [0,0,0]\n",
    "for group_path in [os.path.join(path, d) for d in os.listdir(path)]:\n",
    "    print group_path\n",
    "    for video_path in [os.path.join(group_path, \"14_tim\",\"3\", d) for d in os.listdir(os.path.join(group_path, \"14_tim\",\"3\"))[:30]]:\n",
    "        if \"golden5s\" in video_path:\n",
    "            frames[0] += len(os.listdir(video_path))\n",
    "            videos[0] += 1\n",
    "        elif \"black5\" in video_path:\n",
    "            frames[1] += len(os.listdir(video_path))\n",
    "            videos[1] += 1\n",
    "        elif \"ipod5\" in video_path:\n",
    "            frames[2] += len(os.listdir(video_path))\n",
    "            videos[2] += 1\n",
    "            \n",
    "print frames, videos"
   ]
  },
  {
   "cell_type": "code",
   "execution_count": 3,
   "metadata": {
    "collapsed": false
   },
   "outputs": [
    {
     "data": {
      "text/plain": [
       "[18, 25, 12]"
      ]
     },
     "execution_count": 3,
     "metadata": {},
     "output_type": "execute_result"
    }
   ],
   "source": [
    "[frames[i]/videos[i] for i in range(3)]"
   ]
  },
  {
   "cell_type": "code",
   "execution_count": null,
   "metadata": {
    "collapsed": true
   },
   "outputs": [],
   "source": []
  }
 ],
 "metadata": {
  "kernelspec": {
   "display_name": "Python 2",
   "language": "python",
   "name": "python2"
  },
  "language_info": {
   "codemirror_mode": {
    "name": "ipython",
    "version": 2
   },
   "file_extension": ".py",
   "mimetype": "text/x-python",
   "name": "python",
   "nbconvert_exporter": "python",
   "pygments_lexer": "ipython2",
   "version": "2.7.6"
  }
 },
 "nbformat": 4,
 "nbformat_minor": 0
}
