{
 "cells": [
  {
   "cell_type": "code",
   "execution_count": 3,
   "metadata": {
    "collapsed": true,
    "run_control": {
     "frozen": false,
     "read_only": false
    }
   },
   "outputs": [],
   "source": [
    "import json \n",
    "\n",
    "#groups_to_download = [{name:\"group_name\",\n",
    "#                       tim:\"14_tim\",\n",
    "#                       status:pending\n",
    "#                      }, ...]\n",
    "# if entry == group_name:[] means that everything of that group was downloaded\n",
    "\n",
    "def add_group_to_json(group_name, tims):\n",
    "    with open(\"./pending_downloads.json\") as f:\n",
    "        pending_donwloads = json.load(f)\n",
    "        \n",
    "    if pending_downloads.get(group_name):\n",
    "        print \"WARNING: group %s already exists. tims = %s\"%(group_name, str(pending_downloads[group_name]))\n",
    "        \n",
    "    pending_downloads[group_name] = tims\n",
    "    \n",
    "    with open(\"./pending_downloads.json\", w) as f:\n",
    "        pending_donwloads = json.dump(pending_downalods, f)\n",
    "        \n",
    "def download_completed(group_name, tims):\n",
    "    with open(\"./pending_downloads.json\") as f:\n",
    "        pending_donwloads = json.load(f)\n",
    "        \n",
    "    if not pending_downloads.get(group_name) or set(tims) != set(pending_download[group_name]):\n",
    "        print \"WARNING: group %s already does not exist or does not contain tims = %s\"%(group_name, str(tims))\n",
    "        print \"tims = %s\"%str(pending_downloads.get(group_name))\n",
    "       \n",
    "    for t in tims:\n",
    "        pending_downloads[group_name].remove(t)\n",
    "    \n",
    "    with open(\"./pending_downloads.json\", w) as f:\n",
    "        pending_donwloads = json.dump(pending_downalods, f)"
   ]
  },
  {
   "cell_type": "code",
   "execution_count": null,
   "metadata": {
    "collapsed": true
   },
   "outputs": [],
   "source": [
    "### NOT IN DB YET ###\n",
    "#./prepare_for_YOLO.sh Erika_004 ../ARThermal/videos_black5 black5@bramblexpress.com\n",
    "#MARGE011 DESCARTADO\n",
    "#./prepare_for_YOLO.sh Marge_012 ../ARThermal/videos_golden5s golden5s@bramblexpress.com\n",
    "\n",
    "#MARGE011 DESCARTADO\n",
    "#./make_day_demo_video_of_group.sh ../ARThermal/videos_golden5s Marge_012 golden5s@bramblexpress.com 1 1 true true '[\"14_tim\"]'\n",
    "#./make_day_demo_video_of_group.sh ../ARThermal/videos_black5 Erika_004 black5@bramblexpress.com 1 1 true true '[\"14_tim\"]'\n",
    "\n",
    "##### NOT READY FOR DOWNLOAD #####\n",
    "#./make_day_demo_video_of_group.sh ../ARThermal/videos_ipod5 April_003 ipod@ipod.com 1 1 true true '[\"14_tim\"]'\n",
    "\n",
    "add_group_to_json(\"Erika_004\",)"
   ]
  }
 ],
 "metadata": {
  "kernelspec": {
   "display_name": "Python 2",
   "language": "python",
   "name": "python2"
  },
  "language_info": {
   "codemirror_mode": {
    "name": "ipython",
    "version": 2
   },
   "file_extension": ".py",
   "mimetype": "text/x-python",
   "name": "python",
   "nbconvert_exporter": "python",
   "pygments_lexer": "ipython2",
   "version": "2.7.6"
  }
 },
 "nbformat": 4,
 "nbformat_minor": 0
}
