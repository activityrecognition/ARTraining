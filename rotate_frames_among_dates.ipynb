{
 "cells": [
  {
   "cell_type": "code",
   "execution_count": 1,
   "metadata": {
    "collapsed": true
   },
   "outputs": [],
   "source": [
    "import os, sys, shutil\n",
    "from datetime import datetime, timedelta\n",
    "from PIL import Image, ImageDraw, ImageFont\n",
    "from operator import itemgetter\n",
    "import numpy as np\n",
    "from os import environ"
   ]
  },
  {
   "cell_type": "code",
   "execution_count": 3,
   "metadata": {
    "collapsed": false
   },
   "outputs": [],
   "source": [
    "dataset_dir= environ.get(\"dataset_dir\", None)\n",
    "tim= environ.get(\"tim\",\"14_tim\")\n",
    "category = environ.get(\"category\",\"3\")\n",
    "\n",
    "#Henry_001  \n",
    "#Henry_001 2016-07-17T20:52:36 2016-07-19T01:28:22\n",
    "# > datetime(2016,7,9,7,19)\n",
    "# < datetime(2016,7,10,4,39,10)\n",
    "from_date = environ.get(\"from_date\", None) #2016-07-25T18:28:22 #2016-07-17T20:52:36 #2016-07-16T12:18:23\n",
    "to_date = environ.get(\"to_date\", None) #alem_001: \"2016-07-10T04:40:00\"\n",
    "\n",
    "input_dir = os.path.join(dataset_dir, tim, category)\n",
    "videos = os.listdir(input_dir)\n",
    "rotation_dates_filepath = os.path.join(dataset_dir,tim,\"rotation_log.txt\")"
   ]
  },
  {
   "cell_type": "code",
   "execution_count": 4,
   "metadata": {
    "collapsed": true
   },
   "outputs": [],
   "source": [
    "def imhist(im):\n",
    "    m, n = im.shape\n",
    "    h = [0.0] * 256\n",
    "    for i in range(m):\n",
    "        for j in range(n):\n",
    "            h[im[i, j]]+=1\n",
    "    return np.array(h)/(m*n)\n",
    "\n",
    "def cumsum(h):\n",
    "    # finds cumulative sum of a numpy array, list\n",
    "    return [sum(h[:i+1]) for i in range(len(h))]\n",
    "\n",
    "def histeq(im):\n",
    "    #calculate Histogram\n",
    "    h = imhist(im)\n",
    "    cdf = np.array(cumsum(h)) #cumulative distribution function\n",
    "    sk = np.uint8(255 * cdf) #finding transfer function values\n",
    "    s1, s2 = im.shape\n",
    "    Y = np.zeros_like(im)\n",
    "    # applying transfered values for each pixels\n",
    "    for i in range(0, s1):\n",
    "        for j in range(0, s2):\n",
    "            Y[i, j] = sk[im[i, j]]\n",
    "    H = imhist(Y)\n",
    "    #return transformed image, original and new istogram, \n",
    "    # and transform function\n",
    "    return Y , h, H, sk\n",
    "\n",
    "def hist_stretching(im_asarray):\n",
    "    mi = im_asarray.min()\n",
    "    ma = im_asarray.max()\n",
    "    gap = 255 / (ma - mi)\n",
    "    \n",
    "    Y = np.zeros_like(im_asarray)\n",
    "    s1, s2 = im_asarray.shape\n",
    "\n",
    "    for i in range(0, s1):\n",
    "        for j in range(0, s2):\n",
    "            Y[i, j] = (im_asarray[i, j] - mi) * gap\n",
    "    \n",
    "    return Y"
   ]
  },
  {
   "cell_type": "code",
   "execution_count": 5,
   "metadata": {
    "collapsed": false
   },
   "outputs": [],
   "source": [
    "dates_of_video = []\n",
    "for video in videos:\n",
    "    name_of_video = os.path.basename(video)\n",
    "\n",
    "    # str_date_of_video = 2016-06-20T18%3A46%3A22\n",
    "    str_date_of_video = \"T\".join(os.path.splitext(name_of_video)[0].split(\"_\")[-2:])\n",
    "\n",
    "    # date_of_video = datetime(2016-06-20 18:46:22)\n",
    "    date_of_video = datetime.strptime(str_date_of_video,\"%Y-%m-%dT%H%%3A%M%%3A%S\")\n",
    "\n",
    "    #convert to argentinian date\n",
    "    date_of_video -= timedelta(hours=3)\n",
    "    \n",
    "    dates_of_video.append((date_of_video, video))\n",
    "    \n",
    "dates_of_video = sorted(dates_of_video, key=itemgetter(0))"
   ]
  },
  {
   "cell_type": "code",
   "execution_count": 6,
   "metadata": {
    "collapsed": false
   },
   "outputs": [
    {
     "data": {
      "text/plain": [
       "datetime.datetime(2016, 7, 17, 20, 52, 35)"
      ]
     },
     "execution_count": 6,
     "metadata": {},
     "output_type": "execute_result"
    }
   ],
   "source": [
    "if not from_date:\n",
    "    from_date = dates_of_video[0][0]\n",
    "else:\n",
    "    from_date = datetime.strptime(from_date, \"%Y-%m-%dT%H:%M:%S\")\n",
    "\n",
    "if not to_date:\n",
    "    to_date = dates_of_video[-1][0]\n",
    "else:\n",
    "    to_date = datetime.strptime(to_date, \"%Y-%m-%dT%H:%M:%S\")\n",
    "    \n",
    "from_date\n",
    "to_date"
   ]
  },
  {
   "cell_type": "code",
   "execution_count": 7,
   "metadata": {
    "collapsed": false
   },
   "outputs": [],
   "source": [
    "#import json\n",
    "#with open(\"/media/Gui2/thermix/ARThermal/tensorbox_dataset_poses/tensorbox_input.json\",\"r\") as f:\n",
    "#    l = json.load(f)"
   ]
  },
  {
   "cell_type": "code",
   "execution_count": 11,
   "metadata": {
    "collapsed": false
   },
   "outputs": [
    {
     "name": "stdout",
     "output_type": "stream",
     "text": [
      "2016-07-17 20:53:10\n"
     ]
    },
    {
     "data": {
      "image/png": "[encoded data removed]",
      "text/plain": [
       "<PIL.Image.Image image mode=RGB size=240x320 at 0x7FA05BB28E50>"
      ]
     },
     "execution_count": 11,
     "metadata": {},
     "output_type": "execute_result"
    }
   ],
   "source": [
    "testing= False\n",
    "image=None\n",
    "if testing:\n",
    "    for dat,vid in dates_of_video:\n",
    "        if dat > to_date:\n",
    "            dat2=dat\n",
    "            vid2=vid\n",
    "            break\n",
    "\n",
    "    path = os.path.join(input_dir, vid2,\"0.png\")\n",
    "    print dat2\n",
    "\n",
    "#    path = l[6648][\"image_path\"]\n",
    "    image = Image.open(path)\n",
    "    if image.mode != \"RGB\":\n",
    "        image=image.convert(\"RGB\")\n",
    "\n",
    "    image = np.asarray(image) \n",
    "\n",
    "    r = image[:,:,0]\n",
    "    eq_1 = hist_stretching(r)\n",
    "    image = Image.fromarray(eq_1, 'L')\n",
    "\n",
    "    if image.mode != \"RGB\":\n",
    "        image=image.convert(\"RGB\")\n",
    "\n",
    "image"
   ]
  },
  {
   "cell_type": "code",
   "execution_count": 35,
   "metadata": {
    "collapsed": true
   },
   "outputs": [],
   "source": [
    "#for i in range(2831,2845):\n",
    "#for i in range(6648,6788):\n",
    "#    frame_path = l[i][\"image_path\"]\n",
    "#    im = Image.open(frame_path)\n",
    "#    im2 = im.rotate(180)\n",
    "#    im2.save(frame_path)"
   ]
  },
  {
   "cell_type": "code",
   "execution_count": null,
   "metadata": {
    "collapsed": false
   },
   "outputs": [],
   "source": [
    "overridden_frames = []\n",
    "for dat,vid in dates_of_video:\n",
    "    if dat >= from_date and dat <= to_date:\n",
    "        video_path = os.path.join(input_dir, vid)\n",
    "        frames = os.listdir(video_path)\n",
    "        for frame in frames:\n",
    "            frame_path = os.path.join(video_path, frame)\n",
    "            im = Image.open(frame_path)\n",
    "            im2 = im.rotate(180)\n",
    "            im2.save(frame_path)\n",
    "            overridden_frames.append(frame_path)"
   ]
  },
  {
   "cell_type": "code",
   "execution_count": null,
   "metadata": {
    "collapsed": false
   },
   "outputs": [],
   "source": [
    "with open(rotation_dates_filepath,\"a\") as f:\n",
    "    f.write(\"rotation_performed_from_date %s\\n\" % from_date.strftime(\"%Y-%m-%dT%H:%M:%S\"))\n",
    "    f.write(\"rotation_performed_until_date %s\\n\" % to_date.strftime(\"%Y-%m-%dT%H:%M:%S\"))"
   ]
  },
  {
   "cell_type": "code",
   "execution_count": null,
   "metadata": {
    "collapsed": false
   },
   "outputs": [],
   "source": []
  },
  {
   "cell_type": "code",
   "execution_count": null,
   "metadata": {
    "collapsed": true
   },
   "outputs": [],
   "source": []
  }
 ],
 "metadata": {
  "kernelspec": {
   "display_name": "Python 2",
   "language": "python",
   "name": "python2"
  },
  "language_info": {
   "codemirror_mode": {
    "name": "ipython",
    "version": 2
   },
   "file_extension": ".py",
   "mimetype": "text/x-python",
   "name": "python",
   "nbconvert_exporter": "python",
   "pygments_lexer": "ipython2",
   "version": "2.7.6"
  }
 },
 "nbformat": 4,
 "nbformat_minor": 0
}
