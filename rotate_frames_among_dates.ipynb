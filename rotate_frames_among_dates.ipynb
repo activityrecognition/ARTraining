{
 "cells": [
  {
   "cell_type": "code",
   "execution_count": 21,
   "metadata": {
    "collapsed": true
   },
   "outputs": [],
   "source": [
    "import os, sys, shutil\n",
    "from datetime import datetime, timedelta\n",
    "from PIL import Image, ImageDraw, ImageFont\n",
    "from operator import itemgetter\n",
    "import numpy as np"
   ]
  },
  {
   "cell_type": "code",
   "execution_count": 22,
   "metadata": {
    "collapsed": true
   },
   "outputs": [],
   "source": [
    "input_dir = \"/media/Gui2/thermix/full_day_fanny/14_tim/3\"\n",
    "videos = os.listdir(input_dir)"
   ]
  },
  {
   "cell_type": "code",
   "execution_count": 23,
   "metadata": {
    "collapsed": true
   },
   "outputs": [],
   "source": [
    "def imhist(im):\n",
    "    m, n = im.shape\n",
    "    h = [0.0] * 256\n",
    "    for i in range(m):\n",
    "        for j in range(n):\n",
    "            h[im[i, j]]+=1\n",
    "    return np.array(h)/(m*n)\n",
    "\n",
    "def cumsum(h):\n",
    "    # finds cumulative sum of a numpy array, list\n",
    "    return [sum(h[:i+1]) for i in range(len(h))]\n",
    "\n",
    "def histeq(im):\n",
    "    #calculate Histogram\n",
    "    h = imhist(im)\n",
    "    cdf = np.array(cumsum(h)) #cumulative distribution function\n",
    "    sk = np.uint8(255 * cdf) #finding transfer function values\n",
    "    s1, s2 = im.shape\n",
    "    Y = np.zeros_like(im)\n",
    "    # applying transfered values for each pixels\n",
    "    for i in range(0, s1):\n",
    "        for j in range(0, s2):\n",
    "            Y[i, j] = sk[im[i, j]]\n",
    "    H = imhist(Y)\n",
    "    #return transformed image, original and new istogram, \n",
    "    # and transform function\n",
    "    return Y , h, H, sk"
   ]
  },
  {
   "cell_type": "code",
   "execution_count": 43,
   "metadata": {
    "collapsed": false
   },
   "outputs": [],
   "source": [
    "dates_of_video = []\n",
    "for video in videos:\n",
    "    name_of_video = os.path.basename(video)\n",
    "\n",
    "    # str_date_of_video = 2016-06-20T18%3A46%3A22\n",
    "    str_date_of_video = \"T\".join(os.path.splitext(name_of_video)[0].split(\"_\")[-2:])\n",
    "\n",
    "    # date_of_video = datetime(2016-06-20 18:46:22)\n",
    "    date_of_video = datetime.strptime(str_date_of_video,\"%Y-%m-%dT%H%%3A%M%%3A%S\")\n",
    "\n",
    "    #convert to argentinian date\n",
    "    date_of_video -= timedelta(hours=3)\n",
    "    \n",
    "    dates_of_video.append((date_of_video, video))\n",
    "    \n",
    "dates_of_video = sorted(dates_of_video, key=itemgetter(0))"
   ]
  },
  {
   "cell_type": "code",
   "execution_count": null,
   "metadata": {
    "collapsed": false
   },
   "outputs": [],
   "source": [
    "overridden_frames = []\n",
    "for dat,vid in dates_of_video:\n",
    "    if dat < datetime(2016,7,10,4,40,0):\n",
    "        video_path = os.path.join(input_dir, vid)\n",
    "        frames = os.listdir(video_path)\n",
    "        for frame in frames:\n",
    "            frame_path = os.path.join(video_path, frame)\n",
    "            im = Image.open(frame_path)\n",
    "            im2 = im.rotate(180)\n",
    "            #im2.save(frame_path)\n",
    "            overridden_frames.append(frame_path)"
   ]
  },
  {
   "cell_type": "code",
   "execution_count": 56,
   "metadata": {
    "collapsed": false
   },
   "outputs": [
    {
     "name": "stdout",
     "output_type": "stream",
     "text": [
      "/media/Gui2/thermix/full_day_fanny/14_tim/3/Users_golden5s_unkown_2016-07-08_20%3A19%3A49.000000_1/21_2.png\n",
      "/media/Gui2/thermix/full_day_fanny/14_tim/3/Users_golden5s_unkown_2016-07-09_10%3A19%3A03.000000_1/6_1.png\n"
     ]
    }
   ],
   "source": [
    "print overridden_frames[0]\n",
    "print overridden_frames[-1]"
   ]
  },
  {
   "cell_type": "code",
   "execution_count": 66,
   "metadata": {
    "collapsed": false
   },
   "outputs": [
    {
     "data": {
      "image/png": "[encoded data removed]",
      "text/plain": [
       "<PIL.Image.Image image mode=RGB size=257x257 at 0x7F26793B36D0>"
      ]
     },
     "execution_count": 66,
     "metadata": {},
     "output_type": "execute_result"
    }
   ],
   "source": [
    "image = Image.open(\"/media/Gui2/thermix/full_day_fanny/14_tim/3/Users_golden5s_unkown_2016-07-08_20%3A19%3A49.000000_1/21_2.png\")\n",
    "if image.mode != \"RGB\":\n",
    "    image=image.convert(\"RGB\")\n",
    "\n",
    "image = np.asarray(image) \n",
    "\n",
    "r = image[:,:,0]\n",
    "eq_1,_,_,_ = histeq(r)\n",
    "image = Image.fromarray(eq_1, 'L')\n",
    "\n",
    "if image.mode != \"RGB\":\n",
    "    image=image.convert(\"RGB\")\n",
    "\n",
    "image"
   ]
  }
 ],
 "metadata": {
  "kernelspec": {
   "display_name": "Python 2",
   "language": "python",
   "name": "python2"
  },
  "language_info": {
   "codemirror_mode": {
    "name": "ipython",
    "version": 2
   },
   "file_extension": ".py",
   "mimetype": "text/x-python",
   "name": "python",
   "nbconvert_exporter": "python",
   "pygments_lexer": "ipython2",
   "version": "2.7.6"
  }
 },
 "nbformat": 4,
 "nbformat_minor": 0
}
