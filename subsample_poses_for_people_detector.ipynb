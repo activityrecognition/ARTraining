{
 "cells": [
  {
   "cell_type": "code",
   "execution_count": 1,
   "metadata": {
    "collapsed": false
   },
   "outputs": [
    {
     "name": "stdout",
     "output_type": "stream",
     "text": [
      "['thermix_1_links.txt', '1', 'thermix_1_files.txt', 'thermix_1._words', 'thermix_1_training.txt', 'thermix_1_testing.txt', '3', '2']\n",
      "* category 1: \n",
      "** total_frames= 3927\n",
      "** testing_frames= 474 (20.61%)\n",
      "* category 3: \n",
      "** total_frames= 3519\n",
      "** testing_frames= 471 (20.48%)\n",
      "* category 2: \n",
      "** total_frames= 3777\n",
      "** testing_frames= 465 (20.22%)\n"
     ]
    }
   ],
   "source": [
    "import os, shutil, random\n",
    "\n",
    "base_dir = \"/media/Gui2/thermix/dataset_thermal_pose/14_tim\"\n",
    "\n",
    "categories = os.listdir(base_dir)\n",
    "\n",
    "print categories\n",
    "# file_list = [cat_1, cat_2, ...]\n",
    "# cat_n = [mov_1, mov_2, ...]\n",
    "# mov_n = [frame_1, frame_2, ...]\n",
    "file_list = []\n",
    "for category in categories:\n",
    "    category_dir = os.path.join(base_dir, category)\n",
    "    if not os.path.isdir(category_dir):\n",
    "        continue\n",
    "\n",
    "    cat = []\n",
    "    file_list.append((category,cat))\n",
    "    category_videos = os.listdir(category_dir)\n",
    "    for video in category_videos:\n",
    "        video_dir = os.path.join(category_dir, video)\n",
    "        if not os.path.isdir(video_dir):\n",
    "            continue\n",
    "\n",
    "        mov = []\n",
    "        cat.append(mov)\n",
    "        frames = os.listdir(video_dir)\n",
    "        for frame in frames:\n",
    "            frame_path = os.path.join(video_dir, frame)\n",
    "            mov.append(\"%s %s \" % (category, frame_path))\n",
    "\n",
    "max_dataset_len = 2300\n",
    "cat_lens = []\n",
    "for _,cat in file_list:\n",
    "    cat_lens.append(sum([len(i) for i in cat]))\n",
    "    #max_dataset_len = sorted(cat_lens)[0]\n",
    "    #print \"max training dataset count: %d\"%max_dataset_len\n",
    "#prom /= len(file_list)\n",
    "\n",
    "testing_frames = []\n",
    "training_frames = []\n",
    "for cat_name,cat in file_list:\n",
    "    total_number_of_frames = sum([len(i) for i in cat])\n",
    "    testing_number_of_frames = max_dataset_len*0.2\n",
    "    cat_testing_frames = []\n",
    "    while len(cat_testing_frames) < testing_number_of_frames:\n",
    "        mov = random.choice(cat)\n",
    "        cat.remove(mov)\n",
    "        cat_testing_frames.extend(mov)\n",
    "\n",
    "    percentage = len(cat_testing_frames)/float(max_dataset_len)*100\n",
    "    print \"* category %s: \\n** total_frames= %d\\n** testing_frames= %d (%.2f%%)\" % \\\n",
    "          (cat_name, total_number_of_frames, len(cat_testing_frames),percentage)\n",
    "    testing_frames.extend(cat_testing_frames)\n",
    "\n",
    "    while sum([len(i) for i in cat]) > max_dataset_len*0.8:\n",
    "        mov =random.choice(cat)\n",
    "        if len(mov) > 0:\n",
    "            mov.remove(random.choice(mov))\n",
    "\n",
    "    for mov in cat:\n",
    "        training_frames.extend(mov)    "
   ]
  },
  {
   "cell_type": "code",
   "execution_count": 2,
   "metadata": {
    "collapsed": false
   },
   "outputs": [],
   "source": [
    "shutil.rmtree(\"/media/Gui2/thermix/dataset_thermalRaw_no_movement_2/14_tim/1\")\n",
    "\n",
    "for f in training_frames:\n",
    "    src = f.split()[1]\n",
    "    dest = os.path.join(\"/media/Gui2/thermix/dataset_thermalRaw_no_movement_2/14_tim/1\", \"/\".join(src.split(\"/\")[7:]))\n",
    "    if not os.path.exists(os.path.dirname(dest)):\n",
    "        os.makedirs(os.path.dirname(dest))\n",
    "    \n",
    "    shutil.copy(src, dest)"
   ]
  },
  {
   "cell_type": "code",
   "execution_count": 3,
   "metadata": {
    "collapsed": false
   },
   "outputs": [
    {
     "data": {
      "text/plain": [
       "5520"
      ]
     },
     "execution_count": 3,
     "metadata": {},
     "output_type": "execute_result"
    }
   ],
   "source": [
    "len(training_frames)"
   ]
  },
  {
   "cell_type": "code",
   "execution_count": null,
   "metadata": {
    "collapsed": true
   },
   "outputs": [],
   "source": []
  }
 ],
 "metadata": {
  "kernelspec": {
   "display_name": "Python 2",
   "language": "python",
   "name": "python2"
  },
  "language_info": {
   "codemirror_mode": {
    "name": "ipython",
    "version": 2
   },
   "file_extension": ".py",
   "mimetype": "text/x-python",
   "name": "python",
   "nbconvert_exporter": "python",
   "pygments_lexer": "ipython2",
   "version": "2.7.6"
  }
 },
 "nbformat": 4,
 "nbformat_minor": 0
}
