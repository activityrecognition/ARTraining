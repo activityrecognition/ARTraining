{
 "cells": [
  {
   "cell_type": "code",
   "execution_count": 38,
   "metadata": {
    "collapsed": true
   },
   "outputs": [],
   "source": [
    "import os, sys, shutil\n",
    "from datetime import *\n",
    "from PIL import Image, ImageDraw, ImageFont\n",
    "from operator import itemgetter\n",
    "import numpy as np\n",
    "from os import environ"
   ]
  },
  {
   "cell_type": "code",
   "execution_count": 49,
   "metadata": {
    "collapsed": false
   },
   "outputs": [],
   "source": [
    "dataset_dir= \"/media/Gui2/thermix/ARThermal/Henry_006_frames_no_movement\"\n",
    "tim= \"14_tim\"\n",
    "category = \"3\"\n",
    "record_configuration_length = 5\n",
    "\n",
    "input_dir = os.path.join(dataset_dir, tim, category)\n",
    "videos = os.listdir(input_dir)"
   ]
  },
  {
   "cell_type": "code",
   "execution_count": 50,
   "metadata": {
    "collapsed": false
   },
   "outputs": [],
   "source": [
    "dates_of_video = []\n",
    "for video in videos:\n",
    "    name_of_video = os.path.basename(video)\n",
    "\n",
    "    # str_date_of_video = 2016-06-20T18%3A46%3A22\n",
    "    str_date_of_video = \"T\".join(os.path.splitext(name_of_video)[0].split(\"_\")[-2:])\n",
    "\n",
    "    # date_of_video = datetime(2016-06-20 18:46:22)\n",
    "    date_of_video = datetime.strptime(str_date_of_video,\"%Y-%m-%dT%H%%3A%M%%3A%S\")\n",
    "\n",
    "    #convert to argentinian date\n",
    "    date_of_video -= timedelta(hours=3)\n",
    "    \n",
    "    dates_of_video.append((date_of_video, video))\n",
    "    \n",
    "dates_of_video = sorted(dates_of_video, key=itemgetter(0))"
   ]
  },
  {
   "cell_type": "code",
   "execution_count": 51,
   "metadata": {
    "collapsed": false
   },
   "outputs": [
    {
     "name": "stdout",
     "output_type": "stream",
     "text": [
      "Start: 2016-08-03 20:38:30\n",
      "End: 2016-08-05 17:07:37\n",
      "(~ 10.30 hours recorded)\n"
     ]
    }
   ],
   "source": [
    "print 'Start: '+dates_of_video[0][0].strftime(\"%Y-%m-%d %H:%M:%S\")\n",
    "print 'End: '+dates_of_video[-1][0].strftime(\"%Y-%m-%d %H:%M:%S\")\n",
    "seconds =  len(videos)*record_configuration_length # minutes = amount of videos recorded * lenght (seconds) of each video\n",
    "print \"(~ %.2f hours recorded)\"%(seconds/60.0/60.0)\n",
    "weeks, seconds = divmod(float(seconds), 7*24*60*60)\n",
    "days, seconds = divmod(seconds, 24*60*60)\n",
    "hours, seconds = divmod(seconds, 60*60)\n",
    "minutes, seconds = divmod(seconds, 60.0)\n",
    "\n",
    "#print str(days)+\" days, \"+str(hours)+\" hours, \"+str(minutes)+\" minutes, \"+str(seconds)+\" seconds\"\n"
   ]
  },
  {
   "cell_type": "code",
   "execution_count": 86,
   "metadata": {
    "collapsed": false
   },
   "outputs": [
    {
     "ename": "TypeError",
     "evalue": "unsupported operand type(s) for +: 'datetime.timedelta' and 'tuple'",
     "output_type": "error",
     "traceback": [
      "\u001b[1;31m---------------------------------------------------------------------------\u001b[0m",
      "\u001b[1;31mTypeError\u001b[0m                                 Traceback (most recent call last)",
      "\u001b[1;32m<ipython-input-86-d24ab62fd670>\u001b[0m in \u001b[0;36m<module>\u001b[1;34m()\u001b[0m\n\u001b[0;32m     42\u001b[0m \u001b[1;33m\u001b[0m\u001b[0m\n\u001b[0;32m     43\u001b[0m \u001b[0mtt\u001b[0m \u001b[1;33m=\u001b[0m \u001b[0mget_total_time\u001b[0m\u001b[1;33m(\u001b[0m\u001b[1;33m)\u001b[0m\u001b[1;33m\u001b[0m\u001b[0m\n\u001b[1;32m---> 44\u001b[1;33m \u001b[1;32mprint\u001b[0m \u001b[0msum\u001b[0m\u001b[1;33m(\u001b[0m\u001b[0mtt\u001b[0m\u001b[1;33m,\u001b[0m \u001b[0mtimedelta\u001b[0m\u001b[1;33m(\u001b[0m\u001b[1;33m)\u001b[0m\u001b[1;33m)\u001b[0m\u001b[1;33m\u001b[0m\u001b[0m\n\u001b[0m",
      "\u001b[1;31mTypeError\u001b[0m: unsupported operand type(s) for +: 'datetime.timedelta' and 'tuple'"
     ]
    }
   ],
   "source": []
  },
  {
   "cell_type": "code",
   "execution_count": null,
   "metadata": {
    "collapsed": true
   },
   "outputs": [],
   "source": []
  },
  {
   "cell_type": "code",
   "execution_count": null,
   "metadata": {
    "collapsed": true
   },
   "outputs": [],
   "source": []
  }
 ],
 "metadata": {
  "kernelspec": {
   "display_name": "Python 2",
   "language": "python",
   "name": "python2"
  },
  "language_info": {
   "codemirror_mode": {
    "name": "ipython",
    "version": 2
   },
   "file_extension": ".py",
   "mimetype": "text/x-python",
   "name": "python",
   "nbconvert_exporter": "python",
   "pygments_lexer": "ipython2",
   "version": "2.7.6"
  }
 },
 "nbformat": 4,
 "nbformat_minor": 0
}
