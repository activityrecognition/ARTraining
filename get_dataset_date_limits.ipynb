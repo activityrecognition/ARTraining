{
 "cells": [
  {
   "cell_type": "code",
   "execution_count": 1,
   "metadata": {
    "collapsed": true
   },
   "outputs": [],
   "source": [
    "import os, sys, shutil\n",
    "from datetime import datetime, timedelta\n",
    "from PIL import Image, ImageDraw, ImageFont\n",
    "from operator import itemgetter\n",
    "import numpy as np\n",
    "from os import environ"
   ]
  },
  {
   "cell_type": "code",
   "execution_count": 38,
   "metadata": {
    "collapsed": false
   },
   "outputs": [],
   "source": [
    "dataset_dir= \"/media/Gui2/thermix/ARThermal/bsas_002_frames_no_movement\"\n",
    "tim= \"14_tim\"\n",
    "category = \"3\"\n",
    "\n",
    "input_dir = os.path.join(dataset_dir, tim, category)\n",
    "videos = os.listdir(input_dir)"
   ]
  },
  {
   "cell_type": "code",
   "execution_count": 39,
   "metadata": {
    "collapsed": true
   },
   "outputs": [],
   "source": [
    "dates_of_video = []\n",
    "for video in videos:\n",
    "    name_of_video = os.path.basename(video)\n",
    "\n",
    "    # str_date_of_video = 2016-06-20T18%3A46%3A22\n",
    "    str_date_of_video = \"T\".join(os.path.splitext(name_of_video)[0].split(\"_\")[-2:])\n",
    "\n",
    "    # date_of_video = datetime(2016-06-20 18:46:22)\n",
    "    date_of_video = datetime.strptime(str_date_of_video,\"%Y-%m-%dT%H%%3A%M%%3A%S\")\n",
    "\n",
    "    #convert to argentinian date\n",
    "    date_of_video -= timedelta(hours=3)\n",
    "    \n",
    "    dates_of_video.append((date_of_video, video))\n",
    "    \n",
    "dates_of_video = sorted(dates_of_video, key=itemgetter(0))"
   ]
  },
  {
   "cell_type": "code",
   "execution_count": 40,
   "metadata": {
    "collapsed": false
   },
   "outputs": [
    {
     "name": "stdout",
     "output_type": "stream",
     "text": [
      "2016-07-26 09:43:08\n",
      "2016-07-28 20:17:31\n"
     ]
    }
   ],
   "source": [
    "print dates_of_video[0][0].strftime(\"%Y-%m-%d %H:%M:%S\")\n",
    "print dates_of_video[-1][0].strftime(\"%Y-%m-%d %H:%M:%S\")"
   ]
  },
  {
   "cell_type": "code",
   "execution_count": null,
   "metadata": {
    "collapsed": true
   },
   "outputs": [],
   "source": []
  }
 ],
 "metadata": {
  "kernelspec": {
   "display_name": "Python 2",
   "language": "python",
   "name": "python2"
  },
  "language_info": {
   "codemirror_mode": {
    "name": "ipython",
    "version": 2
   },
   "file_extension": ".py",
   "mimetype": "text/x-python",
   "name": "python",
   "nbconvert_exporter": "python",
   "pygments_lexer": "ipython2",
   "version": "2.7.6"
  }
 },
 "nbformat": 4,
 "nbformat_minor": 0
}
