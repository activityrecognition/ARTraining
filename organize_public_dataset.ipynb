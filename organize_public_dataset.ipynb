{
 "cells": [
  {
   "cell_type": "code",
   "execution_count": 2,
   "metadata": {
    "collapsed": true
   },
   "outputs": [],
   "source": [
    "import shutil, os\n",
    "from datetime import datetime, timedelta\n",
    "\n",
    "def get_date_from_video_path(video_path):\n",
    "    name_of_video = os.path.basename(video_path)\n",
    "\n",
    "    # str_date_of_video = 2016-06-20T18%3A46%3A22\n",
    "    str_date_of_video = \"T\".join(os.path.splitext(name_of_video)[0].split(\"_\")[-2:])\n",
    "\n",
    "    # date_of_video = datetime(2016-06-20 18:46:22)\n",
    "    date_of_video = datetime.strptime(str_date_of_video,\"%Y-%m-%dT%H%%3A%M%%3A%S\")\n",
    "\n",
    "    #convert to argentinian date\n",
    "    date_of_video -= timedelta(hours=3)\n",
    "    \n",
    "    return date_of_video\n",
    "\n",
    "def change_paths_in_annotations_file(filepath):\n",
    "    with open(filepath, \"r\") as f:\n",
    "        lines = f.readlines()\n",
    "    \n",
    "    with open(filepath, \"w\") as f:\n",
    "        for line in lines:\n",
    "            l_parts = line.split()\n",
    "            video_date = get_date_from_video_path(os.path.dirname(l_parts[0]))\n",
    "            new_video_name = datetime.strftime(video_date, \"%Y-%m-%d_%H.%M.%S\")\n",
    "            \n",
    "            new_line = \" \".join([new_video_name] + l_parts[1:])\n",
    "            f.write(\"%s\\n\"%new_line)"
   ]
  },
  {
   "cell_type": "code",
   "execution_count": 4,
   "metadata": {
    "collapsed": false
   },
   "outputs": [
    {
     "name": "stdout",
     "output_type": "stream",
     "text": [
      "../ARThermal/public_dataset/Julien_001\n",
      "../ARThermal/public_dataset/Anne_005\n",
      "../ARThermal/public_dataset/Anne_006\n",
      "../ARThermal/public_dataset/Anne_007\n",
      "../ARThermal/public_dataset/Anne_008\n",
      "../ARThermal/public_dataset/Anne_009\n",
      "../ARThermal/public_dataset/April_001\n",
      "../ARThermal/public_dataset/Charles_001\n",
      "../ARThermal/public_dataset/Charles_002\n",
      "../ARThermal/public_dataset/Charles_003\n",
      "../ARThermal/public_dataset/Charles_004\n",
      "../ARThermal/public_dataset/Charles_005\n",
      "../ARThermal/public_dataset/Erika_001\n",
      "../ARThermal/public_dataset/Erika_002\n",
      "../ARThermal/public_dataset/Fiona_001\n",
      "../ARThermal/public_dataset/Henry_001\n",
      "../ARThermal/public_dataset/Henry_002\n",
      "../ARThermal/public_dataset/Henry_003\n",
      "../ARThermal/public_dataset/Henry_004\n",
      "../ARThermal/public_dataset/Henry_005\n",
      "../ARThermal/public_dataset/Henry_006\n",
      "../ARThermal/public_dataset/Henry_007\n",
      "../ARThermal/public_dataset/Irene_001\n",
      "../ARThermal/public_dataset/Irene_002\n",
      "../ARThermal/public_dataset/Irene_003\n",
      "../ARThermal/public_dataset/Julien_002\n",
      "../ARThermal/public_dataset/Julien_003\n",
      "../ARThermal/public_dataset/Luke_001\n",
      "../ARThermal/public_dataset/Luke_002\n",
      "../ARThermal/public_dataset/Marge_002\n",
      "../ARThermal/public_dataset/Marge_005\n",
      "../ARThermal/public_dataset/Marge_006\n",
      "../ARThermal/public_dataset/Marge_007\n",
      "../ARThermal/public_dataset/Marge_008\n",
      "../ARThermal/public_dataset/Peter_001\n",
      "../ARThermal/public_dataset/Rick_001\n",
      "../ARThermal/public_dataset/Rick_002\n",
      "../ARThermal/public_dataset/Victor_001\n",
      "../ARThermal/public_dataset/Victor_002\n",
      "../ARThermal/public_dataset/Victor_003\n",
      "../ARThermal/public_dataset/Victor_004\n",
      "../ARThermal/public_dataset/Victor_005\n",
      "../ARThermal/public_dataset/Victor_006\n"
     ]
    }
   ],
   "source": [
    "public_dataset = \"../ARThermal/public_dataset\"\n",
    "group_paths = [os.path.join(public_dataset, d) for d in os.listdir(public_dataset)]\n",
    "for group_path in group_paths:\n",
    "    if \"broken_videos\" in group_path:\n",
    "        continue\n",
    "    \n",
    "    group_name = os.path.basename(group_path)\n",
    "    \n",
    "    annotation_file= os.path.join(group_path,group_name+\"_annotations.txt\")\n",
    "    if os.path.exists(annotation_file):\n",
    "        change_paths_in_annotations_file(annotation_file)\n",
    "    \n",
    "    videos_root_path = os.path.join(group_path, \"14_tim\", \"3\")\n",
    "    if not os.path.isdir(videos_root_path):\n",
    "        continue\n",
    "    \n",
    "    video_paths = [os.path.join(videos_root_path, d) for d in os.listdir(videos_root_path)]\n",
    "    print group_path\n",
    "    for path in video_paths:\n",
    "        video_path = path\n",
    "        if not os.path.isdir(video_path):\n",
    "            continue\n",
    "            \n",
    "        video_date = get_date_from_video_path(video_path)\n",
    "        new_video_name = datetime.strftime(video_date, \"%Y-%m-%d_%H.%M.%S\")\n",
    "        new_video_path = os.path.join(group_path, new_video_name)\n",
    "        shutil.move(video_path, new_video_path)"
   ]
  },
  {
   "cell_type": "code",
   "execution_count": null,
   "metadata": {
    "collapsed": true
   },
   "outputs": [],
   "source": []
  }
 ],
 "metadata": {
  "kernelspec": {
   "display_name": "Python 2",
   "language": "python",
   "name": "python2"
  },
  "language_info": {
   "codemirror_mode": {
    "name": "ipython",
    "version": 2
   },
   "file_extension": ".py",
   "mimetype": "text/x-python",
   "name": "python",
   "nbconvert_exporter": "python",
   "pygments_lexer": "ipython2",
   "version": "2.7.6"
  }
 },
 "nbformat": 4,
 "nbformat_minor": 0
}
