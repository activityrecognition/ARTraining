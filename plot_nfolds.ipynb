{
 "cells": [
  {
   "cell_type": "code",
   "execution_count": 1,
   "metadata": {
    "collapsed": false
   },
   "outputs": [
    {
     "name": "stderr",
     "output_type": "stream",
     "text": [
      "/usr/local/lib/python2.7/dist-packages/requests/packages/urllib3/util/ssl_.py:318: SNIMissingWarning: An HTTPS request has been made, but the SNI (Subject Name Indication) extension to TLS is not available on this platform. This may cause the server to present an incorrect TLS certificate, which can cause validation failures. You can upgrade to a newer version of Python to solve this. For more information, see https://urllib3.readthedocs.org/en/latest/security.html#snimissingwarning.\n",
      "  SNIMissingWarning\n",
      "/usr/local/lib/python2.7/dist-packages/requests/packages/urllib3/util/ssl_.py:122: InsecurePlatformWarning: A true SSLContext object is not available. This prevents urllib3 from configuring SSL appropriately and may cause certain SSL connections to fail. You can upgrade to a newer version of Python to solve this. For more information, see https://urllib3.readthedocs.org/en/latest/security.html#insecureplatformwarning.\n",
      "  InsecurePlatformWarning\n"
     ]
    }
   ],
   "source": [
    "import numpy as np\n",
    "\n",
    "import plotly\n",
    "import plotly.plotly as py\n",
    "from plotly.graph_objs import *\n",
    "import os\n",
    "import requests\n",
    "from os import environ\n",
    "\n",
    "requests.packages.urllib3.disable_warnings()\n",
    "\n",
    "plotly.tools.set_credentials_file(username='pusiol', api_key='m6iurl7f89')"
   ]
  },
  {
   "cell_type": "code",
   "execution_count": 2,
   "metadata": {
    "collapsed": true
   },
   "outputs": [],
   "source": [
    "model_names = ['thermix_33a','thermix_34a']\n",
    "\n",
    "base_dir = './trained_models'"
   ]
  },
  {
   "cell_type": "code",
   "execution_count": 9,
   "metadata": {
    "collapsed": false
   },
   "outputs": [
    {
     "data": {
      "text/html": [
       "<iframe id=\"igraph\" scrolling=\"no\" style=\"border:none;\" seamless=\"seamless\" src=\"https://plot.ly/~pusiol/175.embed\" height=\"525px\" width=\"100%\"></iframe>"
      ],
      "text/plain": [
       "<plotly.tools.PlotlyDisplay object>"
      ]
     },
     "execution_count": 9,
     "metadata": {},
     "output_type": "execute_result"
    }
   ],
   "source": [
    "data = []\n",
    "for i,model_name in enumerate(model_names):\n",
    "    model_base_path = os.path.join(base_dir, model_name)\n",
    "    \n",
    "    training_path = os.path.join(model_base_path,model_name+'_trainingLoss.out')\n",
    "    _Y = np.loadtxt(training_path)\n",
    "    \n",
    "    _X = range(1,len(_Y)+1) # _X = epoch number\n",
    "    mom1 = Scatter(x=_X,y=_Y, mode ='lines+markers', \n",
    "                   name =\"training fold %d\"%(i+1) ,\n",
    "                   line = dict(width = 2, color=('rgb(22, 96, 167)')),\n",
    "                   marker = dict(color=('rgb(22, 96, 167)'), size=3))\n",
    "    data.append(mom1)\n",
    "    \n",
    "    validation_path = os.path.join(model_base_path,model_name+'_validationLoss.out')\n",
    "    _Y = np.loadtxt(validation_path)\n",
    "    \n",
    "    _X = range(1,len(_Y)+1) # _X = epoch number\n",
    "    mom2 = Scatter(x=_X,y=_Y, mode ='lines+markers', \n",
    "                   name =\"validation fold %d\"%(i+1) ,\n",
    "                   line = dict(width = 2, color='rgb(156, 165, 196)'),\n",
    "                   marker = dict(color='rgb(156, 165, 196)', size = 3))\n",
    "    data.append(mom2)\n",
    "    \n",
    "layout = Layout(title='%s %d-folds loss function'%(model_name[:-1], len(model_names)), \n",
    "                                                   xaxis = dict(title = 'epoch'), \n",
    "                                                   yaxis = dict(title = 'miss rate'),)\n",
    "                \n",
    "# Plot and embed in ipython notebook!\n",
    "fig = dict(data=data, layout=layout)\n",
    "\n",
    "#upload to guido's account\n",
    "py.iplot(fig, filename=\"lastest_trained_nfold\")\n",
    "py.iplot(fig, filename=\"%s_trained_nfold\"% model_names[0][:-1])"
   ]
  },
  {
   "cell_type": "code",
   "execution_count": null,
   "metadata": {
    "collapsed": true
   },
   "outputs": [],
   "source": []
  }
 ],
 "metadata": {
  "kernelspec": {
   "display_name": "Python 2",
   "language": "python",
   "name": "python2"
  },
  "language_info": {
   "codemirror_mode": {
    "name": "ipython",
    "version": 2
   },
   "file_extension": ".py",
   "mimetype": "text/x-python",
   "name": "python",
   "nbconvert_exporter": "python",
   "pygments_lexer": "ipython2",
   "version": "2.7.6"
  }
 },
 "nbformat": 4,
 "nbformat_minor": 0
}
