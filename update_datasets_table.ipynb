{
 "cells": [
  {
   "cell_type": "code",
   "execution_count": 22,
   "metadata": {
    "collapsed": false,
    "run_control": {
     "frozen": false,
     "read_only": false
    }
   },
   "outputs": [],
   "source": [
    "import os\n",
    "from datetime import *\n",
    "from operator import itemgetter"
   ]
  },
  {
   "cell_type": "code",
   "execution_count": 23,
   "metadata": {
    "collapsed": true,
    "run_control": {
     "frozen": false,
     "read_only": false
    }
   },
   "outputs": [],
   "source": [
    "# Directory where all dataset folders are stored. \n",
    "# Every folder that ends with _frames_no_movement is considered a dataset.\n",
    "root_dir = \"../ARThermal/frames_no_movement\"\n",
    "\n",
    "recording_configuration_durations = {\"RC1\":10,\n",
    "                                     \"RC2\":15,\n",
    "                                     \"RC3\":15,\n",
    "                                     \"RC4\":10,\n",
    "                                     \"RC5\":2,\n",
    "                                     \"RC6\":2,\n",
    "                                     \"RC7\":5,\n",
    "                                     \"RC8\":5,\n",
    "                                    }"
   ]
  },
  {
   "cell_type": "code",
   "execution_count": 24,
   "metadata": {
    "collapsed": false,
    "run_control": {
     "frozen": false,
     "read_only": false
    }
   },
   "outputs": [
    {
     "name": "stdout",
     "output_type": "stream",
     "text": [
      "['Fiona_001', 'Marge_002', 'Marge_005', 'Marge_006', 'Marge_007', 'Marge_008', 'Marge_009', 'Marge_010', 'Peter_001'] 9\n"
     ]
    }
   ],
   "source": [
    "# general patient information\n",
    "patients_info = {}\n",
    "patients_info[\"Peter\"] = {\"gender\":\"male\", \"age\":\"75+\"}\n",
    "#patients_info[\"Henry\"] = {\"gender\":\"male\", \"age\":\"55+\"}\n",
    "#patients_info[\"Victor\"] = {\"gender\":\"male\", \"age\":\"75+\"}\n",
    "#patients_info[\"Rick\"] = {\"gender\":\"male\", \"age\":\"75+\"}\n",
    "#patients_info[\"Charles\"] = {\"gender\":\"male\", \"age\":\"65+\"}\n",
    "#patients_info[\"Julien\"] = {\"gender\":\"male\", \"age\":\"85+\"}\n",
    "#patients_info[\"Luke\"] = {\"gender\":\"male\", \"age\":\"75+\"}\n",
    "patients_info[\"Marge\"] = {\"gender\":\"female\", \"age\":\"85+\"}\n",
    "patients_info[\"Fiona\"] = {\"gender\":\"female\", \"age\":\"75+\"}\n",
    "#patients_info[\"Anne\"] = {\"gender\":\"female\", \"age\":\"55+\"}\n",
    "#patients_info[\"Irene\"] = {\"gender\":\"female\", \"age\":\"75+\"}\n",
    "#patients_info[\"Erika\"] = {\"gender\":\"female\", \"age\":\"65+\"}\n",
    "#patients_info[\"April\"] = {\"gender\":\"female\", \"age\":\"65+\"}\n",
    "\n",
    "# datasets_info is a dictionary of dictionaries, in which the keys are the names of each dataset and the values are\n",
    "# dictionaries that contains the non-inferable information of each dataset.\n",
    "datasets_info = dict()\n",
    "\n",
    "# each dictionary contains the keys:\n",
    "#   sd : Short Description \n",
    "#   rc : recording configuration\n",
    "#   du : device used\n",
    "#   lns : list of videos\n",
    "\n",
    "rc1 = {\"Clips length\":\"10 seconds\", \"Temperature precision\":\"Low Precision\", \"Dead intervals\":\"One-by-one mode\"}\n",
    "rc2 = {\"Clips length\":\"15 seconds\", \"Temperature precision\":\"Low Precision\", \"Dead intervals\":\"Continuous mode\"}\n",
    "rc3 = {\"Clips length\":\"15 seconds\", \"Temperature precision\":\"Low Precision\", \"Dead intervals\":\"Continuous mode\"}\n",
    "rc4 = {\"Clips length\":\"10 seconds\", \"Temperature precision\":\"High Precision\", \"Dead intervals\":\"One-by-one mode\"}\n",
    "rc5 = {\"Clips length\":\"2 seconds\", \"Temperature precision\":\"High Precision\", \"Dead intervals\":\"One-by-one mode\"}\n",
    "rc6 = {\"Clips length\":\"2 seconds\", \"Temperature precision\":\"High Precision\", \"Dead intervals\":\"One-by-one mode\"}\n",
    "rc7 = {\"Clips length\":\"5 seconds\", \"Temperature precision\":\"High Precision\", \"Dead intervals\":\"One-by-one mode\"}\n",
    "rc8 = {\"Clips length\":\"5 seconds\", \"Temperature precision\":\"High Precision\", \"Dead intervals\":\"One-by-one mode\"}\n",
    "\n",
    "\n",
    "############# Peter_001 #############\n",
    "peter_001 = datasets_info[\"Peter_001\"] = {}\n",
    "peter_001[\"sd\"] = \"Senior monitored during the weekend. Camera pointing to a queen sized bed. ~1m distance to bed, ~1.8m height.\"\n",
    "peter_001[\"rc\"] = \"RC3\" \n",
    "peter_001[\"du\"] = \"iPod touch + Dongle\"\n",
    "peter_001[\"lns\"] = {\"Day 1\":\"https://youtu.be/iW50lCthmhs\"}\n",
    "peter_001[\"rcd\"] = rc3\n",
    "\n",
    "############# Henry_001 #############\n",
    "henry_001 ={} #datasets_info[\"Henry_001\"] = {}\n",
    "henry_001[\"sd\"] = \"Camera distance to full bed ~4m, ~2.5m height. Part of a different bed appears in scene.\"\n",
    "henry_001[\"rc\"] = \"RC1\" \n",
    "henry_001[\"du\"] = \"iPhone 5s + Dongle\"\n",
    "henry_001[\"lns\"] ={\"Day 1\":\"https://youtu.be/KbhgPCR32wE\",\"Day 2\":\"https://youtu.be/omxRKZDnUQk\",\"Day 3\":\"https://youtu.be/jKQAQHOMeV0\"}\n",
    "henry_001[\"rcd\"] = rc1\n",
    "\n",
    "############# Fiona_001 #############\n",
    "fiona_001 = datasets_info[\"Fiona_001\"] = {}\n",
    "fiona_001[\"sd\"] = \"Camera aims to a full bed. ~2m height, ~3m distance to bed.\"\n",
    "fiona_001[\"rc\"] = \"RC3\"\n",
    "fiona_001[\"du\"] = \"iPhone 5s + Dongle\"\n",
    "fiona_001[\"lns\"] ={\"Day 3\":\"https://youtu.be/4LxfPLFMj_0\"}\n",
    "fiona_001[\"rcd\"] = rc3\n",
    "\n",
    "############# Marge_001 #############\n",
    "#marge_001 = datasets_info[\"Marge_001\"] = {}\n",
    "marge_001 = {}\n",
    "marge_001[\"sd\"] = \"Camera distance to bed ~1.5m, ~1.8m height.\"\n",
    "marge_001[\"rc\"] = \"RC2\"\n",
    "marge_001[\"du\"] = \"iPhone 5s + Dongle\"\n",
    "marge_001[\"lns\"] ={\"Complete (no background)\":\"https://youtu.be/PZ75HQ9dcN4\"}\n",
    "marge_001[\"rcd\"] = {}\n",
    "\n",
    "############# Henry_002 #############\n",
    "henry_002 ={} #datasets_info[\"Henry_002\"] = {}\n",
    "henry_002[\"sd\"] = \"Camera distance to bed ~2m, ~1.8m height on top of a wardrobe.\"\n",
    "henry_002[\"rc\"] = \"RC1\"\n",
    "henry_002[\"du\"] = \"iPod touch + Dongle\"\n",
    "henry_002[\"lns\"] ={\"Day 1\":\"https://youtu.be/VsV3EuOF8mA\",\"Day 2\":\"https://youtu.be/pK4BS4l_uuw\",\"Day 3\":\"https://youtu.be/wzrZm5jAhoI\"}\n",
    "henry_002[\"rcd\"] = rc1\n",
    "\n",
    "############# Henry_003 #############\n",
    "henry_003 ={} #datasets_info[\"Henry_003\"] = {}\n",
    "henry_003[\"sd\"] = \"Camera distance to full bed ~4m, ~2.5m height. Part of a different bed appears in scene.\"\n",
    "henry_003[\"rc\"] = \"RC1\"\n",
    "henry_003[\"du\"] = \"iPhone 5s + Dongle\"\n",
    "henry_003[\"lns\"] ={\"Day 1\":\"https://youtu.be/7RmATN54Q4g\"}\n",
    "henry_003[\"rcd\"] = rc1\n",
    "\n",
    "############# Victor_001 #############\n",
    "victor_001 ={} #datasets_info[\"Victor_001\"] = {}\n",
    "victor_001[\"sd\"] = \"Camera distance to full bed ~4m, ~2.5m height. Part of a different bed appears in scene.\"\n",
    "victor_001[\"rc\"] = \"RC1\"\n",
    "victor_001[\"du\"] = \"iPod Touch + Dongle\"\n",
    "victor_001[\"lns\"] ={\"Day 1\":\"https://youtu.be/hN3afJG6Irs\", \"Day 2\":\"https://youtu.be/AOlo5spnZm0\"}\n",
    "victor_001[\"rcd\"] = rc1\n",
    "\n",
    "############# Herny_004 #############\n",
    "henry_004 ={} #datasets_info[\"Henry_004\"] = {}\n",
    "henry_004[\"sd\"] = \"Camera distance to full bed ~4m, ~2.5m height. Part of a different bed appears in scene.\"\n",
    "henry_004[\"rc\"] = \"RC1\"\n",
    "henry_004[\"du\"] = \"iPhone 5s + Dongle\"\n",
    "henry_004[\"lns\"] ={\"Day 1\": \"https://youtu.be/_881VMjcAfU\"}\n",
    "henry_004[\"rcd\"] = rc1\n",
    "\n",
    "############# Victor_002 #############\n",
    "victor_002 ={} #datasets_info[\"Victor_002\"] = {}\n",
    "victor_002[\"sd\"] = \"Camera distance to full bed ~4m, ~2.5m height. Part of a different bed appears in scene.\"\n",
    "victor_002[\"rc\"] = \"RC1\"\n",
    "victor_002[\"du\"] = \"iPod Touch + Dongle\"\n",
    "victor_002[\"lns\"] ={\"Day 1\":\"https://youtu.be/_vD8xWGhMLw\"}\n",
    "victor_002[\"rcd\"] = rc1\n",
    "\n",
    "############# Henry_005 #############\n",
    "henry_005 ={} #datasets_info[\"Henry_005\"] = {}\n",
    "henry_005[\"sd\"] = \"Camera distance to full bed ~4m, ~2.5m height. Part of a different bed appears in scene.\"\n",
    "henry_005[\"rc\"] = \"RC1\"\n",
    "henry_005[\"du\"] = \"iPhone 5s + Dongle\"\n",
    "henry_005[\"lns\"] ={\"Day 1\": \"https://youtu.be/AZSbJXsAg8g\"}\n",
    "henry_005[\"rcd\"] = rc1\n",
    "\n",
    "############# Victor_003 #############\n",
    "victor_003 ={} #datasets_info[\"Victor_003\"] = {}\n",
    "victor_003[\"sd\"] = \"Camera distance to full bed ~4m, ~2.5m height. Part of a different bed appears in scene.\"\n",
    "victor_003[\"rc\"] = \"RC1\"\n",
    "victor_003[\"du\"] = \"iPod Touch + Dongle\"\n",
    "victor_003[\"lns\"] ={\"Day 1\":\"https://youtu.be/TwU52MF6D2M\"}\n",
    "victor_003[\"rcd\"] = rc1\n",
    "\n",
    "############# Marge_002 #############\n",
    "marge_002 = datasets_info[\"Marge_002\"] = {}\n",
    "marge_002[\"sd\"] = \"Camera distance to bed ~1.5m, ~1.8m height.\"\n",
    "marge_002[\"rc\"] = \"RC1\"\n",
    "marge_002[\"du\"] = \"iPhone 5 + SLED\"\n",
    "marge_002[\"lns\"] ={\"Day 1\":\"https://youtu.be/rjHXP9_QBfQ\"}\n",
    "marge_002[\"rcd\"] = rc1\n",
    "\n",
    "############# Victor_003 #############\n",
    "victor_004 ={} #datasets_info[\"Victor_004\"] = {}\n",
    "victor_004[\"sd\"] = \"Camera distance to full bed ~4m, ~2.5m height. Part of a different bed appears in scene.\"\n",
    "victor_004[\"rc\"] = \"RC4\"\n",
    "victor_004[\"du\"] = \"iPod Touch + Dongle\"\n",
    "victor_004[\"lns\"] ={\"Day 1\":\"https://youtu.be/2Rzgz29bLvY\"}\n",
    "victor_004[\"rcd\"] = rc4\n",
    "\n",
    "############# Anne_001 #############\n",
    "#anne_001 = datasets_info[\"Anne_001\"] = {}\n",
    "anne_001 = {}\n",
    "anne_001[\"sd\"] = \"Camera distance to full bed ~1.5m, ~1.8m height.\"\n",
    "anne_001[\"rc\"] = \"RC4\" \n",
    "anne_001[\"du\"] = \"iPhone 5s + Dongle\"\n",
    "anne_001[\"lns\"] ={\"Day 1\":\"https://youtu.be/x_EJvO1bNDk\"}\n",
    "anne_001[\"rcd\"]= {}\n",
    "\n",
    "#############\n",
    "#marge_003 = datasets_info[\"Marge_003\"] = {}\n",
    "marge_003 = {}\n",
    "marge_003[\"sd\"] = \"Camera distance to bed ~1.5m, ~1.8m height.\"\n",
    "marge_003[\"rc\"] = \"RC4\"\n",
    "marge_003[\"du\"] = \"iPhone 5 + SLED\"\n",
    "marge_003[\"lns\"] ={\"Day 1\":\"https://youtu.be/9yBtoFklh60\"}\n",
    "marge_003[\"rcd\"]={}\n",
    "\n",
    "#############\n",
    "marge_006= datasets_info[\"Marge_006\"] = {}\n",
    "marge_006[\"sd\"] = \"Camera distance to bed ~1.2m, ~1.8m height.\"\n",
    "marge_006[\"rc\"] = \"RC6\"\n",
    "marge_006[\"du\"] = \"iPhone 5 + SLED\"\n",
    "marge_006[\"lns\"] ={\"Day 1\":\"https://youtu.be/oxIBWfEsUVk\"}\n",
    "marge_006[\"rcd\"] = rc6\n",
    "\n",
    "#############\n",
    "victor_006={} #datasets_info[\"Victor_006\"] = {}\n",
    "victor_006[\"sd\"] = \"Camera distance to full bed ~4m, ~2.5m height. Part of a different bed appears in scene\"\n",
    "victor_006[\"rc\"] = \"RC5\"\n",
    "victor_006[\"du\"] = \"iPod Touch + Dongle\"\n",
    "victor_006[\"lns\"] ={\"Day 1\":\"https://youtu.be/pPJ8GBxs8mM\"}\n",
    "victor_006[\"rcd\"] = rc5\n",
    "\n",
    "#############\n",
    "anne_005={} #datasets_info[\"Anne_005\"] = {}\n",
    "anne_005[\"sd\"] = \"Camera distance to full bed ~1.5m, ~1.8m height.\"\n",
    "anne_005[\"rc\"] = \"RC6\"\n",
    "anne_005[\"du\"] = \"iPhone 5s + Dongle\"\n",
    "anne_005[\"lns\"] ={\"Day 1\":\"https://youtu.be/QAHXS1ltt8M\"}\n",
    "anne_005[\"rcd\"] = rc6\n",
    "\n",
    "#############\n",
    "#anne_002={} #datasets_info[\"Anne_002\"] = {}\n",
    "anne_002 = {}\n",
    "anne_002[\"sd\"] = \"Camera distance to full bed ~1.5m, ~1.8m height.\"\n",
    "anne_002[\"rc\"] = \"RC4\"\n",
    "anne_002[\"du\"] = \"iPhone 5s + Dongle\"\n",
    "anne_002[\"lns\"] ={}\n",
    "\n",
    "#############\n",
    "#anne_003={} #datasets_info[\"Anne_003\"] = {}\n",
    "anne_003 = {}\n",
    "anne_003[\"sd\"] = \"Camera distance to full bed ~1.5m, ~1.8m height.\"\n",
    "anne_003[\"rc\"] = \"RC6\"\n",
    "anne_003[\"du\"] = \"iPhone 5s + Dongle\"\n",
    "anne_003[\"lns\"] ={}\n",
    "anne_003[\"rcd\"]={}\n",
    "\n",
    "#############\n",
    "#anne_004={} #datasets_info[\"Anne_004\"] = {}\n",
    "anne_004 = {}\n",
    "anne_004[\"sd\"] = \"Camera distance to full bed ~1.5m, ~1.8m height.\"\n",
    "anne_004[\"rc\"] = \"RC6\"\n",
    "anne_004[\"du\"] = \"iPhone 5s + Dongle\"\n",
    "anne_004[\"lns\"] ={}\n",
    "anne_004[\"rcd\"]={}\n",
    "\n",
    "#############\n",
    "victor_005={} #datasets_info[\"Victor_005\"] = {}\n",
    "victor_005[\"sd\"] = \"Camera distance to full bed ~4m, ~2.5m height. Part of a different bed appears in scene\"\n",
    "victor_005[\"rc\"] = \"RC5\"\n",
    "victor_005[\"du\"] = \"iPod touch + Dongle\"\n",
    "victor_005[\"lns\"] ={}\n",
    "victor_005[\"rcd\"]=rc5\n",
    "\n",
    "#############\n",
    "henry_006={} #datasets_info[\"Henry_006\"] = {}\n",
    "henry_006[\"sd\"] = \"Camera distance to full bed ~4m, ~2.5m height. Part of a different bed appears in scene\"\n",
    "henry_006[\"rc\"] = \"RC7\"\n",
    "henry_006[\"du\"] = \"iPhone 5s + Dongle\"\n",
    "henry_006[\"lns\"] ={\"Day 1\":\"https://youtu.be/5EHkeLpBw7E\"}\n",
    "henry_006[\"rcd\"]=rc7\n",
    "\n",
    "#############\n",
    "marge_005= datasets_info[\"Marge_005\"] = {}\n",
    "marge_005[\"sd\"] = \"Camera distance to bed ~1.2m, ~1.8m height.\"\n",
    "marge_005[\"rc\"] = \"RC6\"\n",
    "marge_005[\"du\"] = \"iPhone 5 + SLED\"\n",
    "marge_005[\"lns\"] ={}\n",
    "marge_005[\"rcd\"]=rc6\n",
    "\n",
    "#############\n",
    "marge_007= datasets_info[\"Marge_007\"] = {}\n",
    "marge_007[\"sd\"] = \"Camera distance to bed ~1.2m, ~1.8m height.\"\n",
    "marge_007[\"rc\"] = \"RC7\"\n",
    "marge_007[\"du\"] = \"iPhone 5 + SLED\"\n",
    "marge_007[\"lns\"] ={}\n",
    "marge_007[\"rcd\"]=rc7\n",
    "\n",
    "#############\n",
    "anne_006={} #datasets_info[\"Anne_006\"] = {}\n",
    "anne_006[\"sd\"] = \"Camera distance to full bed ~1.5m, ~1.8m height.\"\n",
    "anne_006[\"rc\"] = \"RC7\"\n",
    "anne_006[\"du\"] = \"iPhone 5s + Dongle\"\n",
    "anne_006[\"lns\"] = {\"Day 1\":\"https://youtu.be/qSg-pnHwIf0\"}\n",
    "anne_006[\"rcd\"]=rc7\n",
    "\n",
    "#############\n",
    "irene_001 ={} #datasets_info[\"Irene_001\"] = {}\n",
    "irene_001[\"sd\"] = \"Camera distance to full bed ~2m, ~1.8m height.\"\n",
    "irene_001[\"rc\"] = \"RC7\"\n",
    "irene_001[\"du\"] = \"iPhone 5 + SLED\"\n",
    "irene_001[\"lns\"] = {}\n",
    "irene_001[\"rcd\"]=rc7\n",
    "\n",
    "#############\n",
    "irene_002 ={} #datasets_info[\"Irene_002\"] = {}\n",
    "irene_002[\"sd\"] = \"Camera distance to full bed ~2m, ~1.8m height.\"\n",
    "irene_002[\"rc\"] = \"RC7\"\n",
    "irene_002[\"du\"] = \"iPhone 5 + SLED\"\n",
    "irene_002[\"lns\"] = {}\n",
    "irene_002[\"rcd\"]=rc7\n",
    "\n",
    "#############\n",
    "rick_001 ={} #datasets_info[\"Rick_001\"] = {}\n",
    "rick_001[\"sd\"] = \"Camera distance to full bed ~4m, ~2.5m height. Part of a different bed appears in scene.\"\n",
    "rick_001[\"rc\"] = \"RC7\"\n",
    "rick_001[\"du\"] = \"iPhone 5s + Dongle\"\n",
    "rick_001[\"lns\"] = {}\n",
    "rick_001[\"rcd\"]=rc7\n",
    "\n",
    "#############\n",
    "charles_001 ={} #datasets_info[\"Charles_001\"] = {}\n",
    "charles_001[\"sd\"] = \"Camera distance to full bed ~3m, ~1.8m height. Part of a different bed appears in scene.\"\n",
    "charles_001[\"rc\"] = \"RC8\"\n",
    "charles_001[\"du\"] = \"iPod Touch + Dongle\"\n",
    "charles_001[\"lns\"] = {}\n",
    "charles_001[\"rcd\"]=rc8\n",
    "\n",
    "#############\n",
    "charles_002 ={} #datasets_info[\"Charles_002\"] = {}\n",
    "charles_002[\"sd\"] = \"Camera distance to full bed ~3m, ~1.8m height. Part of a different bed appears in scene.\"\n",
    "charles_002[\"rc\"] = \"RC8\"\n",
    "charles_002[\"du\"] = \"iPod Touch + Dongle\"\n",
    "charles_002[\"lns\"] = {}\n",
    "charles_002[\"rcd\"]=rc8\n",
    "\n",
    "#############\n",
    "julien_001 ={} #datasets_info[\"Julien_001\"] = {}\n",
    "julien_001[\"sd\"] = \"Camera distance to full bed ~2m, ~1.8m height.\"\n",
    "julien_001[\"rc\"] = \"RC8\"\n",
    "julien_001[\"du\"] = \"iPod Touch + Dongle\"\n",
    "julien_001[\"lns\"] = {}\n",
    "julien_001[\"rcd\"]=rc8\n",
    "\n",
    "#############\n",
    "luke_001 ={} #datasets_info[\"Luke_001\"] = {}\n",
    "luke_001[\"sd\"] = \"Camera distance to full bed ~2m, ~1.8m height.\"\n",
    "luke_001[\"rc\"] = \"RC7\"\n",
    "luke_001[\"du\"] = \"iPhone 5s + Dongle\"\n",
    "luke_001[\"lns\"] = {}\n",
    "luke_001[\"rcd\"]=rc7\n",
    "\n",
    "#############\n",
    "charles_003 ={} #datasets_info[\"Charles_003\"] = {}\n",
    "charles_003[\"sd\"] = \"Camera distance to full bed ~3m, ~1.8m height.\"\n",
    "charles_003[\"rc\"] = \"RC7\"\n",
    "charles_003[\"du\"] = \"iPhone 5s + Dongle\"\n",
    "charles_003[\"lns\"] = {}\n",
    "charles_003[\"rcd\"]=rc7\n",
    "\n",
    "#############\n",
    "luke_002 ={} #datasets_info[\"Luke_002\"] = {}\n",
    "luke_002[\"sd\"] = \"Camera distance to full bed ~2m, ~1.8m height.\"\n",
    "luke_002[\"rc\"] = \"RC8\"\n",
    "luke_002[\"du\"] = \"iPod Touch + Dongle\"\n",
    "luke_002[\"lns\"] = {}\n",
    "luke_002[\"rcd\"]=rc8\n",
    "\n",
    "#############\n",
    "charles_004 ={} #datasets_info[\"Charles_004\"] = {}\n",
    "charles_004[\"sd\"] = \"Camera distance to full bed ~2m, ~1.8m height.\"\n",
    "charles_004[\"rc\"] = \"RC7\"\n",
    "charles_004[\"du\"] = \"iPhone 5s + Dongle\"\n",
    "charles_004[\"lns\"] = {}\n",
    "charles_004[\"rcd\"]=rc7\n",
    "\n",
    "#############\n",
    "irene_003 ={} #datasets_info[\"Irene_003\"] = {}\n",
    "irene_003[\"sd\"] = \"Camera distance to full bed ~2m, ~1.8m height.\"\n",
    "irene_003[\"rc\"] = \"RC8\"\n",
    "irene_003[\"du\"] = \"iPhone 5 + SLED\"\n",
    "irene_003[\"lns\"] = {}\n",
    "irene_003[\"rcd\"]=rc8\n",
    "\n",
    "#############\n",
    "charles_005 ={} #datasets_info[\"Charles_005\"] = {}\n",
    "charles_005[\"sd\"] = \"Camera distance to full bed ~2m, ~1.8m height.\"\n",
    "charles_005[\"rc\"] = \"RC8\"\n",
    "charles_005[\"du\"] = \"iPhone 5s + Dongle\"\n",
    "charles_005[\"lns\"] = {}\n",
    "charles_005[\"rcd\"]=rc8\n",
    "\n",
    "#############\n",
    "julien_002 ={} #datasets_info[\"Julien_002\"] = {}\n",
    "julien_002[\"sd\"] = \"Camera distance to full bed ~2m, ~1.8m height.\"\n",
    "julien_002[\"rc\"] = \"RC8\"\n",
    "julien_002[\"du\"] = \"iPod Touch + Dongle\"\n",
    "julien_002[\"lns\"] = {}\n",
    "julien_002[\"rcd\"]=rc8\n",
    "\n",
    "#############\n",
    "anne_007 ={} #datasets_info[\"Anne_007\"] = {}\n",
    "anne_007[\"sd\"] = \"Camera distance to full bed ~1.5m, ~1.8m height.\"\n",
    "anne_007[\"rc\"] = \"RC8\"\n",
    "anne_007[\"du\"] = \"iPhone 5 + SLED\"\n",
    "anne_007[\"lns\"] = {}\n",
    "anne_007[\"rcd\"]=rc8\n",
    "\n",
    "#############\n",
    "rick_002 = {} #datasets_info[\"Rick_002\"] = {}\n",
    "rick_002[\"sd\"] = \"Camera distance to full bed ~4m, ~2.5m height. Part of a different bed appears in scene.\"\n",
    "rick_002[\"rc\"] = \"RC8\"\n",
    "rick_002[\"du\"] = \"iPod Touch + Dongle\"\n",
    "rick_002[\"lns\"] = {}\n",
    "rick_002[\"rcd\"]=rc8\n",
    "\n",
    "#############\n",
    "anne_008 ={} #datasets_info[\"Anne_008\"] = {}\n",
    "anne_008[\"sd\"] = \"Camera distance to full bed ~1.5m, ~1.8m height.\"\n",
    "anne_008[\"rc\"] = \"RC8\"\n",
    "anne_008[\"du\"] = \"iPhone 5s + Dongle\"\n",
    "anne_008[\"lns\"] = {}\n",
    "anne_008[\"rcd\"]=rc8\n",
    "\n",
    "#############\n",
    "julien_003 ={} #datasets_info[\"Julien_003\"] = {}\n",
    "julien_003[\"sd\"] = \"Camera distance to full bed ~2m, ~1.8m height.\"\n",
    "julien_003[\"rc\"] = \"RC8\"\n",
    "julien_003[\"du\"] = \"iPhone 5 + SLED\"\n",
    "julien_003[\"lns\"] = {}\n",
    "julien_003[\"rcd\"]=rc8\n",
    "\n",
    "#############\n",
    "henry_007={} #datasets_info[\"Henry_007\"] = {}\n",
    "henry_007[\"sd\"] = \"Camera distance to full bed ~4m, ~2.5m height.\"\n",
    "henry_007[\"rc\"] = \"RC8\"\n",
    "henry_007[\"du\"] = \"iPod Touch + Dongle\"\n",
    "henry_007[\"lns\"] ={}\n",
    "henry_007[\"rcd\"]=rc8\n",
    "\n",
    "#############\n",
    "anne_009 ={} #datasets_info[\"Anne_009\"] = {}\n",
    "anne_009[\"sd\"] = \"Camera distance to full bed ~1.5m, ~1.8m height.\"\n",
    "anne_009[\"rc\"] = \"RC8\"\n",
    "anne_009[\"du\"] = \"iPhone 5s + Dongle\"\n",
    "anne_009[\"lns\"] = {}\n",
    "anne_009[\"rcd\"]=rc8\n",
    "\n",
    "#############\n",
    "erika_001 ={} #datasets_info[\"Erika_001\"] = {}\n",
    "erika_001[\"sd\"] = \"Camera distance to full bed ~2.5m, ~1.8m height.\"\n",
    "erika_001[\"rc\"] = \"RC8\"\n",
    "erika_001[\"du\"] = \"iPhone 5 + SLED\"\n",
    "erika_001[\"lns\"] = {}\n",
    "erika_001[\"rcd\"]=rc8\n",
    "\n",
    "#############\n",
    "erika_002 = {} #datasets_info[\"Erika_002\"] = {}\n",
    "erika_002[\"sd\"] = \"Camera distance to full bed ~2.5m, ~1.8m height.\"\n",
    "erika_002[\"rc\"] = \"RC8\"\n",
    "erika_002[\"du\"] = \"iPhone 5 + SLED\"\n",
    "erika_002[\"lns\"] = {}\n",
    "erika_002[\"rcd\"]=rc8\n",
    "\n",
    "#############\n",
    "marge_008 = datasets_info[\"Marge_008\"] = {}\n",
    "marge_008[\"sd\"] = \"Camera distance to bed ~1.5m, ~1.8m height.\"\n",
    "marge_008[\"rc\"] = \"RC8\"\n",
    "marge_008[\"du\"] = \"iPhone 5s + Dongle\"\n",
    "marge_008[\"lns\"] ={}\n",
    "marge_008[\"rcd\"]=rc8\n",
    "\n",
    "#############\n",
    "april_001 = {} #datasets_info[\"April_001\"] = {}\n",
    "april_001[\"sd\"] = \"Camera distance to full bed ~2.5m, ~1.8m height.\"\n",
    "april_001[\"rc\"] = \"RC8\"\n",
    "april_001[\"du\"] = \"iPod Touch + Dongle\"\n",
    "april_001[\"lns\"] = {}\n",
    "april_001[\"rcd\"]=rc8\n",
    "\n",
    "#############\n",
    "marge_009 = datasets_info[\"Marge_009\"] = {}\n",
    "marge_009[\"sd\"] = \"Camera distance to bed ~1.5m, ~1.8m height.\"\n",
    "marge_009[\"rc\"] = \"RC8\"\n",
    "marge_009[\"du\"] = \"iPhone 5s + Dongle\"\n",
    "marge_009[\"lns\"] ={}\n",
    "marge_009[\"rcd\"]=rc8\n",
    "\n",
    "#############\n",
    "erika_003 ={} #datasets_info[\"Erika_003\"] = {}\n",
    "erika_003[\"sd\"] = \"Camera distance to full bed ~2.5m, ~1.8m height.\"\n",
    "erika_003[\"rc\"] = \"RC8\"\n",
    "erika_003[\"du\"] = \"iPhone 5 + SLED\"\n",
    "erika_003[\"lns\"] = {}\n",
    "erika_003[\"rcd\"]=rc8\n",
    "#############\n",
    "april_002 ={} #datasets_info[\"April_002\"] = {}\n",
    "april_002[\"sd\"] = \"Camera distance to full bed ~2.5m, ~1.8m height.\"\n",
    "april_002[\"rc\"] = \"RC8\"\n",
    "april_002[\"du\"] = \"iPod Touch + Dongle\"\n",
    "april_002[\"lns\"] = {}\n",
    "april_002[\"rcd\"] = rc8\n",
    "\n",
    "#############\n",
    "marge_010 = datasets_info[\"Marge_010\"] = {}\n",
    "marge_010[\"sd\"] = \"Camera distance to bed ~1.5m, ~1.8m height.\"\n",
    "marge_010[\"rc\"] = \"RC8\"\n",
    "marge_010[\"du\"] = \"iPhone 5s + Dongle\"\n",
    "marge_010[\"lns\"] = {}\n",
    "marge_010[\"rcd\"] = rc8\n",
    "\n",
    "print sorted(datasets_info.keys()), len(datasets_info.keys())"
   ]
  },
  {
   "cell_type": "code",
   "execution_count": 25,
   "metadata": {
    "collapsed": true,
    "run_control": {
     "frozen": false,
     "read_only": false
    }
   },
   "outputs": [],
   "source": [
    "'''return an array with couples with format (datetime, video_name)'''\n",
    "def get_sorted_dates_of_videos(videos_paths):\n",
    "    dates_of_video = []\n",
    "    for video in videos_paths:\n",
    "        name_of_video = os.path.basename(video)\n",
    "\n",
    "        # str_date_of_video = 2016-06-20T18%3A46%3A22\n",
    "        str_date_of_video = \"T\".join(os.path.splitext(name_of_video)[0].split(\"_\")[-2:])\n",
    "\n",
    "        # date_of_video = datetime(2016-06-20 18:46:22)\n",
    "        date_of_video = datetime.strptime(str_date_of_video,\"%Y-%m-%dT%H%%3A%M%%3A%S\")\n",
    "\n",
    "        #convert to argentinian date\n",
    "        date_of_video -= timedelta(hours=3)\n",
    "\n",
    "        dates_of_video.append((date_of_video, video))\n",
    "\n",
    "    dates_of_video = sorted(dates_of_video, key=itemgetter(0))\n",
    "    \n",
    "    return dates_of_video\n",
    "\n",
    "'''return a string with start date, end date, hours recorded and quantity of videos for the dataset with name dataset_name'''\n",
    "def get_dates_str_for_dataset(root_dir, dataset_name, record_configuration_duration):\n",
    "    dataset_dir= os.path.join(root_dir, dataset_name + \"_frames_no_movement\")\n",
    "    tim= \"14_tim\"\n",
    "    category = \"3\"\n",
    "\n",
    "    input_dir = os.path.join(dataset_dir, tim, category)\n",
    "    videos = os.listdir(input_dir)\n",
    "\n",
    "    dates_of_videos = get_sorted_dates_of_videos(videos)\n",
    "        \n",
    "    seconds =  len(videos)*record_configuration_duration # minutes = amount of videos recorded * length (seconds) of each video\n",
    "    hours_recorded = (seconds/60.0/60.0)\n",
    "    days = (dates_of_videos[-1][0]-dates_of_videos[0][0]).total_seconds()/60/60/24\n",
    "    \n",
    "    start_date_str = '<b>Start:</b> '+dates_of_videos[0][0].strftime(\"%Y-%m-%d %H:%M:%S\")+'<br/>'\n",
    "    end_date_str = '<b>End:</b> '+dates_of_videos[-1][0].strftime(\"%Y-%m-%d %H:%M:%S\")+'<br/><br/>'\n",
    "    hours_recorded_str = \"(~ %.2f hours recorded \"%hours_recorded\n",
    "    days_str=\"during ~%.2f days)\"%days\n",
    "    return \"%s\\n%s\\n%s%s\" % (start_date_str, end_date_str, hours_recorded_str, days_str), hours_recorded, len(videos), days"
   ]
  },
  {
   "cell_type": "code",
   "execution_count": 26,
   "metadata": {
    "collapsed": true,
    "run_control": {
     "frozen": false,
     "read_only": false
    }
   },
   "outputs": [],
   "source": [
    "table_rows = []\n",
    "titles = [\"Group\",\n",
    "          \"Dates\",\n",
    "          \"Short Description\", \n",
    "          \"Thermix recording configuration\", \n",
    "          \"Qualitative examples of FCN\"\n",
    "         ]\n",
    "table_rows.append(titles)"
   ]
  },
  {
   "cell_type": "code",
   "execution_count": 27,
   "metadata": {
    "collapsed": false,
    "run_control": {
     "frozen": false,
     "read_only": false
    }
   },
   "outputs": [],
   "source": [
    "import os\n",
    "\n",
    "dataset_list = [folder.split(\"_frames_no_movement\")[0] for folder in os.listdir(root_dir) if folder.endswith(\"_frames_no_movement\")]\n",
    "total_hours = 0\n",
    "total_days = 0\n",
    "total_clips_count = 0\n",
    "for dataset_name in datasets_info.keys():\n",
    "    patient_row = []\n",
    "    \n",
    "    #dataset_name = Anne_006\n",
    "    #patient_name = Anne\n",
    "    patient_name = dataset_name[:-4]\n",
    "    \n",
    "    #Senior (*): Anne\n",
    "    #            Anne_006\n",
    "    patient_row.append(\"<b>%s</b><br/>(%s)\" % (dataset_name, patient_name))\n",
    "    \n",
    "    if dataset_name in dataset_list:\n",
    "        #Dates: Start: 2016-08-03 20:20:34\n",
    "        #       End: 2016-08-05 16:42:02\n",
    "        #       (~ 9.08 hours recorded)\n",
    "        rc_duration = recording_configuration_durations[datasets_info[dataset_name][\"rc\"]]\n",
    "        gd = get_dates_str_for_dataset(root_dir, dataset_name, rc_duration)\n",
    "        patient_row.append(gd[0])\n",
    "        total_hours = total_hours + gd[1]\n",
    "        total_days += gd[3]\n",
    "        total_clips_count += gd[2]\n",
    "        datasets_info[dataset_name][\"hours\"] = gd[1]\n",
    "        datasets_info[dataset_name][\"count\"] = gd[2]\n",
    "        datasets_info[dataset_name][\"days\"] = gd[3]\n",
    "        \n",
    "    else:\n",
    "        patient_row.append('')\n",
    "        \n",
    "    #Short Description: Camera distance to full bed ~1.5m, ~1.8m height.\n",
    "    patient_row.append('%s'%datasets_info[dataset_name][\"sd\"])\n",
    "    \n",
    "    #Thermix recording configuration (**): RC7\n",
    "    #                                      iPhone 5s + Dongle\n",
    "    string_rc = \"\"\n",
    "    for key in datasets_info[dataset_name][\"rcd\"].keys():\n",
    "        string_rc = string_rc+\"<b>%s: </b>%s, \" %(key, datasets_info[dataset_name][\"rcd\"][key])\n",
    "    string_rc = string_rc+\"<br/><b>Device: </b>%s\" %(datasets_info[dataset_name][\"du\"])\n",
    "    patient_row.append(string_rc)\n",
    "    #patient_row.append(\"<b>%s</b><br/>%s\" % (datasets_info[dataset_name][\"rc\"], datasets_info[dataset_name][\"du\"]))\n",
    "    \n",
    "    #Qualitative examples of FCN: Day1\n",
    "    examples = \"\"\n",
    "    for link_name in sorted(datasets_info[dataset_name][\"lns\"].keys()):\n",
    "        examples += '<a href=\"%s\">%s</a><br/>' % (datasets_info[dataset_name][\"lns\"][link_name], link_name)\n",
    "    patient_row.append(examples)\n",
    "    \n",
    "    table_rows.append(patient_row)"
   ]
  },
  {
   "cell_type": "code",
   "execution_count": 28,
   "metadata": {
    "collapsed": false,
    "run_control": {
     "frozen": false,
     "read_only": false
    }
   },
   "outputs": [
    {
     "name": "stdout",
     "output_type": "stream",
     "text": [
      "html table code ready\n",
      "119.81\n",
      "14.9263425926\n",
      "50574\n",
      "code updated\n"
     ]
    },
    {
     "data": {
      "text/plain": [
       "0"
      ]
     },
     "execution_count": 28,
     "metadata": {},
     "output_type": "execute_result"
    }
   ],
   "source": [
    "import HTML\n",
    "import os\n",
    "from math import fabs\n",
    "\n",
    "# filename\n",
    "f_path = '../research/autogen_data.html'\n",
    "\n",
    "#### CREATE HTML CODE\n",
    "data_table = table_rows[1:]\n",
    "#sort data by start date\n",
    "data_table = sorted(data_table, key=lambda x:x[1] if len(x[1]) > 0 else \"zzzzz\")\n",
    "\n",
    "head_table = table_rows[0]\n",
    "html_table = HTML.table(data_table, header_row=head_table, \n",
    "                        col_width=['10%', '20%', '30%', '20%', '10%'],\n",
    "                        col_styles=['font-size: small','font-size: small','font-size: small','font-size: small','font-size: small'])\n",
    "print 'html table code ready'\n",
    "\n",
    "#### UPDATE PREVIOUS HTML\n",
    "# remove previous version of file\n",
    "try:\n",
    "    os.remove(f_path)\n",
    "except OSError:\n",
    "    pass\n",
    "\n",
    "# create new version of file\n",
    "f = open(f_path, 'w')\n",
    "print total_hours\n",
    "print total_days\n",
    "print total_clips_count\n",
    "f.write(html_table+'<br/><p>total number of clips: %d</p><p>total days recorded: ~%d</p><p>total hours of clips: ~%d hs</p>'%(total_clips_count, fabs(total_days), fabs(total_hours)))\n",
    "f.close()\n",
    "print 'code updated'\n",
    "\n",
    "os.system('cd ../research && git add -A && git commit -m \"update table\" && cd ../ARTraining')"
   ]
  },
  {
   "cell_type": "code",
   "execution_count": 29,
   "metadata": {
    "collapsed": false,
    "run_control": {
     "frozen": false,
     "read_only": false
    }
   },
   "outputs": [],
   "source": [
    "import plotly.plotly as py\n",
    "import plotly.graph_objs as go"
   ]
  },
  {
   "cell_type": "code",
   "execution_count": 30,
   "metadata": {
    "collapsed": false,
    "run_control": {
     "frozen": false,
     "read_only": false
    }
   },
   "outputs": [
    {
     "name": "stderr",
     "output_type": "stream",
     "text": [
      "/usr/local/lib/python2.7/dist-packages/requests/packages/urllib3/util/ssl_.py:122: InsecurePlatformWarning:\n",
      "\n",
      "A true SSLContext object is not available. This prevents urllib3 from configuring SSL appropriately and may cause certain SSL connections to fail. You can upgrade to a newer version of Python to solve this. For more information, see https://urllib3.readthedocs.org/en/latest/security.html#insecureplatformwarning.\n",
      "\n"
     ]
    },
    {
     "data": {
      "text/html": [
       "<iframe id=\"igraph\" scrolling=\"no\" style=\"border:none;\" seamless=\"seamless\" src=\"https://plot.ly/~pusiol/643.embed\" height=\"525px\" width=\"100%\"></iframe>"
      ],
      "text/plain": [
       "<plotly.tools.PlotlyDisplay object>"
      ]
     },
     "execution_count": 30,
     "metadata": {},
     "output_type": "execute_result"
    }
   ],
   "source": [
    "# days per gender\n",
    "days_per_gender = {patient[\"gender\"]:0 for patient in patients_info.values()}\n",
    "for dataset_name in datasets_info.keys():\n",
    "    days = datasets_info[dataset_name].get(\"days\", 0)\n",
    "    days_per_gender[patients_info[dataset_name[:-4]][\"gender\"]] +=days\n",
    "\n",
    "trace=go.Pie(labels=days_per_gender.keys(),values=days_per_gender.values())\n",
    "\n",
    "fig = {\n",
    "    'data': [{'labels': days_per_gender.keys(),\n",
    "              'values': [round(x) for x in days_per_gender.values()],\n",
    "              'text': [(\"%d\"%round(x)) for x in days_per_gender.values()],\n",
    "              'type': 'pie',\n",
    "              \"hoverinfo\":\"label+text\",\n",
    "              \"textinfo\":\"text\"}],\n",
    "    'layout': {'title': 'Recorded days per elder\\'s gender'}\n",
    "} \n",
    "\n",
    "py.iplot(fig, filename=\"thermset/days_per_gender\")"
   ]
  },
  {
   "cell_type": "code",
   "execution_count": 31,
   "metadata": {
    "collapsed": false,
    "run_control": {
     "frozen": false,
     "read_only": false
    }
   },
   "outputs": [
    {
     "name": "stderr",
     "output_type": "stream",
     "text": [
      "/usr/local/lib/python2.7/dist-packages/requests/packages/urllib3/util/ssl_.py:122: InsecurePlatformWarning:\n",
      "\n",
      "A true SSLContext object is not available. This prevents urllib3 from configuring SSL appropriately and may cause certain SSL connections to fail. You can upgrade to a newer version of Python to solve this. For more information, see https://urllib3.readthedocs.org/en/latest/security.html#insecureplatformwarning.\n",
      "\n"
     ]
    },
    {
     "data": {
      "text/html": [
       "<iframe id=\"igraph\" scrolling=\"no\" style=\"border:none;\" seamless=\"seamless\" src=\"https://plot.ly/~pusiol/410.embed\" height=\"525px\" width=\"100%\"></iframe>"
      ],
      "text/plain": [
       "<plotly.tools.PlotlyDisplay object>"
      ]
     },
     "execution_count": 31,
     "metadata": {},
     "output_type": "execute_result"
    }
   ],
   "source": [
    "# hours per gender\n",
    "hours_per_gender = {patient[\"gender\"]:0 for patient in patients_info.values()}\n",
    "for dataset_name in datasets_info.keys():\n",
    "    hours = datasets_info[dataset_name].get(\"hours\", 0)\n",
    "    hours_per_gender[patients_info[dataset_name[:-4]][\"gender\"]] +=hours\n",
    "\n",
    "trace=go.Pie(labels=hours_per_gender.keys(),values=hours_per_gender.values())\n",
    "\n",
    "fig = {\n",
    "    'data': [{'labels': hours_per_gender.keys(),\n",
    "              'values': [round(x) for x in hours_per_gender.values()],\n",
    "              'text': [(\"%d hs\"%round(x)) for x in hours_per_gender.values()],\n",
    "              'type': 'pie',\n",
    "              \"hoverinfo\":\"label+text\",\n",
    "              \"textinfo\":\"text\"}],\n",
    "    'layout': {'title': 'Hours of recordings by elder\\'s gender'}\n",
    "} \n",
    "\n",
    "py.iplot(fig, filename=\"thermset/hours_per_gender\")"
   ]
  },
  {
   "cell_type": "code",
   "execution_count": 32,
   "metadata": {
    "collapsed": false,
    "run_control": {
     "frozen": false,
     "read_only": false
    }
   },
   "outputs": [
    {
     "name": "stderr",
     "output_type": "stream",
     "text": [
      "/usr/local/lib/python2.7/dist-packages/requests/packages/urllib3/util/ssl_.py:122: InsecurePlatformWarning:\n",
      "\n",
      "A true SSLContext object is not available. This prevents urllib3 from configuring SSL appropriately and may cause certain SSL connections to fail. You can upgrade to a newer version of Python to solve this. For more information, see https://urllib3.readthedocs.org/en/latest/security.html#insecureplatformwarning.\n",
      "\n"
     ]
    },
    {
     "data": {
      "text/html": [
       "<iframe id=\"igraph\" scrolling=\"no\" style=\"border:none;\" seamless=\"seamless\" src=\"https://plot.ly/~pusiol/645.embed\" height=\"525px\" width=\"100%\"></iframe>"
      ],
      "text/plain": [
       "<plotly.tools.PlotlyDisplay object>"
      ]
     },
     "execution_count": 32,
     "metadata": {},
     "output_type": "execute_result"
    }
   ],
   "source": [
    "# days per age\n",
    "days_per_age = {patient[\"age\"]:0 for patient in patients_info.values()}\n",
    "for dataset_name in datasets_info.keys():\n",
    "    days = datasets_info[dataset_name].get(\"days\", 0)\n",
    "    days_per_age[patients_info[dataset_name[:-4]][\"age\"]] +=days\n",
    "    \n",
    "trace=go.Pie(labels=days_per_age.keys(),values=days_per_age.values())\n",
    "fig = {\n",
    "    'data': [{'labels': days_per_age.keys(),\n",
    "              'values': days_per_age.values(),\n",
    "              'text': [(\"%d\"%round(x)) for x in days_per_age.values()],\n",
    "              'type': 'pie',\n",
    "              \"hoverinfo\":\"label+text\",\n",
    "              \"textinfo\":\"text\"}],\n",
    "    'layout': {'title': 'Recorded days per elder\\'s age'}\n",
    "     } \n",
    "\n",
    "py.iplot(fig, filename=\"thermset/days_per_age\")"
   ]
  },
  {
   "cell_type": "code",
   "execution_count": 33,
   "metadata": {
    "collapsed": false,
    "run_control": {
     "frozen": false,
     "read_only": false
    }
   },
   "outputs": [
    {
     "name": "stderr",
     "output_type": "stream",
     "text": [
      "/usr/local/lib/python2.7/dist-packages/requests/packages/urllib3/util/ssl_.py:122: InsecurePlatformWarning:\n",
      "\n",
      "A true SSLContext object is not available. This prevents urllib3 from configuring SSL appropriately and may cause certain SSL connections to fail. You can upgrade to a newer version of Python to solve this. For more information, see https://urllib3.readthedocs.org/en/latest/security.html#insecureplatformwarning.\n",
      "\n"
     ]
    },
    {
     "data": {
      "text/html": [
       "<iframe id=\"igraph\" scrolling=\"no\" style=\"border:none;\" seamless=\"seamless\" src=\"https://plot.ly/~pusiol/412.embed\" height=\"525px\" width=\"100%\"></iframe>"
      ],
      "text/plain": [
       "<plotly.tools.PlotlyDisplay object>"
      ]
     },
     "execution_count": 33,
     "metadata": {},
     "output_type": "execute_result"
    }
   ],
   "source": [
    "# hours per age\n",
    "hours_per_age = {patient[\"age\"]:0 for patient in patients_info.values()}\n",
    "for dataset_name in datasets_info.keys():\n",
    "    hours = datasets_info[dataset_name].get(\"hours\", 0)\n",
    "    hours_per_age[patients_info[dataset_name[:-4]][\"age\"]] +=hours\n",
    "    \n",
    "trace=go.Pie(labels=hours_per_age.keys(),values=hours_per_age.values())\n",
    "fig = {\n",
    "    'data': [{'labels': hours_per_age.keys(),\n",
    "              'values': hours_per_age.values(),\n",
    "              'text': [(\"%d hs\"%round(x)) for x in hours_per_age.values()],\n",
    "              'type': 'pie',\n",
    "              \"hoverinfo\":\"label+text\",\n",
    "              \"textinfo\":\"text\"}],\n",
    "    'layout': {'title': 'Hours of recordings by elder\\'s age'}\n",
    "     } \n",
    "\n",
    "py.iplot(fig, filename=\"thermset/hours_per_age\")"
   ]
  },
  {
   "cell_type": "code",
   "execution_count": 36,
   "metadata": {
    "collapsed": false,
    "run_control": {
     "frozen": false,
     "read_only": false
    }
   },
   "outputs": [
    {
     "name": "stderr",
     "output_type": "stream",
     "text": [
      "/usr/local/lib/python2.7/dist-packages/requests/packages/urllib3/util/ssl_.py:122: InsecurePlatformWarning:\n",
      "\n",
      "A true SSLContext object is not available. This prevents urllib3 from configuring SSL appropriately and may cause certain SSL connections to fail. You can upgrade to a newer version of Python to solve this. For more information, see https://urllib3.readthedocs.org/en/latest/security.html#insecureplatformwarning.\n",
      "\n"
     ]
    },
    {
     "data": {
      "text/html": [
       "<iframe id=\"igraph\" scrolling=\"no\" style=\"border:none;\" seamless=\"seamless\" src=\"https://plot.ly/~pusiol/416.embed\" height=\"525px\" width=\"100%\"></iframe>"
      ],
      "text/plain": [
       "<plotly.tools.PlotlyDisplay object>"
      ]
     },
     "execution_count": 36,
     "metadata": {},
     "output_type": "execute_result"
    }
   ],
   "source": [
    "# count of videos per duration\n",
    "count_per_duration = {str(duration)+\"s\":0 for duration in recording_configuration_durations.values()}\n",
    "for dataset_name in datasets_info.keys():\n",
    "    rc_duration = recording_configuration_durations[datasets_info[dataset_name][\"rc\"]]\n",
    "    count = datasets_info[dataset_name].get(\"count\", 0) * rc_duration\n",
    "    count_per_duration[str(rc_duration)+\"s\"] +=count\n",
    "    \n",
    "fig = {\n",
    "    'data': [{'labels': count_per_duration.keys(),\n",
    "              'values': count_per_duration.values(),\n",
    "              'text': [(round(x)) for x in count_per_duration.values()],\n",
    "              'type': 'pie',\n",
    "              \"hoverinfo\":\"label+text\",\n",
    "              \"textinfo\":\"text\"}],\n",
    "    'layout': {'title': 'Video count by duration'}\n",
    "     }    \n",
    "\n",
    "py.iplot(fig, filename=\"thermset/count_per_duration\")"
   ]
  },
  {
   "cell_type": "code",
   "execution_count": 37,
   "metadata": {
    "collapsed": false,
    "run_control": {
     "frozen": false,
     "read_only": false
    }
   },
   "outputs": [
    {
     "name": "stderr",
     "output_type": "stream",
     "text": [
      "/usr/local/lib/python2.7/dist-packages/requests/packages/urllib3/util/ssl_.py:122: InsecurePlatformWarning:\n",
      "\n",
      "A true SSLContext object is not available. This prevents urllib3 from configuring SSL appropriately and may cause certain SSL connections to fail. You can upgrade to a newer version of Python to solve this. For more information, see https://urllib3.readthedocs.org/en/latest/security.html#insecureplatformwarning.\n",
      "\n"
     ]
    },
    {
     "data": {
      "text/html": [
       "<iframe id=\"igraph\" scrolling=\"no\" style=\"border:none;\" seamless=\"seamless\" src=\"https://plot.ly/~pusiol/647.embed\" height=\"525px\" width=\"100%\"></iframe>"
      ],
      "text/plain": [
       "<plotly.tools.PlotlyDisplay object>"
      ]
     },
     "execution_count": 37,
     "metadata": {},
     "output_type": "execute_result"
    }
   ],
   "source": [
    "# days per senior\n",
    "days_per_senior = {patient:0 for patient in patients_info.keys()}\n",
    "for dataset_name in datasets_info.keys():\n",
    "    days = datasets_info[dataset_name].get(\"days\", 0)\n",
    "    days_per_senior[dataset_name[:-4]] +=days\n",
    "    \n",
    "trace=go.Pie(labels=days_per_senior.keys(),values=days_per_senior.values())\n",
    "fig = {\n",
    "    'data': [{'labels': days_per_senior.keys(),\n",
    "              'values': days_per_senior.values(),\n",
    "              'text': [(\"%d\"%round(x)) for x in days_per_senior.values()],\n",
    "              'type': 'pie',\n",
    "              \"hoverinfo\":\"label+text\",\n",
    "              \"textinfo\":\"text\"}],\n",
    "    'layout': {'title': 'Recorded days per elder'}\n",
    "     } \n",
    "\n",
    "py.iplot(fig, filename=\"thermset/days_per_senior\")"
   ]
  },
  {
   "cell_type": "code",
   "execution_count": 38,
   "metadata": {
    "collapsed": false,
    "run_control": {
     "frozen": false,
     "read_only": false
    }
   },
   "outputs": [
    {
     "name": "stderr",
     "output_type": "stream",
     "text": [
      "/usr/local/lib/python2.7/dist-packages/requests/packages/urllib3/util/ssl_.py:122: InsecurePlatformWarning:\n",
      "\n",
      "A true SSLContext object is not available. This prevents urllib3 from configuring SSL appropriately and may cause certain SSL connections to fail. You can upgrade to a newer version of Python to solve this. For more information, see https://urllib3.readthedocs.org/en/latest/security.html#insecureplatformwarning.\n",
      "\n"
     ]
    },
    {
     "data": {
      "text/html": [
       "<iframe id=\"igraph\" scrolling=\"no\" style=\"border:none;\" seamless=\"seamless\" src=\"https://plot.ly/~pusiol/418.embed\" height=\"525px\" width=\"100%\"></iframe>"
      ],
      "text/plain": [
       "<plotly.tools.PlotlyDisplay object>"
      ]
     },
     "execution_count": 38,
     "metadata": {},
     "output_type": "execute_result"
    }
   ],
   "source": [
    "# hours per senior\n",
    "hours_per_senior = {patient:0 for patient in patients_info.keys()}\n",
    "for dataset_name in datasets_info.keys():\n",
    "    hours = datasets_info[dataset_name].get(\"hours\", 0)\n",
    "    hours_per_senior[dataset_name[:-4]] +=hours\n",
    "    \n",
    "trace=go.Pie(labels=hours_per_senior.keys(),values=hours_per_senior.values())\n",
    "fig = {\n",
    "    'data': [{'labels': hours_per_senior.keys(),\n",
    "              'values': hours_per_senior.values(),\n",
    "              'text': [(\"%d hs\"%round(x)) for x in hours_per_senior.values()],\n",
    "              'type': 'pie',\n",
    "              \"hoverinfo\":\"label+text\",\n",
    "              \"textinfo\":\"text\"}],\n",
    "    'layout': {'title': 'Hours of recordings by elder'}\n",
    "     } \n",
    "\n",
    "py.iplot(fig, filename=\"thermset/hours_per_senior\")"
   ]
  },
  {
   "cell_type": "code",
   "execution_count": 16,
   "metadata": {
    "collapsed": false,
    "run_control": {
     "frozen": false,
     "read_only": false
    },
    "scrolled": true
   },
   "outputs": [
    {
     "ename": "KeyboardInterrupt",
     "evalue": "",
     "output_type": "error",
     "traceback": [
      "\u001b[1;31m\u001b[0m",
      "\u001b[1;31mKeyboardInterrupt\u001b[0mTraceback (most recent call last)",
      "\u001b[1;32m<ipython-input-16-06524e8e8b6b>\u001b[0m in \u001b[0;36m<module>\u001b[1;34m()\u001b[0m\n\u001b[0;32m     21\u001b[0m     \u001b[1;32mfor\u001b[0m \u001b[0mvideo_path\u001b[0m \u001b[1;32min\u001b[0m \u001b[1;33m[\u001b[0m\u001b[0mos\u001b[0m\u001b[1;33m.\u001b[0m\u001b[0mpath\u001b[0m\u001b[1;33m.\u001b[0m\u001b[0mjoin\u001b[0m\u001b[1;33m(\u001b[0m\u001b[0mgroup_path\u001b[0m\u001b[1;33m,\u001b[0m \u001b[1;34m\"14_tim\"\u001b[0m\u001b[1;33m,\u001b[0m\u001b[1;34m\"3\"\u001b[0m\u001b[1;33m,\u001b[0m \u001b[0md\u001b[0m\u001b[1;33m)\u001b[0m \u001b[1;32mfor\u001b[0m \u001b[0md\u001b[0m \u001b[1;32min\u001b[0m \u001b[0mos\u001b[0m\u001b[1;33m.\u001b[0m\u001b[0mlistdir\u001b[0m\u001b[1;33m(\u001b[0m\u001b[0mos\u001b[0m\u001b[1;33m.\u001b[0m\u001b[0mpath\u001b[0m\u001b[1;33m.\u001b[0m\u001b[0mjoin\u001b[0m\u001b[1;33m(\u001b[0m\u001b[0mgroup_path\u001b[0m\u001b[1;33m,\u001b[0m \u001b[1;34m\"14_tim\"\u001b[0m\u001b[1;33m,\u001b[0m\u001b[1;34m\"3\"\u001b[0m\u001b[1;33m)\u001b[0m\u001b[1;33m)\u001b[0m\u001b[1;33m[\u001b[0m\u001b[1;33m:\u001b[0m\u001b[1;36m10000\u001b[0m\u001b[1;33m]\u001b[0m\u001b[1;33m]\u001b[0m\u001b[1;33m:\u001b[0m\u001b[1;33m\u001b[0m\u001b[0m\n\u001b[0;32m     22\u001b[0m         \u001b[1;32mif\u001b[0m \u001b[1;34m\"golden5s\"\u001b[0m \u001b[1;32min\u001b[0m \u001b[0mvideo_path\u001b[0m\u001b[1;33m:\u001b[0m\u001b[1;33m\u001b[0m\u001b[0m\n\u001b[1;32m---> 23\u001b[1;33m             \u001b[0ml\u001b[0m \u001b[1;33m=\u001b[0m \u001b[0mlen\u001b[0m\u001b[1;33m(\u001b[0m\u001b[0mos\u001b[0m\u001b[1;33m.\u001b[0m\u001b[0mlistdir\u001b[0m\u001b[1;33m(\u001b[0m\u001b[0mvideo_path\u001b[0m\u001b[1;33m)\u001b[0m\u001b[1;33m)\u001b[0m\u001b[1;33m\u001b[0m\u001b[0m\n\u001b[0m\u001b[0;32m     24\u001b[0m             \u001b[0mframes\u001b[0m\u001b[1;33m[\u001b[0m\u001b[1;36m0\u001b[0m\u001b[1;33m]\u001b[0m \u001b[1;33m+=\u001b[0m \u001b[0ml\u001b[0m\u001b[1;33m\u001b[0m\u001b[0m\n\u001b[0;32m     25\u001b[0m             \u001b[0mdurations\u001b[0m\u001b[1;33m[\u001b[0m\u001b[1;36m0\u001b[0m\u001b[1;33m]\u001b[0m \u001b[1;33m+=\u001b[0m \u001b[0mrc_duration\u001b[0m\u001b[1;33m\u001b[0m\u001b[0m\n",
      "\u001b[1;31mKeyboardInterrupt\u001b[0m: "
     ]
    }
   ],
   "source": [
    "#get fps per device\n",
    "import os\n",
    "import collections\n",
    "\n",
    "path = \"../ARThermal/frames_no_movement\"\n",
    "frames = [0,0,0]\n",
    "durations = [0,0,0]\n",
    "count = [0,0,0]\n",
    "fpss = [0.0,0.0,0.0]\n",
    "fpss_set = [[],[],[]]\n",
    "\n",
    "devices = [\"golden5\", \"black5\", \"ipod5\"]\n",
    "for group_path in [os.path.join(path, d) for d in os.listdir(path)]:\n",
    "    dataset_name =os.path.basename(group_path)[:-len(\"_frames_no_movement\")]\n",
    "    if not datasets_info.get(dataset_name):\n",
    "        #print \"Avoided:\",dataset_name\n",
    "        continue\n",
    "    \n",
    "    rc_duration = recording_configuration_durations[datasets_info[dataset_name][\"rc\"]]\n",
    "    #print dataset_name\n",
    "    for video_path in [os.path.join(group_path, \"14_tim\",\"3\", d) for d in os.listdir(os.path.join(group_path, \"14_tim\",\"3\"))[:10000]]:\n",
    "        if \"golden5s\" in video_path:\n",
    "            l = len(os.listdir(video_path))\n",
    "            frames[0] += l\n",
    "            durations[0] += rc_duration\n",
    "            fpss[0] = max(fpss[0],float(l)/float(rc_duration))\n",
    "            fpss_set[0].append(round(float(l)/float(rc_duration)))\n",
    "            count[0] += 1\n",
    "        elif \"black5\" in video_path:\n",
    "            l = len(os.listdir(video_path))\n",
    "            frames[1] += l\n",
    "            durations[1] += rc_duration\n",
    "            fpss[1] = max(fpss[1],float(l)/float(rc_duration))\n",
    "            fpss_set[1].append(round(float(l)/float(rc_duration)))\n",
    "            count[1] += 1\n",
    "        elif \"ipod5\" in video_path:\n",
    "            l = len(os.listdir(video_path))\n",
    "            frames[2] += l\n",
    "            durations[2] += rc_duration\n",
    "            fpss[2] = max(fpss[2],float(l)/float(rc_duration))\n",
    "            fpss_set[2].append(round(float(l)/float(rc_duration)))\n",
    "            count[2] += 1\n",
    "\n",
    "#print frames, durations, fps, count\n",
    "#print [frames[i]/videos[i] for i in range(3)]\n",
    "print [\"%s: ~%d fps\"%(devices[i],fpss[i]) for i in range(3)]\n",
    "print [\"%s: ~%s fps\"%(devices[i],collections.Counter(fpss_set[i]).most_common(7)) for i in range(3)]"
   ]
  },
  {
   "cell_type": "code",
   "execution_count": 39,
   "metadata": {
    "collapsed": false,
    "run_control": {
     "frozen": false,
     "read_only": false
    }
   },
   "outputs": [],
   "source": [
    "def get_dates_for_group(root_dir, dataset_name):\n",
    "    dataset_dir= os.path.join(root_dir, dataset_name + \"_frames_no_movement\")\n",
    "    tim= \"14_tim\"\n",
    "    category = \"3\"\n",
    "\n",
    "    input_dir = os.path.join(dataset_dir, tim, category)\n",
    "    videos = os.listdir(input_dir)\n",
    "\n",
    "    dates_of_videos = get_sorted_dates_of_videos(videos)\n",
    "\n",
    "    start_date_str = dates_of_videos[0][0].strftime(\"%Y-%m-%d %H:%M:%S\")\n",
    "    end_date_str = dates_of_videos[-1][0].strftime(\"%Y-%m-%d %H:%M:%S\")\n",
    "\n",
    "    return (start_date_str, end_date_str)\n",
    "\n",
    "timeline_dates = {}\n",
    "groups_count = {}\n",
    "for group in datasets_info.keys():\n",
    "    person = group.split('_')[0]\n",
    "    if not person in timeline_dates.keys():\n",
    "        timeline_dates[person] = []\n",
    "        groups_count[person] = 0\n",
    "    timeline_dates[person].append(get_dates_for_group(root_dir, group)[0])\n",
    "    timeline_dates[person].append(get_dates_for_group(root_dir, group)[1])\n",
    "    timeline_dates[person].append(None)\n",
    "    groups_count[person] = groups_count[person] + 1"
   ]
  },
  {
   "cell_type": "code",
   "execution_count": 40,
   "metadata": {
    "collapsed": false,
    "run_control": {
     "frozen": false,
     "read_only": false
    }
   },
   "outputs": [
    {
     "name": "stderr",
     "output_type": "stream",
     "text": [
      "/usr/local/lib/python2.7/dist-packages/requests/packages/urllib3/util/ssl_.py:122: InsecurePlatformWarning:\n",
      "\n",
      "A true SSLContext object is not available. This prevents urllib3 from configuring SSL appropriately and may cause certain SSL connections to fail. You can upgrade to a newer version of Python to solve this. For more information, see https://urllib3.readthedocs.org/en/latest/security.html#insecureplatformwarning.\n",
      "\n"
     ]
    },
    {
     "data": {
      "text/html": [
       "<iframe id=\"igraph\" scrolling=\"no\" style=\"border:none;\" seamless=\"seamless\" src=\"https://plot.ly/~pusiol/641.embed\" height=\"525px\" width=\"100%\"></iframe>"
      ],
      "text/plain": [
       "<plotly.tools.PlotlyDisplay object>"
      ]
     },
     "execution_count": 40,
     "metadata": {},
     "output_type": "execute_result"
    }
   ],
   "source": [
    "import plotly.plotly as py\n",
    "import plotly.graph_objs as go\n",
    "\n",
    "data = []\n",
    "for person in timeline_dates.keys():\n",
    "    trace_p = go.Scatter(\n",
    "        x = timeline_dates[person],\n",
    "        y = [person for x in timeline_dates[person]],\n",
    "        name = '%s (%d groups)' %(person, groups_count[person])\n",
    "    )\n",
    "    \n",
    "    data.append(trace_p)\n",
    "\n",
    "    fig = dict(data=data)\n",
    "    \n",
    "py.iplot(fig, filename='thermset/recording_timeline')\n"
   ]
  },
  {
   "cell_type": "code",
   "execution_count": 41,
   "metadata": {
    "collapsed": false,
    "run_control": {
     "frozen": false,
     "read_only": false
    }
   },
   "outputs": [],
   "source": [
    "import datetime\n",
    "from datetime import datetime, timedelta\n",
    "\n",
    "def get_intervals_for_group(root_dir, dataset_name):\n",
    "    dataset_dir= os.path.join(root_dir, dataset_name + \"_frames_no_movement\")\n",
    "    tim= \"14_tim\"\n",
    "    category = \"3\"\n",
    "\n",
    "    input_dir = os.path.join(dataset_dir, tim, category)\n",
    "    videos = os.listdir(input_dir)\n",
    "    \n",
    "    dates_of_videos = get_sorted_dates_of_videos(videos)\n",
    "\n",
    "    for i, d1 in enumerate(dates_of_videos):\n",
    "        if i == 0:\n",
    "            ret_vals = [str_date(dates_of_videos[0][0])]\n",
    "            \n",
    "        if i == len(dates_of_videos) - 1:\n",
    "            ret_vals.append(str_date(dates_of_videos[-1][0]))\n",
    "            break\n",
    "        \n",
    "        d2 = dates_of_videos[i+1]\n",
    "        if d2[0] > d1[0] + timedelta(minutes=5):\n",
    "            ret_vals.extend([str_date(d1[0]), None, str_date(d2[0])])\n",
    "    return ret_vals\n",
    "\n",
    "def str_date(date):\n",
    "    return date.strftime(\"%Y-%m-%d %H:%M:%S\")\n",
    "\n",
    "timeline_dates = {}\n",
    "for group in datasets_info.keys():\n",
    "    person = group.split('_')[0]\n",
    "    if not person in timeline_dates.keys():\n",
    "        timeline_dates[person] = []\n",
    "    timeline_dates[person].extend(get_intervals_for_group(root_dir, group))\n",
    "    timeline_dates[person].extend([None])\n",
    "    #timeline_dates[person].append(get_intervals_for_group(root_dir, group)[0])\n",
    "    #timeline_dates[person].append(get_intervals_for_group(root_dir, group)[1])\n",
    "    #timeline_dates[person].append(None)\n",
    "    #groups_count[person] = groups_count[person] + 1"
   ]
  },
  {
   "cell_type": "code",
   "execution_count": 42,
   "metadata": {
    "collapsed": false,
    "run_control": {
     "frozen": false,
     "read_only": false
    }
   },
   "outputs": [
    {
     "data": {
      "text/plain": [
       "{'Fiona': ['2016-07-08 17:19:49', '2016-07-11 08:51:21', None],\n",
       " 'Marge': ['2016-09-22 17:26:36',\n",
       "  '2016-09-22 23:20:13',\n",
       "  None,\n",
       "  '2016-09-12 09:59:23',\n",
       "  '2016-09-12 23:52:27',\n",
       "  None,\n",
       "  '2016-09-19 12:39:17',\n",
       "  '2016-09-19 12:39:17',\n",
       "  None,\n",
       "  '2016-09-19 12:45:31',\n",
       "  '2016-09-19 12:45:31',\n",
       "  None,\n",
       "  '2016-09-19 13:01:34',\n",
       "  '2016-09-22 03:09:05',\n",
       "  None,\n",
       "  '2016-09-22 06:04:02',\n",
       "  '2016-09-22 17:12:16',\n",
       "  None,\n",
       "  '2016-08-01 19:26:00',\n",
       "  '2016-08-02 10:31:21',\n",
       "  None,\n",
       "  '2016-08-02 10:38:35',\n",
       "  '2016-08-02 10:46:00',\n",
       "  None,\n",
       "  '2016-08-02 12:56:47',\n",
       "  '2016-08-02 16:31:55',\n",
       "  None,\n",
       "  '2016-08-02 16:38:07',\n",
       "  '2016-08-02 17:16:31',\n",
       "  None,\n",
       "  '2016-08-02 17:42:52',\n",
       "  '2016-08-02 18:36:11',\n",
       "  None,\n",
       "  '2016-08-02 18:46:51',\n",
       "  '2016-08-03 11:37:10',\n",
       "  None,\n",
       "  '2016-08-03 11:49:42',\n",
       "  '2016-08-03 15:40:25',\n",
       "  None,\n",
       "  '2016-08-03 15:48:21',\n",
       "  '2016-08-03 18:08:38',\n",
       "  None,\n",
       "  '2016-08-03 20:11:58',\n",
       "  '2016-08-03 20:17:59',\n",
       "  None,\n",
       "  '2016-08-03 20:20:40',\n",
       "  '2016-08-05 09:12:01',\n",
       "  None,\n",
       "  '2016-08-05 09:20:56',\n",
       "  '2016-08-05 16:49:05',\n",
       "  None,\n",
       "  '2016-07-26 09:43:08',\n",
       "  '2016-07-26 12:51:01',\n",
       "  None,\n",
       "  '2016-07-26 13:05:18',\n",
       "  '2016-07-26 14:45:53',\n",
       "  None,\n",
       "  '2016-07-26 14:55:14',\n",
       "  '2016-07-26 17:08:42',\n",
       "  None,\n",
       "  '2016-07-26 17:21:42',\n",
       "  '2016-07-26 17:35:35',\n",
       "  None,\n",
       "  '2016-07-26 17:43:04',\n",
       "  '2016-07-26 18:04:43',\n",
       "  None,\n",
       "  '2016-07-26 18:31:35',\n",
       "  '2016-07-26 19:39:27',\n",
       "  None,\n",
       "  '2016-07-26 19:44:56',\n",
       "  '2016-07-26 20:15:54',\n",
       "  None,\n",
       "  '2016-07-26 20:21:25',\n",
       "  '2016-07-26 21:40:13',\n",
       "  None,\n",
       "  '2016-07-26 21:47:25',\n",
       "  '2016-07-26 23:55:11',\n",
       "  None,\n",
       "  '2016-07-27 00:12:36',\n",
       "  '2016-07-27 04:31:37',\n",
       "  None,\n",
       "  '2016-07-27 04:37:55',\n",
       "  '2016-07-27 16:21:34',\n",
       "  None,\n",
       "  '2016-07-27 16:27:52',\n",
       "  '2016-07-27 18:06:31',\n",
       "  None,\n",
       "  '2016-07-27 18:12:44',\n",
       "  '2016-07-27 22:09:31',\n",
       "  None,\n",
       "  '2016-07-27 22:17:52',\n",
       "  '2016-07-27 22:24:51',\n",
       "  None,\n",
       "  '2016-07-27 22:32:13',\n",
       "  '2016-07-27 22:58:43',\n",
       "  None,\n",
       "  '2016-07-27 23:11:03',\n",
       "  '2016-07-27 23:21:15',\n",
       "  None,\n",
       "  '2016-07-27 23:35:09',\n",
       "  '2016-07-28 05:02:04',\n",
       "  None,\n",
       "  '2016-07-28 05:09:16',\n",
       "  '2016-07-28 05:10:53',\n",
       "  None,\n",
       "  '2016-07-28 05:16:26',\n",
       "  '2016-07-28 05:18:59',\n",
       "  None,\n",
       "  '2016-07-28 05:25:51',\n",
       "  '2016-07-28 06:09:22',\n",
       "  None,\n",
       "  '2016-07-28 06:14:49',\n",
       "  '2016-07-28 06:23:10',\n",
       "  None,\n",
       "  '2016-07-28 06:28:29',\n",
       "  '2016-07-28 07:20:17',\n",
       "  None,\n",
       "  '2016-07-28 07:32:29',\n",
       "  '2016-07-28 20:17:31',\n",
       "  None],\n",
       " 'Peter': ['2016-07-09 10:50:42', '2016-07-11 09:29:19', None]}"
      ]
     },
     "execution_count": 42,
     "metadata": {},
     "output_type": "execute_result"
    }
   ],
   "source": [
    "timeline_dates"
   ]
  },
  {
   "cell_type": "code",
   "execution_count": 43,
   "metadata": {
    "collapsed": false,
    "run_control": {
     "frozen": false,
     "read_only": false
    }
   },
   "outputs": [
    {
     "name": "stderr",
     "output_type": "stream",
     "text": [
      "/usr/local/lib/python2.7/dist-packages/requests/packages/urllib3/util/ssl_.py:122: InsecurePlatformWarning:\n",
      "\n",
      "A true SSLContext object is not available. This prevents urllib3 from configuring SSL appropriately and may cause certain SSL connections to fail. You can upgrade to a newer version of Python to solve this. For more information, see https://urllib3.readthedocs.org/en/latest/security.html#insecureplatformwarning.\n",
      "\n"
     ]
    },
    {
     "data": {
      "text/html": [
       "<iframe id=\"igraph\" scrolling=\"no\" style=\"border:none;\" seamless=\"seamless\" src=\"https://plot.ly/~pusiol/641.embed\" height=\"525px\" width=\"100%\"></iframe>"
      ],
      "text/plain": [
       "<plotly.tools.PlotlyDisplay object>"
      ]
     },
     "execution_count": 43,
     "metadata": {},
     "output_type": "execute_result"
    }
   ],
   "source": [
    "import plotly.plotly as py\n",
    "import plotly.graph_objs as go\n",
    "\n",
    "data = []\n",
    "for person in timeline_dates.keys():\n",
    "    trace_p = go.Scatter(\n",
    "        x = timeline_dates[person],\n",
    "        y = [person for x in timeline_dates[person]],\n",
    "        mode = 'lines',\n",
    "        name = '%s' %(person)\n",
    "    )\n",
    "    \n",
    "    data.append(trace_p)\n",
    "\n",
    "    fig = dict(data=data)\n",
    "    \n",
    "py.iplot(fig, filename='thermset/recording_timeline')\n"
   ]
  },
  {
   "cell_type": "code",
   "execution_count": null,
   "metadata": {
    "collapsed": true,
    "run_control": {
     "frozen": false,
     "read_only": false
    }
   },
   "outputs": [],
   "source": []
  }
 ],
 "metadata": {
  "kernelspec": {
   "display_name": "Python 2",
   "language": "python",
   "name": "python2"
  },
  "language_info": {
   "codemirror_mode": {
    "name": "ipython",
    "version": 2
   },
   "file_extension": ".py",
   "mimetype": "text/x-python",
   "name": "python",
   "nbconvert_exporter": "python",
   "pygments_lexer": "ipython2",
   "version": "2.7.6"
  }
 },
 "nbformat": 4,
 "nbformat_minor": 0
}
