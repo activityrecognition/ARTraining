{
 "cells": [
  {
   "cell_type": "markdown",
   "metadata": {},
   "source": [
    "# Merge box from RGB to thermal image"
   ]
  },
  {
   "cell_type": "code",
   "execution_count": 1,
   "metadata": {
    "collapsed": true
   },
   "outputs": [],
   "source": [
    "def get_transpoled_box(box_rgb, shape_rgb, shape_thermal):\n",
    "    box_thermal = {'x':0, 'y':0, 'w':0, 'h':0}\n",
    "    \n",
    "    x1 = box_rgb['x']\n",
    "    y1 = box_rgb['y']\n",
    "    w1 = box_rgb['w']\n",
    "    h1 = box_rgb['h']\n",
    "    \n",
    "    w_color = shape_rgb['w']\n",
    "    h_color = shape_rgb['h']\n",
    "    \n",
    "    w_thermal = shape_thermal['w']\n",
    "    h_thermal = shape_thermal['h']\n",
    "    \n",
    "    box_thermal['x'] = w_thermal * x1 / w_color\n",
    "    box_thermal['y'] = h_thermal * y1 / h_color\n",
    "    box_thermal['w'] = w_thermal * w1 / w_color\n",
    "    box_thermal['h'] = h_thermal * h1 / h_color\n",
    "    \n",
    "    return box_thermal"
   ]
  },
  {
   "cell_type": "code",
   "execution_count": 2,
   "metadata": {
    "collapsed": false
   },
   "outputs": [],
   "source": [
    "from PIL import Image\n",
    "'''\n",
    "image: image from where to crop boxes from\n",
    "boxes: list of boxes {x,y,w,h} to crop from image\n",
    "returns: list of images\n",
    "'''\n",
    "def crop_image(image, boxes):\n",
    "    images = []\n",
    "    for box in boxes:\n",
    "        images.append(image.crop(box['x'], box['y'], box['x'] + box['w'], box['y'] + box['h']))\n",
    "    return images"
   ]
  },
  {
   "cell_type": "code",
   "execution_count": 3,
   "metadata": {
    "collapsed": true
   },
   "outputs": [],
   "source": [
    "from PIL import Image\n",
    "'''\n",
    "image: image from where to draw boxes to\n",
    "boxes: list of boxes {x,y,w,h} to draw on image\n",
    "result: path where to save the image to\n",
    "'''\n",
    "def draw_box_on_image(image, boxes, result):\n",
    "    dr = ImageDraw.Draw(image)\n",
    "    \n",
    "    for box in boxes:\n",
    "        dr.rectangle(image.box['x'], box['y'], box['x'] + box['w'], box['y'] + box['h'], outline='red')\n",
    "    \n",
    "    image.save(result)"
   ]
  },
  {
   "cell_type": "code",
   "execution_count": null,
   "metadata": {
    "collapsed": true
   },
   "outputs": [],
   "source": [
    "from matplotlib.pyplot import imshow\n",
    "import numpy as np\n",
    "from PIL import Image\n",
    "\n",
    "%matplotlib inline\n",
    "\n",
    "rgb_img = Image.open('data/empire.jpg', 'r')\n",
    "thermal_img = Image.open('data/empire.jpg', 'r')\n",
    "boxes = []\n",
    "\n",
    "imshow(np.asarray(rgb_img))\n",
    "imshow(np.asarray(rgb_img))\n",
    "\n",
    "result_path = \"\"\n",
    "\n",
    "draw_box_on_image(thermal_img, boxes, result_path)\n",
    "imshow(np.asarray(result_path))"
   ]
  }
 ],
 "metadata": {
  "kernelspec": {
   "display_name": "Python 2",
   "language": "python",
   "name": "python2"
  },
  "language_info": {
   "codemirror_mode": {
    "name": "ipython",
    "version": 2
   },
   "file_extension": ".py",
   "mimetype": "text/x-python",
   "name": "python",
   "nbconvert_exporter": "python",
   "pygments_lexer": "ipython2",
   "version": "2.7.6"
  }
 },
 "nbformat": 4,
 "nbformat_minor": 0
}
