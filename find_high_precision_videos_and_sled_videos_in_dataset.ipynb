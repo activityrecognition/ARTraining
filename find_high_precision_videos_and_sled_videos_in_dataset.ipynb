{
 "cells": [
  {
   "cell_type": "code",
   "execution_count": 1,
   "metadata": {
    "collapsed": true
   },
   "outputs": [],
   "source": [
    "import os, sys, shutil\n",
    "from datetime import *\n",
    "from PIL import Image, ImageDraw, ImageFont\n",
    "from operator import itemgetter\n",
    "import numpy as np\n",
    "from os import environ"
   ]
  },
  {
   "cell_type": "code",
   "execution_count": 38,
   "metadata": {
    "collapsed": false
   },
   "outputs": [],
   "source": [
    "dataset_training_path= \"/media/Gui2/thermix/ARTraining/trained_models/thermix_40a/thermix_40a_files.txt\"\n",
    "\n",
    "with open(dataset_training_path, \"r\") as f:\n",
    "    training_lines = f.readlines()\n",
    "\n",
    "training_set = {}\n",
    "for line in training_lines:\n",
    "    category, fil = line.split()\n",
    "    \n",
    "    if training_set.get(category):\n",
    "        training_set[category].append(fil)\n",
    "    else:\n",
    "        training_set[category] = [fil]"
   ]
  },
  {
   "cell_type": "code",
   "execution_count": 39,
   "metadata": {
    "collapsed": false
   },
   "outputs": [
    {
     "name": "stdout",
     "output_type": "stream",
     "text": [
      "category 1: 1062 / 6711 (old: 336)\n",
      "category 3: 639 / 5055 (old: 144)\n",
      "category 2: 792 / 5154 (old: 0)\n",
      "category 5: 684 / 6825 (old: 93)\n",
      "category 4: 411 / 6825 (old: 153)\n"
     ]
    }
   ],
   "source": [
    "high_precision_start = datetime.strptime(\"2016-07-28 19:44:15\",\"%Y-%m-%d %H:%M:%S\")\n",
    "\n",
    "frames_background = []\n",
    "for category in training_set.keys():\n",
    "    count = 0\n",
    "    old_camera_count = 0\n",
    "    for frame in training_set[category]:\n",
    "        name_of_video = os.path.basename(os.path.dirname(frame))\n",
    "\n",
    "        # str_date_of_video = 2016-06-20T18%3A46%3A22\n",
    "        str_date_of_video = \"T\".join(os.path.splitext(name_of_video)[0].split(\"_\")[-2:])\n",
    "\n",
    "        # date_of_video = datetime(2016-06-20 18:46:22)\n",
    "        date_of_video = datetime.strptime(str_date_of_video,\"%Y-%m-%dT%H%%3A%M%%3A%S\")\n",
    "\n",
    "        #convert to argentinian date\n",
    "        date_of_video -= timedelta(hours=3)\n",
    "\n",
    "        if \"black5\" in name_of_video:\n",
    "            old_camera_count +=1\n",
    "                \n",
    "        if date_of_video >= high_precision_start:\n",
    "            count += 1\n",
    "                \n",
    "            if category == \"5\":\n",
    "                frames_background.append(frame)\n",
    "    print \"category %s: %d / %d (old: %d)\" % (category, count, len(training_set[category]), old_camera_count)\n",
    "            "
   ]
  },
  {
   "cell_type": "code",
   "execution_count": 30,
   "metadata": {
    "collapsed": false
   },
   "outputs": [
    {
     "data": {
      "image/png": "[encoded data removed]",
      "text/plain": [
       "<PIL.PngImagePlugin.PngImageFile image mode=RGB size=257x257 at 0x7FE3F0202A90>"
      ]
     },
     "execution_count": 30,
     "metadata": {},
     "output_type": "execute_result"
    }
   ],
   "source": [
    "img = Image.open(os.path.join(\"/media/Gui2/thermix/dataset_merged\",frames_background[10]))\n",
    "img"
   ]
  },
  {
   "cell_type": "code",
   "execution_count": null,
   "metadata": {
    "collapsed": true
   },
   "outputs": [],
   "source": []
  }
 ],
 "metadata": {
  "kernelspec": {
   "display_name": "Python 2",
   "language": "python",
   "name": "python2"
  },
  "language_info": {
   "codemirror_mode": {
    "name": "ipython",
    "version": 2
   },
   "file_extension": ".py",
   "mimetype": "text/x-python",
   "name": "python",
   "nbconvert_exporter": "python",
   "pygments_lexer": "ipython2",
   "version": "2.7.6"
  }
 },
 "nbformat": 4,
 "nbformat_minor": 0
}
